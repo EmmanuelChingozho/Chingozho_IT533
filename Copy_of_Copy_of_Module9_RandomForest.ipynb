{
  "nbformat": 4,
  "nbformat_minor": 0,
  "metadata": {
    "colab": {
      "name": "Copy of Copy of Module9_RandomForest.ipynb",
      "provenance": [],
      "collapsed_sections": [],
      "toc_visible": true,
      "include_colab_link": true
    },
    "kernelspec": {
      "name": "python3",
      "display_name": "Python 3"
    }
  },
  "cells": [
    {
      "cell_type": "markdown",
      "metadata": {
        "id": "view-in-github",
        "colab_type": "text"
      },
      "source": [
        "<a href=\"https://colab.research.google.com/github/EmmanuelChingozho/Chingozho_IT533/blob/main/Copy_of_Copy_of_Module9_RandomForest.ipynb\" target=\"_parent\"><img src=\"https://colab.research.google.com/assets/colab-badge.svg\" alt=\"Open In Colab\"/></a>"
      ]
    },
    {
      "cell_type": "markdown",
      "metadata": {
        "id": "J9GyaufTuK6F"
      },
      "source": [
        "#**Module 9: Random Forest Classification**\n",
        "\n",
        "In this notebook, we are going to set up a Random Forest model in Python. At the end of this module, you will be able to:\n",
        "\n",
        "* Explain what Random Forest does\n",
        "* Build and evaluate a Random Forest\n",
        "\n",
        "**Be sure to expand all the hidden cells, run all the code, and do all the exercises--you will need the techniques for the lesson lab!**\n",
        "\n",
        "\n"
      ]
    },
    {
      "cell_type": "markdown",
      "metadata": {
        "id": "Ypv23z_l-Vx7"
      },
      "source": [
        "#**What is Random Forest?**\n",
        "For the previous module on simple tree construction, there's a chance that each of you have slightly different numeric results. Why? Because the sampling to produce the training and test sets is random. So, while performing the train_test_split, each student built the model based on a somewhat different training set. This means that each student's model is also slightly different from that of her peers. \n",
        "\n",
        "So, whose results are the actual, real results, then?\n",
        "\n",
        "The answer is: We really can't tell. Each tree that each student built has some validity, and we can have some confidence in its final predictions. \n",
        "\n",
        "But wouldn't it be great if we could have more confidence and come to a better overall result for the entire class? That's what the popular Random Forest algorithm does.\n",
        "\n",
        "Random Forest doesn't build just one tree--it builds an entire classroom full of trees, each one of which is based on a slightly different training set (which is, in fact, a small randomized subset of the big overall training set). To save processing power, Random Forest then picks just a random few of the attributes to consider when building each tree, so that no two trees are based on the same attributes. Finally, Random Forest evaluates all the trees it has constructed and, for a given prediction, outputs the class assignment that is the mode of the classes (classification) or, if you run it as a regression tree, the mean prediction (regression) of the individual trees.\n",
        "\n",
        "<div>\n",
        "<img src=\"https://raw.githubusercontent.com/shstreuber/Data-Mining/master/images/randomforest2.png\" width=\"600\">\n",
        "</div>\n",
        "\n",
        "So, we have:\n",
        "* A number of trees\n",
        "* Using a random subset of features in the dataset to make their split decisions\n",
        "* Built on a number of slightly different training subsets, selected as random samples with replacement (= bootstrap aggregating or bagging) from the overall training set\n",
        "* A voting function that selects the mode of the classes (classification or the mean prediction (regression)\n",
        "\n",
        "In other words, we introduce dual randomness into our classification in order to pick the best model from the places where all the individual trees overlap. That leaves us with much greater accuracy for our model.\n",
        "\n",
        "We are working with the [RandomForestClassifier](https://scikit-learn.org/stable/modules/generated/sklearn.ensemble.RandomForestClassifier.html) from the scikit-learn package.\n"
      ]
    },
    {
      "cell_type": "markdown",
      "metadata": {
        "id": "L8t8Ncq1E8NB"
      },
      "source": [
        "#**0. Preparation and Setup**\n",
        "As before, we are following the basic classification steps:\n",
        "\n",
        "1. Exploratory Data Analysis to see how the data is distributed and to determine what the class attribute in the dataset should be. This will be the attribute you'll predict later on\n",
        "2. Preprocess the data (remove n/a, transform data types as needed, deal with missing data) and ensure that the dependent attribute is CATEGORICAL\n",
        "3. Split the data into a training set and a test set\n",
        "4. Build the model based on the training set\n",
        "5. Test the model on the test set \n",
        "6. Determine the quality of the model with the help of a Confusion Matrix and a Classification Report.\n",
        "\n",
        "As with our previous problems, we will use the insurance dataset again."
      ]
    },
    {
      "cell_type": "code",
      "metadata": {
        "id": "FkfMtiHGwLo0",
        "colab": {
          "base_uri": "https://localhost:8080/",
          "height": 258
        },
        "outputId": "cb9e710e-068b-41c3-afa0-08f7335c296b"
      },
      "source": [
        "import numpy as np\n",
        "import pandas as pd \n",
        "import matplotlib.pyplot as plt\n",
        "from scipy import spatial\n",
        "import statsmodels.api as sm\n",
        "from sklearn.ensemble import RandomForestClassifier\n",
        "from sklearn.model_selection import train_test_split\n",
        "from sklearn.metrics import accuracy_score\n",
        "import warnings\n",
        "warnings.filterwarnings(\"ignore\")\n",
        "np.random.seed(42)\n",
        "\n",
        "from IPython.display import HTML # This is just for me so I can embed videos\n",
        "from IPython.display import Image # This is just for me so I can embed images\n",
        "\n",
        "#Reading in the data as insurance dataframe\n",
        "insurance = pd.read_csv(\"https://raw.githubusercontent.com/shstreuber/Data-Mining/master/data/insurance_with_categories.csv\")\n",
        "\n",
        "#Verifying that we can see the data\n",
        "insurance.head()"
      ],
      "execution_count": null,
      "outputs": [
        {
          "output_type": "stream",
          "name": "stderr",
          "text": [
            "/usr/local/lib/python3.7/dist-packages/statsmodels/tools/_testing.py:19: FutureWarning: pandas.util.testing is deprecated. Use the functions in the public API at pandas.testing instead.\n",
            "  import pandas.util.testing as tm\n"
          ]
        },
        {
          "output_type": "execute_result",
          "data": {
            "text/html": [
              "<div>\n",
              "<style scoped>\n",
              "    .dataframe tbody tr th:only-of-type {\n",
              "        vertical-align: middle;\n",
              "    }\n",
              "\n",
              "    .dataframe tbody tr th {\n",
              "        vertical-align: top;\n",
              "    }\n",
              "\n",
              "    .dataframe thead th {\n",
              "        text-align: right;\n",
              "    }\n",
              "</style>\n",
              "<table border=\"1\" class=\"dataframe\">\n",
              "  <thead>\n",
              "    <tr style=\"text-align: right;\">\n",
              "      <th></th>\n",
              "      <th>age</th>\n",
              "      <th>sex</th>\n",
              "      <th>bmi</th>\n",
              "      <th>children</th>\n",
              "      <th>smoker</th>\n",
              "      <th>region</th>\n",
              "      <th>charges</th>\n",
              "    </tr>\n",
              "  </thead>\n",
              "  <tbody>\n",
              "    <tr>\n",
              "      <th>0</th>\n",
              "      <td>19</td>\n",
              "      <td>female</td>\n",
              "      <td>27.900</td>\n",
              "      <td>0</td>\n",
              "      <td>yes</td>\n",
              "      <td>southwest</td>\n",
              "      <td>16884.92400</td>\n",
              "    </tr>\n",
              "    <tr>\n",
              "      <th>1</th>\n",
              "      <td>18</td>\n",
              "      <td>male</td>\n",
              "      <td>33.770</td>\n",
              "      <td>1</td>\n",
              "      <td>no</td>\n",
              "      <td>southeast</td>\n",
              "      <td>1725.55230</td>\n",
              "    </tr>\n",
              "    <tr>\n",
              "      <th>2</th>\n",
              "      <td>28</td>\n",
              "      <td>male</td>\n",
              "      <td>33.000</td>\n",
              "      <td>3</td>\n",
              "      <td>no</td>\n",
              "      <td>southeast</td>\n",
              "      <td>4449.46200</td>\n",
              "    </tr>\n",
              "    <tr>\n",
              "      <th>3</th>\n",
              "      <td>33</td>\n",
              "      <td>male</td>\n",
              "      <td>22.705</td>\n",
              "      <td>0</td>\n",
              "      <td>no</td>\n",
              "      <td>northwest</td>\n",
              "      <td>21984.47061</td>\n",
              "    </tr>\n",
              "    <tr>\n",
              "      <th>4</th>\n",
              "      <td>32</td>\n",
              "      <td>male</td>\n",
              "      <td>28.880</td>\n",
              "      <td>0</td>\n",
              "      <td>no</td>\n",
              "      <td>northwest</td>\n",
              "      <td>3866.85520</td>\n",
              "    </tr>\n",
              "  </tbody>\n",
              "</table>\n",
              "</div>"
            ],
            "text/plain": [
              "   age     sex     bmi  children smoker     region      charges\n",
              "0   19  female  27.900         0    yes  southwest  16884.92400\n",
              "1   18    male  33.770         1     no  southeast   1725.55230\n",
              "2   28    male  33.000         3     no  southeast   4449.46200\n",
              "3   33    male  22.705         0     no  northwest  21984.47061\n",
              "4   32    male  28.880         0     no  northwest   3866.85520"
            ]
          },
          "metadata": {},
          "execution_count": 1
        }
      ]
    },
    {
      "cell_type": "markdown",
      "metadata": {
        "id": "iIgPPPy1HHof"
      },
      "source": [
        "#**1. Exploratory Data Analysis (EDA)**\n",
        "As before, we have the option to either do this in a code cell, or to import the HTML-based pandas_profile package. \n",
        "\n",
        "Test your EDA skills below:"
      ]
    },
    {
      "cell_type": "code",
      "metadata": {
        "id": "ryy4rOG4Hpli",
        "colab": {
          "base_uri": "https://localhost:8080/"
        },
        "outputId": "f1fdec0a-7862-4df3-ac90-4e2af591b8a5"
      },
      "source": [
        "insurance.describe(include = 'all'), print(\"***DATA OVERVIEW***\")# Build a data summary for ALL data in the set (not just numeric!)"
      ],
      "execution_count": null,
      "outputs": [
        {
          "output_type": "stream",
          "name": "stdout",
          "text": [
            "***DATA OVERVIEW***\n"
          ]
        },
        {
          "output_type": "execute_result",
          "data": {
            "text/plain": [
              "(                age   sex          bmi  ...  smoker     region       charges\n",
              " count   1338.000000  1338  1338.000000  ...    1338       1338   1338.000000\n",
              " unique          NaN     2          NaN  ...       2          4           NaN\n",
              " top             NaN  male          NaN  ...      no  southeast           NaN\n",
              " freq            NaN   676          NaN  ...    1064        364           NaN\n",
              " mean      39.207025   NaN    30.663397  ...     NaN        NaN  13270.422265\n",
              " std       14.049960   NaN     6.098187  ...     NaN        NaN  12110.011237\n",
              " min       18.000000   NaN    15.960000  ...     NaN        NaN   1121.873900\n",
              " 25%       27.000000   NaN    26.296250  ...     NaN        NaN   4740.287150\n",
              " 50%       39.000000   NaN    30.400000  ...     NaN        NaN   9382.033000\n",
              " 75%       51.000000   NaN    34.693750  ...     NaN        NaN  16639.912515\n",
              " max       64.000000   NaN    53.130000  ...     NaN        NaN  63770.428010\n",
              " \n",
              " [11 rows x 7 columns], None)"
            ]
          },
          "metadata": {},
          "execution_count": 2
        }
      ]
    },
    {
      "cell_type": "code",
      "metadata": {
        "colab": {
          "base_uri": "https://localhost:8080/"
        },
        "id": "GbiFA_LoEned",
        "outputId": "0ca84b87-e301-4872-bd43-41d5086ac63e"
      },
      "source": [
        "insurance.dtypes"
      ],
      "execution_count": null,
      "outputs": [
        {
          "output_type": "execute_result",
          "data": {
            "text/plain": [
              "age           int64\n",
              "sex          object\n",
              "bmi         float64\n",
              "children      int64\n",
              "smoker       object\n",
              "region       object\n",
              "charges     float64\n",
              "dtype: object"
            ]
          },
          "metadata": {},
          "execution_count": 3
        }
      ]
    },
    {
      "cell_type": "code",
      "metadata": {
        "colab": {
          "base_uri": "https://localhost:8080/"
        },
        "id": "Zy7vAQWgFDk1",
        "outputId": "2167efcf-9d6c-4d78-d65f-8d5e96d83af6"
      },
      "source": [
        "insurance.corr(), print(\"***DATA CORRELATIONS\")"
      ],
      "execution_count": null,
      "outputs": [
        {
          "output_type": "stream",
          "name": "stdout",
          "text": [
            "***DATA CORRELATIONS\n"
          ]
        },
        {
          "output_type": "execute_result",
          "data": {
            "text/plain": [
              "(               age       bmi  children   charges\n",
              " age       1.000000  0.109272  0.042469  0.299008\n",
              " bmi       0.109272  1.000000  0.012759  0.198341\n",
              " children  0.042469  0.012759  1.000000  0.067998\n",
              " charges   0.299008  0.198341  0.067998  1.000000, None)"
            ]
          },
          "metadata": {},
          "execution_count": 4
        }
      ]
    },
    {
      "cell_type": "code",
      "metadata": {
        "id": "QBvEnb0UHyFW",
        "colab": {
          "base_uri": "https://localhost:8080/",
          "height": 546
        },
        "outputId": "b3328398-38d1-468c-ba78-615987a0b676"
      },
      "source": [
        "# Build a histogram for the numeric values\n",
        "insurance.hist()\n",
        "insurance.plot()"
      ],
      "execution_count": null,
      "outputs": [
        {
          "output_type": "execute_result",
          "data": {
            "text/plain": [
              "<matplotlib.axes._subplots.AxesSubplot at 0x7f88fcfee810>"
            ]
          },
          "metadata": {},
          "execution_count": 5
        },
        {
          "output_type": "display_data",
          "data": {
            "image/png": "[encoded data removed]",
            "text/plain": [
              "<Figure size 432x288 with 4 Axes>"
            ]
          },
          "metadata": {
            "needs_background": "light"
          }
        },
        {
          "output_type": "display_data",
          "data": {
            "image/png": "[encoded data removed]",
            "text/plain": [
              "<Figure size 432x288 with 1 Axes>"
            ]
          },
          "metadata": {
            "needs_background": "light"
          }
        }
      ]
    },
    {
      "cell_type": "code",
      "metadata": {
        "id": "qxHMM_OAH2TL",
        "colab": {
          "base_uri": "https://localhost:8080/",
          "height": 265
        },
        "outputId": "7636ef08-b53d-4385-9a9e-53718b3cbaa5"
      },
      "source": [
        "insurance.groupby('children').size().plot(kind='pie', autopct='%.2f')\n"
      ],
      "execution_count": null,
      "outputs": [
        {
          "output_type": "execute_result",
          "data": {
            "text/plain": [
              "<matplotlib.axes._subplots.AxesSubplot at 0x7f88fca16650>"
            ]
          },
          "metadata": {},
          "execution_count": 6
        },
        {
          "output_type": "display_data",
          "data": {
            "image/png": "[encoded data removed]",
            "text/plain": [
              "<Figure size 432x288 with 1 Axes>"
            ]
          },
          "metadata": {}
        }
      ]
    },
    {
      "cell_type": "markdown",
      "metadata": {
        "id": "--Jl3_R3IGjl"
      },
      "source": [
        "#**2. Preprocessing: Building the Analysis Set**\n",
        "You have done this before. Build an insurance_rf dataset consisting of age, bmi, children, charges, and--again--region as the class attribute."
      ]
    },
    {
      "cell_type": "code",
      "metadata": {
        "id": "x7StpkwSIjwk",
        "colab": {
          "base_uri": "https://localhost:8080/",
          "height": 204
        },
        "outputId": "19830a35-18d9-4603-f4d3-42ab806ee22a"
      },
      "source": [
        "insurance_rf = pd.DataFrame(insurance, columns = ['age', 'bmi', 'children','charges','region'])\n",
        "insurance_rf.head()"
      ],
      "execution_count": null,
      "outputs": [
        {
          "output_type": "execute_result",
          "data": {
            "text/html": [
              "<div>\n",
              "<style scoped>\n",
              "    .dataframe tbody tr th:only-of-type {\n",
              "        vertical-align: middle;\n",
              "    }\n",
              "\n",
              "    .dataframe tbody tr th {\n",
              "        vertical-align: top;\n",
              "    }\n",
              "\n",
              "    .dataframe thead th {\n",
              "        text-align: right;\n",
              "    }\n",
              "</style>\n",
              "<table border=\"1\" class=\"dataframe\">\n",
              "  <thead>\n",
              "    <tr style=\"text-align: right;\">\n",
              "      <th></th>\n",
              "      <th>age</th>\n",
              "      <th>bmi</th>\n",
              "      <th>children</th>\n",
              "      <th>charges</th>\n",
              "      <th>region</th>\n",
              "    </tr>\n",
              "  </thead>\n",
              "  <tbody>\n",
              "    <tr>\n",
              "      <th>0</th>\n",
              "      <td>19</td>\n",
              "      <td>27.900</td>\n",
              "      <td>0</td>\n",
              "      <td>16884.92400</td>\n",
              "      <td>southwest</td>\n",
              "    </tr>\n",
              "    <tr>\n",
              "      <th>1</th>\n",
              "      <td>18</td>\n",
              "      <td>33.770</td>\n",
              "      <td>1</td>\n",
              "      <td>1725.55230</td>\n",
              "      <td>southeast</td>\n",
              "    </tr>\n",
              "    <tr>\n",
              "      <th>2</th>\n",
              "      <td>28</td>\n",
              "      <td>33.000</td>\n",
              "      <td>3</td>\n",
              "      <td>4449.46200</td>\n",
              "      <td>southeast</td>\n",
              "    </tr>\n",
              "    <tr>\n",
              "      <th>3</th>\n",
              "      <td>33</td>\n",
              "      <td>22.705</td>\n",
              "      <td>0</td>\n",
              "      <td>21984.47061</td>\n",
              "      <td>northwest</td>\n",
              "    </tr>\n",
              "    <tr>\n",
              "      <th>4</th>\n",
              "      <td>32</td>\n",
              "      <td>28.880</td>\n",
              "      <td>0</td>\n",
              "      <td>3866.85520</td>\n",
              "      <td>northwest</td>\n",
              "    </tr>\n",
              "  </tbody>\n",
              "</table>\n",
              "</div>"
            ],
            "text/plain": [
              "   age     bmi  children      charges     region\n",
              "0   19  27.900         0  16884.92400  southwest\n",
              "1   18  33.770         1   1725.55230  southeast\n",
              "2   28  33.000         3   4449.46200  southeast\n",
              "3   33  22.705         0  21984.47061  northwest\n",
              "4   32  28.880         0   3866.85520  northwest"
            ]
          },
          "metadata": {},
          "execution_count": 7
        }
      ]
    },
    {
      "cell_type": "markdown",
      "metadata": {
        "id": "6eHI3YdExeDt"
      },
      "source": [
        "# **3. Building the Training and Test Datasets**\n",
        "As before, we cannot do classification without training and test data. You did this previously. Do it again--we want 20% of the data set as test and 80% as training set."
      ]
    },
    {
      "cell_type": "code",
      "metadata": {
        "id": "Ht6bs3-3xrIN",
        "colab": {
          "base_uri": "https://localhost:8080/"
        },
        "outputId": "7119bce2-1c1f-4e0c-916a-57f2b875eb40"
      },
      "source": [
        "insurance_rf.children.unique()"
      ],
      "execution_count": null,
      "outputs": [
        {
          "output_type": "execute_result",
          "data": {
            "text/plain": [
              "array([0, 1, 3, 2, 5, 4])"
            ]
          },
          "metadata": {},
          "execution_count": 8
        }
      ]
    },
    {
      "cell_type": "code",
      "metadata": {
        "colab": {
          "base_uri": "https://localhost:8080/"
        },
        "id": "Bf37-SDIvWuH",
        "outputId": "c19addb7-667b-428f-b4a2-9330da074667"
      },
      "source": [
        "from sklearn.model_selection import train_test_split\n",
        "x=insurance_rf.iloc[:,:4] # all parameters\n",
        "y=insurance_rf['region'] # class labels 'southwest', 'southeast', 'northwest', 'northeast'\n",
        "X_train, X_test, y_train, y_test =  train_test_split(x,y, random_state=0)                            # COMPLETE THIS LINE!\n",
        "print(\"X_train shape: {}\".format(X_train.shape))\n",
        "print(\"y_test shape: {}\".format(y_test.shape))"
      ],
      "execution_count": null,
      "outputs": [
        {
          "output_type": "stream",
          "name": "stdout",
          "text": [
            "X_train shape: (1003, 4)\n",
            "y_test shape: (335,)\n"
          ]
        }
      ]
    },
    {
      "cell_type": "markdown",
      "metadata": {
        "id": "GdH99xuwyoK-"
      },
      "source": [
        "# **4. Building and Training the Classifier**\n",
        "We are going to use the [RandomForestClassifier from sklearn.ensemble](https://scikit-learn.org/stable/modules/generated/sklearn.ensemble.RandomForestClassifier.html). The RandomForestClassifier has a number of really interesting parameters that we can control in order to optimize our model to run quickly and efficiently, especially the sub-sample size, which is controlled with the max_samples parameter if bootstrap=True (default), otherwise the whole dataset is used to build each tree."
      ]
    },
    {
      "cell_type": "markdown",
      "metadata": {
        "id": "5DrXRCY0Kpfb"
      },
      "source": [
        "##**4.1 Building the Classifier**\n",
        "\n",
        "The most important parameters are:\n",
        "* n_estimators int, default=100 --\n",
        "The number of trees in the forest.\n",
        "* criterion{“gini”, “entropy”}, default=”gini” -- \n",
        "The function to measure the quality of a split. Supported criteria are “gini” for the Gini impurity and “entropy” for the information gain. Note: this parameter is tree-specific.\n",
        "* max_features{“auto”, “sqrt”, “log2”}, int or float, default=”auto” -- \n",
        "The number of features to consider when looking for the best split: If int, then consider max_features features at each split. If “auto”, then max_features=sqrt(n_features). If “log2”, then max_features=log2(n_features).\n",
        "If None, then max_features=n_features.\n",
        "* max_depthint, default=None -- \n",
        "The maximum depth of the tree. If None, then nodes are expanded until all leaves are pure or until all leaves contain less than min_samples_split samples.\n",
        "* min_samples_split int or float, default=2\n",
        "The minimum number of samples required to split an internal node\n",
        "* bootstrap bool, default=True -- Whether bootstrap samples are used when building trees (which is 50% of the whole idea behind Random Forest). If False, the whole dataset is used to build each tree.\n",
        "\n",
        "Let's get started!"
      ]
    },
    {
      "cell_type": "code",
      "metadata": {
        "id": "cZPJawY-ykUv",
        "colab": {
          "base_uri": "https://localhost:8080/"
        },
        "outputId": "55c3ff88-a93e-438a-93ce-c90239017d42"
      },
      "source": [
        "# Configuring the classifier and using get_params to double-check all the parameters with which it is configured\n",
        "\n",
        "rf = RandomForestClassifier()\n",
        "rf.get_params"
      ],
      "execution_count": null,
      "outputs": [
        {
          "output_type": "execute_result",
          "data": {
            "text/plain": [
              "<bound method BaseEstimator.get_params of RandomForestClassifier(bootstrap=True, ccp_alpha=0.0, class_weight=None,\n",
              "                       criterion='gini', max_depth=None, max_features='auto',\n",
              "                       max_leaf_nodes=None, max_samples=None,\n",
              "                       min_impurity_decrease=0.0, min_impurity_split=None,\n",
              "                       min_samples_leaf=1, min_samples_split=2,\n",
              "                       min_weight_fraction_leaf=0.0, n_estimators=100,\n",
              "                       n_jobs=None, oob_score=False, random_state=None,\n",
              "                       verbose=0, warm_start=False)>"
            ]
          },
          "metadata": {},
          "execution_count": 10
        }
      ]
    },
    {
      "cell_type": "code",
      "metadata": {
        "colab": {
          "base_uri": "https://localhost:8080/"
        },
        "id": "CmzAkEh7dKNM",
        "outputId": "6e9187fa-2fba-45c3-c8cd-923c0fe17600"
      },
      "source": [
        "from sklearn.model_selection import train_test_split\n",
        "x=insurance_rf.iloc[:,:4] # all parameters\n",
        "y=insurance_rf['region'] # class labels 'southwest', 'southeast', 'northwest', 'northeast'\n",
        "X_train, X_test, y_train, y_test =  train_test_split(x,y, random_state=0)                            # COMPLETE THIS LINE!\n",
        "print(\"X_train shape: {}\".format(X_train.shape))\n",
        "print(\"y_test shape: {}\".format(y_test.shape))"
      ],
      "execution_count": null,
      "outputs": [
        {
          "output_type": "stream",
          "name": "stdout",
          "text": [
            "X_train shape: (1003, 4)\n",
            "y_test shape: (335,)\n"
          ]
        }
      ]
    },
    {
      "cell_type": "code",
      "metadata": {
        "id": "9KO3l6zqcnRQ"
      },
      "source": [
        "rf =RandomForestClassifier(criterion='entropy')"
      ],
      "execution_count": null,
      "outputs": []
    },
    {
      "cell_type": "markdown",
      "metadata": {
        "id": "O__ilTPrKzHw"
      },
      "source": [
        "##**4.2 Training the Classifier**\n",
        "Just like before, we are using .fit() to train our classifier! Remember that we named it rf. You'll want your training data inside the parentheses.\n",
        "\n",
        "Give it a shot below!"
      ]
    },
    {
      "cell_type": "code",
      "metadata": {
        "id": "pXyCMXBzLLBL",
        "colab": {
          "base_uri": "https://localhost:8080/"
        },
        "outputId": "64b61706-0252-4470-c107-15abc92b8b99"
      },
      "source": [
        "rf.fit(X_train,y_train)"
      ],
      "execution_count": null,
      "outputs": [
        {
          "output_type": "execute_result",
          "data": {
            "text/plain": [
              "RandomForestClassifier(bootstrap=True, ccp_alpha=0.0, class_weight=None,\n",
              "                       criterion='entropy', max_depth=None, max_features='auto',\n",
              "                       max_leaf_nodes=None, max_samples=None,\n",
              "                       min_impurity_decrease=0.0, min_impurity_split=None,\n",
              "                       min_samples_leaf=1, min_samples_split=2,\n",
              "                       min_weight_fraction_leaf=0.0, n_estimators=100,\n",
              "                       n_jobs=None, oob_score=False, random_state=None,\n",
              "                       verbose=0, warm_start=False)"
            ]
          },
          "metadata": {},
          "execution_count": 28
        }
      ]
    },
    {
      "cell_type": "markdown",
      "metadata": {
        "id": "geS3TgBALL9z"
      },
      "source": [
        "Just incase you're lost: The solutions are posted at the end of this workbook."
      ]
    },
    {
      "cell_type": "markdown",
      "metadata": {
        "id": "43eGwtTNQGuQ"
      },
      "source": [
        "# **5. Use the Classifier to test and predict**\n",
        "There is nothing different about the steps below than what you have already done. Uncomment the second line starting with \"print\" if you would like to see the output of your predictions."
      ]
    },
    {
      "cell_type": "code",
      "metadata": {
        "id": "17nL0-SYQBmC"
      },
      "source": [
        "y_pred = rf.predict(X_test)\n",
        "# print(y_pred) # If you want to see the big long list, uncomment this line!"
      ],
      "execution_count": null,
      "outputs": []
    },
    {
      "cell_type": "markdown",
      "metadata": {
        "id": "XWfQmlvBQoq_"
      },
      "source": [
        "# **6. Evaluate the Quality of the Model**\n",
        "Again, we will look at the following:\n",
        "1. Accuracy score\n",
        "2. Confusion matrix\n",
        "3. Classification Report\n",
        "\n",
        "The interesting part will be to see if any of the predictions have improved from the simple tree model in the previous module."
      ]
    },
    {
      "cell_type": "code",
      "metadata": {
        "id": "h73LaKzLQzMR",
        "colab": {
          "base_uri": "https://localhost:8080/"
        },
        "outputId": "a47dae4c-62ba-41be-ffcd-ad346515a214"
      },
      "source": [
        "# First, the accuracy score\n",
        "accuracy_score(y_test, y_pred)"
      ],
      "execution_count": null,
      "outputs": [
        {
          "output_type": "execute_result",
          "data": {
            "text/plain": [
              "0.33134328358208953"
            ]
          },
          "metadata": {},
          "execution_count": 30
        }
      ]
    },
    {
      "cell_type": "markdown",
      "metadata": {
        "id": "jrLQHFFHNtPT"
      },
      "source": [
        "What was the accuracy score for the simple tree? Did using Random Forest improve it? Record your observations below."
      ]
    },
    {
      "cell_type": "markdown",
      "metadata": {
        "id": "4gdah7AcN0x6"
      },
      "source": [
        "Improved a little bit from 31% to 33%"
      ]
    },
    {
      "cell_type": "code",
      "metadata": {
        "id": "PjkZplnfRHrP",
        "colab": {
          "base_uri": "https://localhost:8080/",
          "height": 385
        },
        "outputId": "4475c27c-faa6-4125-dd53-39295f3892fe"
      },
      "source": [
        "# Next, the Confusion Matrix\n",
        "from sklearn.metrics import plot_confusion_matrix\n",
        "plot_confusion_matrix(rf, X_test, y_test)\n",
        "y_train.head()"
      ],
      "execution_count": null,
      "outputs": [
        {
          "output_type": "execute_result",
          "data": {
            "text/plain": [
              "1075    southeast\n",
              "131     northeast\n",
              "15      southwest\n",
              "1223    southeast\n",
              "1137    northwest\n",
              "Name: region, dtype: object"
            ]
          },
          "metadata": {},
          "execution_count": 31
        },
        {
          "output_type": "display_data",
          "data": {
            "image/png": "[encoded data removed]",
            "text/plain": [
              "<Figure size 432x288 with 2 Axes>"
            ]
          },
          "metadata": {
            "needs_background": "light"
          }
        }
      ]
    },
    {
      "cell_type": "markdown",
      "metadata": {
        "id": "h5VWCR5hOpAk"
      },
      "source": [
        "What did the Confusion Matrix look like for the simple tree? What differences do you notice? Record your observations in the field below."
      ]
    },
    {
      "cell_type": "markdown",
      "metadata": {
        "id": "j6aYGkqdA2vz"
      },
      "source": [
        "The prediction is almost the same no signiificant change."
      ]
    },
    {
      "cell_type": "markdown",
      "metadata": {
        "id": "_T8LhaHYO0my"
      },
      "source": [
        ""
      ]
    },
    {
      "cell_type": "code",
      "metadata": {
        "id": "61_SAbqjRosa",
        "colab": {
          "base_uri": "https://localhost:8080/"
        },
        "outputId": "233eb060-5949-4719-f91e-dec2a255134a"
      },
      "source": [
        "# Finally, the Classification Report\n",
        "import sklearn.metrics as metrics\n",
        "from sklearn.metrics import classification_report\n",
        "\n",
        "print(metrics.classification_report(y_test, y_pred, labels=['southwest', 'southeast', 'northwest', 'northeast']))"
      ],
      "execution_count": null,
      "outputs": [
        {
          "output_type": "stream",
          "name": "stdout",
          "text": [
            "              precision    recall  f1-score   support\n",
            "\n",
            "   southwest       0.20      0.25      0.22        64\n",
            "   southeast       0.39      0.45      0.42        88\n",
            "   northwest       0.28      0.25      0.26        87\n",
            "   northeast       0.46      0.34      0.39        96\n",
            "\n",
            "    accuracy                           0.33       335\n",
            "   macro avg       0.33      0.33      0.32       335\n",
            "weighted avg       0.34      0.33      0.33       335\n",
            "\n"
          ]
        }
      ]
    },
    {
      "cell_type": "markdown",
      "metadata": {
        "id": "XYp9xLc8PzQg"
      },
      "source": [
        "Again, compare this output with the output for the simple tree. What are the differences? Overall, would you say that Random Forest works better? Or, given that we're doing a whole lot more processing, is any improvement worth it? Record your answer below."
      ]
    },
    {
      "cell_type": "markdown",
      "metadata": {
        "id": "-AgmJvrhQMhL"
      },
      "source": [
        ""
      ]
    },
    {
      "cell_type": "markdown",
      "metadata": {
        "id": "cJvlXK59SCzn"
      },
      "source": [
        "# **What If ...**\n",
        "So far, we have used only the default settings on the Random Forest algorithm. What if we play with different configuration settings, such as the number of trees? Or the depth of the trees? Or the minimum samples required to split?"
      ]
    },
    {
      "cell_type": "markdown",
      "metadata": {
        "id": "cLWRE7YTQ2g8"
      },
      "source": [
        "First, let's set up the parameters as variables so that we can easily change them:"
      ]
    },
    {
      "cell_type": "code",
      "metadata": {
        "id": "yHWW2X3PSXpk"
      },
      "source": [
        "# We are setting up the n_estimators and other configuration parameters so that we can easily change them\n",
        "# Feel free to comment any of these out or change the values and re-run the cells below to see how this changes the result\n",
        "n_estimators = 10000 # This is the number of different trees to build; default was 100; we are increasing this number tenfold.\n",
        "min_samples_split = 5 # Previously, we ran this with the default split of 2\n",
        "criterion='entropy' # This is for Information Gain; previously, we ran this with the Gini Index"
      ],
      "execution_count": null,
      "outputs": []
    },
    {
      "cell_type": "markdown",
      "metadata": {
        "id": "zX24q5UgRBtF"
      },
      "source": [
        "Then, let's build the classifier again, now with the different settings."
      ]
    },
    {
      "cell_type": "code",
      "metadata": {
        "colab": {
          "base_uri": "https://localhost:8080/"
        },
        "id": "lPzlGhOxRHGc",
        "outputId": "9670175d-beb4-48ad-e649-2099c316e566"
      },
      "source": [
        "rf2 = RandomForestClassifier(verbose=1, n_estimators=n_estimators, min_samples_split=min_samples_split, criterion=criterion)\n",
        "rf2.fit(X_train, y_train)"
      ],
      "execution_count": null,
      "outputs": [
        {
          "output_type": "stream",
          "name": "stderr",
          "text": [
            "[Parallel(n_jobs=1)]: Using backend SequentialBackend with 1 concurrent workers.\n",
            "[Parallel(n_jobs=1)]: Done 10000 out of 10000 | elapsed:   40.5s finished\n"
          ]
        },
        {
          "output_type": "execute_result",
          "data": {
            "text/plain": [
              "RandomForestClassifier(bootstrap=True, ccp_alpha=0.0, class_weight=None,\n",
              "                       criterion='entropy', max_depth=None, max_features='auto',\n",
              "                       max_leaf_nodes=None, max_samples=None,\n",
              "                       min_impurity_decrease=0.0, min_impurity_split=None,\n",
              "                       min_samples_leaf=1, min_samples_split=5,\n",
              "                       min_weight_fraction_leaf=0.0, n_estimators=10000,\n",
              "                       n_jobs=None, oob_score=False, random_state=None,\n",
              "                       verbose=1, warm_start=False)"
            ]
          },
          "metadata": {},
          "execution_count": 34
        }
      ]
    },
    {
      "cell_type": "markdown",
      "metadata": {
        "id": "xOkCsPkSS3QZ"
      },
      "source": [
        "Time to predict and evaluate with accuracy score, Confusion Matrix, and Classification Report!"
      ]
    },
    {
      "cell_type": "code",
      "metadata": {
        "id": "a3IlVkRHT8y8",
        "colab": {
          "base_uri": "https://localhost:8080/",
          "height": 551
        },
        "outputId": "d03e3bfc-aa13-4733-e2e9-9fe6f7ec2176"
      },
      "source": [
        "# Testing and predicting\n",
        "y_pred = rf2.predict(X_test)\n",
        "\n",
        "print(accuracy_score(y_test, y_pred))\n",
        "plot_confusion_matrix(rf2, X_test, y_test)\n",
        "print(metrics.classification_report(y_test, y_pred, labels=['southwest', 'southeast', 'northwest', 'northeast']))"
      ],
      "execution_count": null,
      "outputs": [
        {
          "output_type": "stream",
          "name": "stderr",
          "text": [
            "[Parallel(n_jobs=1)]: Using backend SequentialBackend with 1 concurrent workers.\n",
            "[Parallel(n_jobs=1)]: Done 10000 out of 10000 | elapsed:    1.5s finished\n",
            "[Parallel(n_jobs=1)]: Using backend SequentialBackend with 1 concurrent workers.\n"
          ]
        },
        {
          "output_type": "stream",
          "name": "stdout",
          "text": [
            "0.33432835820895523\n"
          ]
        },
        {
          "output_type": "stream",
          "name": "stderr",
          "text": [
            "[Parallel(n_jobs=1)]: Done 10000 out of 10000 | elapsed:    1.5s finished\n"
          ]
        },
        {
          "output_type": "stream",
          "name": "stdout",
          "text": [
            "              precision    recall  f1-score   support\n",
            "\n",
            "   southwest       0.20      0.25      0.22        64\n",
            "   southeast       0.38      0.48      0.42        88\n",
            "   northwest       0.28      0.22      0.24        87\n",
            "   northeast       0.47      0.36      0.41        96\n",
            "\n",
            "    accuracy                           0.33       335\n",
            "   macro avg       0.33      0.33      0.32       335\n",
            "weighted avg       0.34      0.33      0.33       335\n",
            "\n"
          ]
        },
        {
          "output_type": "display_data",
          "data": {
            "image/png": "[encoded data removed]",
            "text/plain": [
              "<Figure size 432x288 with 2 Axes>"
            ]
          },
          "metadata": {
            "needs_background": "light"
          }
        }
      ]
    },
    {
      "cell_type": "markdown",
      "metadata": {
        "id": "IoLq379zTCpg"
      },
      "source": [
        "##Your Turn\n",
        "Try this with a number of different settings. Does using 1,000 trees improve the accuracy by a little--or a lot? What about 10,000 trees? \n",
        "\n",
        "Play around with the settings, then record below what you have done and what your results were. Interpret what you're seeing: Is more processing worth it? Or is there a point where we accept the results as \"good enough\"?"
      ]
    },
    {
      "cell_type": "markdown",
      "metadata": {
        "id": "3pS-kgQ8TgvS"
      },
      "source": [
        ""
      ]
    },
    {
      "cell_type": "markdown",
      "metadata": {
        "id": "WIDox2nGTiPY"
      },
      "source": [
        "#**Towards Optimization**\n",
        "You just played with the tree setting manually. What if we could cycle the algorithm through a list of \"number of trees\" settings and see what happens then?\n",
        "\n",
        "All we need is a quick \"for\" loop with a range. This range setting is configured like this:\n",
        "\n",
        "\n",
        "```\n",
        "range(starting_point, termination_point, increment_size)\n",
        "```\n",
        "In other words range(20,200,20) means that we start with 20 trees and go up to 200 in steps of 20. So, we will look at the behavior for 20, 40, 60, 80, 100, 120, 140, 160, 180, and 200 trees. The code is below.\n",
        "\n",
        "\n"
      ]
    },
    {
      "cell_type": "code",
      "metadata": {
        "id": "d4ATX_CUVMxt",
        "colab": {
          "base_uri": "https://localhost:8080/"
        },
        "outputId": "b3881daf-882c-419c-de2d-77a1d8b026b7"
      },
      "source": [
        "# We can even cycle through a number of trees in the Random Forest\n",
        "for n_estimators in range(20,200,20):\n",
        "    print('Accuracy score using n_estimators =', n_estimators, end = ': ')\n",
        "         \n",
        "    rf3 = RandomForestClassifier(n_estimators = n_estimators, verbose=1)\n",
        "    rf3.fit(X_train, y_train)\n",
        "    y_pred = rf3.predict(X_test)\n",
        "    print(accuracy_score(y_test, y_pred))"
      ],
      "execution_count": null,
      "outputs": [
        {
          "output_type": "stream",
          "name": "stdout",
          "text": [
            "Accuracy score using n_estimators = 20: 0.3492537313432836\n",
            "Accuracy score using n_estimators = 40: 0.34626865671641793\n",
            "Accuracy score using n_estimators = 60: "
          ]
        },
        {
          "output_type": "stream",
          "name": "stderr",
          "text": [
            "[Parallel(n_jobs=1)]: Using backend SequentialBackend with 1 concurrent workers.\n",
            "[Parallel(n_jobs=1)]: Done  20 out of  20 | elapsed:    0.1s finished\n",
            "[Parallel(n_jobs=1)]: Using backend SequentialBackend with 1 concurrent workers.\n",
            "[Parallel(n_jobs=1)]: Done  20 out of  20 | elapsed:    0.0s finished\n",
            "[Parallel(n_jobs=1)]: Using backend SequentialBackend with 1 concurrent workers.\n",
            "[Parallel(n_jobs=1)]: Done  40 out of  40 | elapsed:    0.1s finished\n",
            "[Parallel(n_jobs=1)]: Using backend SequentialBackend with 1 concurrent workers.\n",
            "[Parallel(n_jobs=1)]: Done  40 out of  40 | elapsed:    0.0s finished\n",
            "[Parallel(n_jobs=1)]: Using backend SequentialBackend with 1 concurrent workers.\n",
            "[Parallel(n_jobs=1)]: Done  60 out of  60 | elapsed:    0.2s finished\n",
            "[Parallel(n_jobs=1)]: Using backend SequentialBackend with 1 concurrent workers.\n",
            "[Parallel(n_jobs=1)]: Done  60 out of  60 | elapsed:    0.0s finished\n"
          ]
        },
        {
          "output_type": "stream",
          "name": "stdout",
          "text": [
            "0.33432835820895523\n",
            "Accuracy score using n_estimators = 80: "
          ]
        },
        {
          "output_type": "stream",
          "name": "stderr",
          "text": [
            "[Parallel(n_jobs=1)]: Using backend SequentialBackend with 1 concurrent workers.\n",
            "[Parallel(n_jobs=1)]: Done  80 out of  80 | elapsed:    0.2s finished\n",
            "[Parallel(n_jobs=1)]: Using backend SequentialBackend with 1 concurrent workers.\n",
            "[Parallel(n_jobs=1)]: Done  80 out of  80 | elapsed:    0.0s finished\n",
            "[Parallel(n_jobs=1)]: Using backend SequentialBackend with 1 concurrent workers.\n"
          ]
        },
        {
          "output_type": "stream",
          "name": "stdout",
          "text": [
            "0.33134328358208953\n",
            "Accuracy score using n_estimators = 100: "
          ]
        },
        {
          "output_type": "stream",
          "name": "stderr",
          "text": [
            "[Parallel(n_jobs=1)]: Done 100 out of 100 | elapsed:    0.3s finished\n",
            "[Parallel(n_jobs=1)]: Using backend SequentialBackend with 1 concurrent workers.\n",
            "[Parallel(n_jobs=1)]: Done 100 out of 100 | elapsed:    0.0s finished\n",
            "[Parallel(n_jobs=1)]: Using backend SequentialBackend with 1 concurrent workers.\n"
          ]
        },
        {
          "output_type": "stream",
          "name": "stdout",
          "text": [
            "0.3492537313432836\n",
            "Accuracy score using n_estimators = 120: "
          ]
        },
        {
          "output_type": "stream",
          "name": "stderr",
          "text": [
            "[Parallel(n_jobs=1)]: Done 120 out of 120 | elapsed:    0.3s finished\n",
            "[Parallel(n_jobs=1)]: Using backend SequentialBackend with 1 concurrent workers.\n",
            "[Parallel(n_jobs=1)]: Done 120 out of 120 | elapsed:    0.0s finished\n",
            "[Parallel(n_jobs=1)]: Using backend SequentialBackend with 1 concurrent workers.\n"
          ]
        },
        {
          "output_type": "stream",
          "name": "stdout",
          "text": [
            "0.33432835820895523\n",
            "Accuracy score using n_estimators = 140: "
          ]
        },
        {
          "output_type": "stream",
          "name": "stderr",
          "text": [
            "[Parallel(n_jobs=1)]: Done 140 out of 140 | elapsed:    0.3s finished\n",
            "[Parallel(n_jobs=1)]: Using backend SequentialBackend with 1 concurrent workers.\n",
            "[Parallel(n_jobs=1)]: Done 140 out of 140 | elapsed:    0.0s finished\n",
            "[Parallel(n_jobs=1)]: Using backend SequentialBackend with 1 concurrent workers.\n"
          ]
        },
        {
          "output_type": "stream",
          "name": "stdout",
          "text": [
            "0.3402985074626866\n",
            "Accuracy score using n_estimators = 160: "
          ]
        },
        {
          "output_type": "stream",
          "name": "stderr",
          "text": [
            "[Parallel(n_jobs=1)]: Done 160 out of 160 | elapsed:    0.4s finished\n",
            "[Parallel(n_jobs=1)]: Using backend SequentialBackend with 1 concurrent workers.\n",
            "[Parallel(n_jobs=1)]: Done 160 out of 160 | elapsed:    0.0s finished\n",
            "[Parallel(n_jobs=1)]: Using backend SequentialBackend with 1 concurrent workers.\n"
          ]
        },
        {
          "output_type": "stream",
          "name": "stdout",
          "text": [
            "0.3164179104477612\n",
            "Accuracy score using n_estimators = 180: 0.34328358208955223\n"
          ]
        },
        {
          "output_type": "stream",
          "name": "stderr",
          "text": [
            "[Parallel(n_jobs=1)]: Done 180 out of 180 | elapsed:    0.4s finished\n",
            "[Parallel(n_jobs=1)]: Using backend SequentialBackend with 1 concurrent workers.\n",
            "[Parallel(n_jobs=1)]: Done 180 out of 180 | elapsed:    0.0s finished\n"
          ]
        }
      ]
    },
    {
      "cell_type": "markdown",
      "metadata": {
        "id": "wYUPerq3WLg7"
      },
      "source": [
        "How about setting this to 1,000 or even 10,000 trees and seeing the accuracy score change? Go ahead and play with the range setting! Then record below which range setting you think works best for you."
      ]
    },
    {
      "cell_type": "markdown",
      "metadata": {
        "id": "l2JHVonXVE6L"
      },
      "source": [
        "Accuracy scores of 10000 trees has changed but not with a large margin."
      ]
    },
    {
      "cell_type": "markdown",
      "metadata": {
        "id": "5wFvxdHwIm-h"
      },
      "source": [
        "#Solutions (to help you if you get stuck)"
      ]
    },
    {
      "cell_type": "code",
      "metadata": {
        "id": "NcGZVdvaItQ2",
        "colab": {
          "base_uri": "https://localhost:8080/",
          "height": 204
        },
        "outputId": "33a20c8d-b873-4f61-88a1-2f801731d789"
      },
      "source": [
        "# This is the solution for task 2 above. \n",
        "insurance_rf = pd.DataFrame(insurance, columns = ['age', 'bmi', 'children','charges','region'])\n",
        "insurance_rf.head()"
      ],
      "execution_count": null,
      "outputs": [
        {
          "output_type": "execute_result",
          "data": {
            "text/html": [
              "<div>\n",
              "<style scoped>\n",
              "    .dataframe tbody tr th:only-of-type {\n",
              "        vertical-align: middle;\n",
              "    }\n",
              "\n",
              "    .dataframe tbody tr th {\n",
              "        vertical-align: top;\n",
              "    }\n",
              "\n",
              "    .dataframe thead th {\n",
              "        text-align: right;\n",
              "    }\n",
              "</style>\n",
              "<table border=\"1\" class=\"dataframe\">\n",
              "  <thead>\n",
              "    <tr style=\"text-align: right;\">\n",
              "      <th></th>\n",
              "      <th>age</th>\n",
              "      <th>bmi</th>\n",
              "      <th>children</th>\n",
              "      <th>charges</th>\n",
              "      <th>region</th>\n",
              "    </tr>\n",
              "  </thead>\n",
              "  <tbody>\n",
              "    <tr>\n",
              "      <th>0</th>\n",
              "      <td>19</td>\n",
              "      <td>27.900</td>\n",
              "      <td>0</td>\n",
              "      <td>16884.92400</td>\n",
              "      <td>southwest</td>\n",
              "    </tr>\n",
              "    <tr>\n",
              "      <th>1</th>\n",
              "      <td>18</td>\n",
              "      <td>33.770</td>\n",
              "      <td>1</td>\n",
              "      <td>1725.55230</td>\n",
              "      <td>southeast</td>\n",
              "    </tr>\n",
              "    <tr>\n",
              "      <th>2</th>\n",
              "      <td>28</td>\n",
              "      <td>33.000</td>\n",
              "      <td>3</td>\n",
              "      <td>4449.46200</td>\n",
              "      <td>southeast</td>\n",
              "    </tr>\n",
              "    <tr>\n",
              "      <th>3</th>\n",
              "      <td>33</td>\n",
              "      <td>22.705</td>\n",
              "      <td>0</td>\n",
              "      <td>21984.47061</td>\n",
              "      <td>northwest</td>\n",
              "    </tr>\n",
              "    <tr>\n",
              "      <th>4</th>\n",
              "      <td>32</td>\n",
              "      <td>28.880</td>\n",
              "      <td>0</td>\n",
              "      <td>3866.85520</td>\n",
              "      <td>northwest</td>\n",
              "    </tr>\n",
              "  </tbody>\n",
              "</table>\n",
              "</div>"
            ],
            "text/plain": [
              "   age     bmi  children      charges     region\n",
              "0   19  27.900         0  16884.92400  southwest\n",
              "1   18  33.770         1   1725.55230  southeast\n",
              "2   28  33.000         3   4449.46200  southeast\n",
              "3   33  22.705         0  21984.47061  northwest\n",
              "4   32  28.880         0   3866.85520  northwest"
            ]
          },
          "metadata": {},
          "execution_count": 22
        }
      ]
    },
    {
      "cell_type": "code",
      "metadata": {
        "id": "bBZX_ZvfJYRo",
        "colab": {
          "base_uri": "https://localhost:8080/"
        },
        "outputId": "c7383d77-673d-425c-8583-c3bfde5833c1"
      },
      "source": [
        "# This is the solution for task 3 above:\n",
        "from sklearn.model_selection import train_test_split\n",
        "x=insurance_rf.iloc[:,:4] # all parameters\n",
        "y=insurance_rf['region'] # class labels 'southwest', 'southeast', 'northwest', 'northeast'\n",
        "X_train, X_test, y_train, y_test = train_test_split(x, y, test_size = 0.2) \n",
        "print(\"X_train shape: {}\".format(X_train.shape))\n",
        "print(\"X_test shape: {}\".format(X_test.shape))"
      ],
      "execution_count": null,
      "outputs": [
        {
          "output_type": "stream",
          "name": "stdout",
          "text": [
            "X_train shape: (1070, 4)\n",
            "X_test shape: (268, 4)\n"
          ]
        }
      ]
    },
    {
      "cell_type": "code",
      "metadata": {
        "id": "ut7PtU_dOPPO",
        "colab": {
          "base_uri": "https://localhost:8080/"
        },
        "outputId": "ec94f879-f77d-42b5-e80d-40fe39ef2651"
      },
      "source": [
        "# Solution for task 4.2\n",
        "rf.fit(X_train, y_train)"
      ],
      "execution_count": null,
      "outputs": [
        {
          "output_type": "execute_result",
          "data": {
            "text/plain": [
              "RandomForestClassifier(bootstrap=True, ccp_alpha=0.0, class_weight=None,\n",
              "                       criterion='entropy', max_depth=None, max_features='auto',\n",
              "                       max_leaf_nodes=None, max_samples=None,\n",
              "                       min_impurity_decrease=0.0, min_impurity_split=None,\n",
              "                       min_samples_leaf=1, min_samples_split=2,\n",
              "                       min_weight_fraction_leaf=0.0, n_estimators=100,\n",
              "                       n_jobs=None, oob_score=False, random_state=None,\n",
              "                       verbose=0, warm_start=False)"
            ]
          },
          "metadata": {},
          "execution_count": 24
        }
      ]
    }
  ]
}