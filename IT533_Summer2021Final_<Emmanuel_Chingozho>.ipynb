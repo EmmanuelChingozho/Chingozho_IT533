{
  "cells": [
    {
      "cell_type": "markdown",
      "metadata": {
        "id": "view-in-github",
        "colab_type": "text"
      },
      "source": [
        "<a href=\"https://colab.research.google.com/github/EmmanuelChingozho/Chingozho_IT533/blob/main/IT533_Summer2021Final_%3CEmmanuel_Chingozho%3E.ipynb\" target=\"_parent\"><img src=\"https://colab.research.google.com/assets/colab-badge.svg\" alt=\"Open In Colab\"/></a>"
      ]
    },
    {
      "cell_type": "markdown",
      "metadata": {
        "id": "5fCEDCU_qrC0"
      },
      "source": [
        "<p><img alt=\"Colaboratory logo\" height=\"45px\" src=\"/img/colab_favicon.ico\" align=\"left\" hspace=\"10px\" vspace=\"0px\"></p>\n",
        "\n",
        "<h1>What is Colaboratory?</h1>\n",
        "\n",
        "Colaboratory, or \"Colab\" for short, allows you to write and execute Python in your browser, with \n",
        "- Zero configuration required\n",
        "- Free access to GPUs\n",
        "- Easy sharing\n",
        "\n",
        "Whether you're a **student**, a **data scientist** or an **AI researcher**, Colab can make your work easier. Watch [Introduction to Colab](https://www.youtube.com/watch?v=inN8seMm7UI) to learn more, or just get started below!"
      ]
    },
    {
      "cell_type": "markdown",
      "metadata": {
        "id": "GJBs_flRovLc"
      },
      "source": [
        "## **Getting started**\n",
        "\n",
        "The document you are reading is not a static web page, but an interactive environment called a **Colab notebook** that lets you write and execute code.\n",
        "\n",
        "For example, here is a **code cell** with a short Python script that computes a value, stores it in a variable, and prints the result:"
      ]
    },
    {
      "cell_type": "code",
      "execution_count": null,
      "metadata": {
        "colab": {
          "base_uri": "https://localhost:8080/",
          "height": 34
        },
        "id": "gJr_9dXGpJ05",
        "outputId": "9f556d03-ec67-4950-a485-cfdba9ddd14d"
      },
      "outputs": [
        {
          "data": {
            "text/plain": [
              "86400"
            ]
          },
          "execution_count": 0,
          "metadata": {
            "tags": []
          },
          "output_type": "execute_result"
        }
      ],
      "source": [
        "seconds_in_a_day = 24 * 60 * 60\n",
        "seconds_in_a_day"
      ]
    },
    {
      "cell_type": "markdown",
      "metadata": {
        "id": "2fhs6GZ4qFMx"
      },
      "source": [
        "To execute the code in the above cell, select it with a click and then either press the play button to the left of the code, or use the keyboard shortcut \"Command/Ctrl+Enter\". To edit the code, just click the cell and start editing.\n",
        "\n",
        "Variables that you define in one cell can later be used in other cells:"
      ]
    },
    {
      "cell_type": "code",
      "execution_count": null,
      "metadata": {
        "colab": {
          "base_uri": "https://localhost:8080/",
          "height": 34
        },
        "id": "-gE-Ez1qtyIA",
        "outputId": "94cb2224-0edf-457b-90b5-0ac3488d8a97"
      },
      "outputs": [
        {
          "data": {
            "text/plain": [
              "604800"
            ]
          },
          "execution_count": 0,
          "metadata": {
            "tags": []
          },
          "output_type": "execute_result"
        }
      ],
      "source": [
        "seconds_in_a_week = 7 * seconds_in_a_day\n",
        "seconds_in_a_week"
      ]
    },
    {
      "cell_type": "markdown",
      "metadata": {
        "id": "lSrWNr3MuFUS"
      },
      "source": [
        "Colab notebooks allow you to combine **executable code** and **rich text** in a single document, along with **images**, **HTML**, **LaTeX** and more. When you create your own Colab notebooks, they are stored in your Google Drive account. You can easily share your Colab notebooks with co-workers or friends, allowing them to comment on your notebooks or even edit them. To learn more, see [Overview of Colab](/notebooks/basic_features_overview.ipynb). To create a new Colab notebook you can use the File menu above, or use the following link: [create a new Colab notebook](http://colab.research.google.com#create=true).\n",
        "\n",
        "Colab notebooks are Jupyter notebooks that are hosted by Colab. To learn more about the Jupyter project, see [jupyter.org](https://www.jupyter.org)."
      ]
    },
    {
      "cell_type": "markdown",
      "metadata": {
        "id": "UdRyKR44dcNI"
      },
      "source": [
        "## Data science\n",
        "\n",
        "With Colab you can harness the full power of popular Python libraries to analyze and visualize data. The code cell below uses **numpy** to generate some random data, and uses **matplotlib** to visualize it. To edit the code, just click the cell and start editing."
      ]
    },
    {
      "cell_type": "code",
      "execution_count": null,
      "metadata": {
        "id": "C4HZx7Gndbrh"
      },
      "outputs": [],
      "source": [
        "import numpy as np\n",
        "import pandas as pd \n",
        "import matplotlib.pyplot as plt\n",
        "\n",
        "#Reading in the data as Student_perfomance dataframe\n",
        "Student_Performance = pd.read_csv(\"https://raw.githubusercontent.com/shstreuber/Data-Mining/master/data/StudentPerfOnlineColleges.csv\")\n"
      ]
    },
    {
      "cell_type": "code",
      "source": [
        "Student_Performance.dtypes"
      ],
      "metadata": {
        "id": "92rsVMCksYFc",
        "outputId": "df7a0dd8-9853-437a-aa73-02580d1ff120",
        "colab": {
          "base_uri": "https://localhost:8080/"
        }
      },
      "execution_count": null,
      "outputs": [
        {
          "output_type": "execute_result",
          "data": {
            "text/plain": [
              "gender                      object\n",
              "NationalITy                 object\n",
              "PlaceofBirth                object\n",
              "StageID                     object\n",
              "GradeID                     object\n",
              "SectionID                   object\n",
              "Topic                       object\n",
              "Semester                    object\n",
              "Relation                    object\n",
              "raisedhands                  int64\n",
              "VisITedResources             int64\n",
              "AnnouncementsView            int64\n",
              "Discussion                   int64\n",
              "ParentAnsweringSurvey       object\n",
              "ParentschoolSatisfaction    object\n",
              "StudentAbsenceDays          object\n",
              "Class                       object\n",
              "dtype: object"
            ]
          },
          "metadata": {},
          "execution_count": 4
        }
      ]
    },
    {
      "cell_type": "code",
      "source": [
        "\n",
        "MaleSP= Student_Performance[Student_Performance['gender'] == 'M']\n",
        "FemaleSP=  Student_Performance[Student_Performance['gender'] == 'F']\n",
        "\n"
      ],
      "metadata": {
        "id": "GG8L4kOWuHhN"
      },
      "execution_count": null,
      "outputs": []
    },
    {
      "cell_type": "code",
      "source": [
        "MaleSP_2Columns= MaleSP[['raisedhands','VisITedResources']] \n",
        "\n",
        "MaleSP_2Columns.describe()\n"
      ],
      "metadata": {
        "id": "pIqBHNxAwVEY",
        "outputId": "e0d0573e-566f-4de1-c3fd-d45864c6f685",
        "colab": {
          "base_uri": "https://localhost:8080/",
          "height": 300
        }
      },
      "execution_count": null,
      "outputs": [
        {
          "output_type": "execute_result",
          "data": {
            "text/html": [
              "<div>\n",
              "<style scoped>\n",
              "    .dataframe tbody tr th:only-of-type {\n",
              "        vertical-align: middle;\n",
              "    }\n",
              "\n",
              "    .dataframe tbody tr th {\n",
              "        vertical-align: top;\n",
              "    }\n",
              "\n",
              "    .dataframe thead th {\n",
              "        text-align: right;\n",
              "    }\n",
              "</style>\n",
              "<table border=\"1\" class=\"dataframe\">\n",
              "  <thead>\n",
              "    <tr style=\"text-align: right;\">\n",
              "      <th></th>\n",
              "      <th>raisedhands</th>\n",
              "      <th>VisITedResources</th>\n",
              "    </tr>\n",
              "  </thead>\n",
              "  <tbody>\n",
              "    <tr>\n",
              "      <th>count</th>\n",
              "      <td>305.000000</td>\n",
              "      <td>305.000000</td>\n",
              "    </tr>\n",
              "    <tr>\n",
              "      <th>mean</th>\n",
              "      <td>43.281967</td>\n",
              "      <td>49.518033</td>\n",
              "    </tr>\n",
              "    <tr>\n",
              "      <th>std</th>\n",
              "      <td>30.602167</td>\n",
              "      <td>33.543185</td>\n",
              "    </tr>\n",
              "    <tr>\n",
              "      <th>min</th>\n",
              "      <td>0.000000</td>\n",
              "      <td>0.000000</td>\n",
              "    </tr>\n",
              "    <tr>\n",
              "      <th>25%</th>\n",
              "      <td>15.000000</td>\n",
              "      <td>14.000000</td>\n",
              "    </tr>\n",
              "    <tr>\n",
              "      <th>50%</th>\n",
              "      <td>39.000000</td>\n",
              "      <td>52.000000</td>\n",
              "    </tr>\n",
              "    <tr>\n",
              "      <th>75%</th>\n",
              "      <td>72.000000</td>\n",
              "      <td>82.000000</td>\n",
              "    </tr>\n",
              "    <tr>\n",
              "      <th>max</th>\n",
              "      <td>100.000000</td>\n",
              "      <td>98.000000</td>\n",
              "    </tr>\n",
              "  </tbody>\n",
              "</table>\n",
              "</div>"
            ],
            "text/plain": [
              "       raisedhands  VisITedResources\n",
              "count   305.000000        305.000000\n",
              "mean     43.281967         49.518033\n",
              "std      30.602167         33.543185\n",
              "min       0.000000          0.000000\n",
              "25%      15.000000         14.000000\n",
              "50%      39.000000         52.000000\n",
              "75%      72.000000         82.000000\n",
              "max     100.000000         98.000000"
            ]
          },
          "metadata": {},
          "execution_count": 17
        }
      ]
    },
    {
      "cell_type": "code",
      "source": [
        "FemaleSP_2Columns= FemaleSP[['raisedhands','VisITedResources']] \n",
        "\n",
        "FemaleSP_2Columns.describe()"
      ],
      "metadata": {
        "id": "i0F3Rpv4xOB-",
        "outputId": "42e9e5f3-e931-4875-ad12-674ade32bba9",
        "colab": {
          "base_uri": "https://localhost:8080/",
          "height": 300
        }
      },
      "execution_count": null,
      "outputs": [
        {
          "output_type": "execute_result",
          "data": {
            "text/html": [
              "<div>\n",
              "<style scoped>\n",
              "    .dataframe tbody tr th:only-of-type {\n",
              "        vertical-align: middle;\n",
              "    }\n",
              "\n",
              "    .dataframe tbody tr th {\n",
              "        vertical-align: top;\n",
              "    }\n",
              "\n",
              "    .dataframe thead th {\n",
              "        text-align: right;\n",
              "    }\n",
              "</style>\n",
              "<table border=\"1\" class=\"dataframe\">\n",
              "  <thead>\n",
              "    <tr style=\"text-align: right;\">\n",
              "      <th></th>\n",
              "      <th>raisedhands</th>\n",
              "      <th>VisITedResources</th>\n",
              "    </tr>\n",
              "  </thead>\n",
              "  <tbody>\n",
              "    <tr>\n",
              "      <th>count</th>\n",
              "      <td>175.000000</td>\n",
              "      <td>175.000000</td>\n",
              "    </tr>\n",
              "    <tr>\n",
              "      <th>mean</th>\n",
              "      <td>52.862857</td>\n",
              "      <td>64.000000</td>\n",
              "    </tr>\n",
              "    <tr>\n",
              "      <th>std</th>\n",
              "      <td>30.218049</td>\n",
              "      <td>30.209803</td>\n",
              "    </tr>\n",
              "    <tr>\n",
              "      <th>min</th>\n",
              "      <td>0.000000</td>\n",
              "      <td>0.000000</td>\n",
              "    </tr>\n",
              "    <tr>\n",
              "      <th>25%</th>\n",
              "      <td>24.000000</td>\n",
              "      <td>40.000000</td>\n",
              "    </tr>\n",
              "    <tr>\n",
              "      <th>50%</th>\n",
              "      <td>60.000000</td>\n",
              "      <td>79.000000</td>\n",
              "    </tr>\n",
              "    <tr>\n",
              "      <th>75%</th>\n",
              "      <td>79.000000</td>\n",
              "      <td>88.000000</td>\n",
              "    </tr>\n",
              "    <tr>\n",
              "      <th>max</th>\n",
              "      <td>100.000000</td>\n",
              "      <td>99.000000</td>\n",
              "    </tr>\n",
              "  </tbody>\n",
              "</table>\n",
              "</div>"
            ],
            "text/plain": [
              "       raisedhands  VisITedResources\n",
              "count   175.000000        175.000000\n",
              "mean     52.862857         64.000000\n",
              "std      30.218049         30.209803\n",
              "min       0.000000          0.000000\n",
              "25%      24.000000         40.000000\n",
              "50%      60.000000         79.000000\n",
              "75%      79.000000         88.000000\n",
              "max     100.000000         99.000000"
            ]
          },
          "metadata": {},
          "execution_count": 18
        }
      ]
    },
    {
      "cell_type": "markdown",
      "source": [
        "Male"
      ],
      "metadata": {
        "id": "4jZ2bRg9yI1v"
      }
    },
    {
      "cell_type": "code",
      "source": [
        "import matplotlib.pyplot as plt\n",
        "\n",
        "FemaleSP[['StageID']]= FemaleSP[['StageID']].astype('category')\n",
        "\n",
        "\n",
        "FemaleSP[['StageID']]= FemaleSP['StageID'].cat.codes\n",
        "\n",
        "\n",
        "\n",
        "\n"
      ],
      "metadata": {
        "id": "9DKPJK8TyOcT",
        "outputId": "a097494a-ce76-4383-dae5-2aedd273b87f",
        "colab": {
          "base_uri": "https://localhost:8080/"
        }
      },
      "execution_count": null,
      "outputs": [
        {
          "output_type": "stream",
          "name": "stderr",
          "text": [
            "/usr/local/lib/python3.7/dist-packages/pandas/core/frame.py:3069: SettingWithCopyWarning: \n",
            "A value is trying to be set on a copy of a slice from a DataFrame.\n",
            "Try using .loc[row_indexer,col_indexer] = value instead\n",
            "\n",
            "See the caveats in the documentation: https://pandas.pydata.org/pandas-docs/stable/user_guide/indexing.html#returning-a-view-versus-a-copy\n",
            "  self[k1] = value[k2]\n",
            "/usr/local/lib/python3.7/dist-packages/ipykernel_launcher.py:6: SettingWithCopyWarning: \n",
            "A value is trying to be set on a copy of a slice from a DataFrame.\n",
            "Try using .loc[row_indexer,col_indexer] = value instead\n",
            "\n",
            "See the caveats in the documentation: https://pandas.pydata.org/pandas-docs/stable/user_guide/indexing.html#returning-a-view-versus-a-copy\n",
            "  \n",
            "/usr/local/lib/python3.7/dist-packages/pandas/core/indexing.py:1743: SettingWithCopyWarning: \n",
            "A value is trying to be set on a copy of a slice from a DataFrame.\n",
            "Try using .loc[row_indexer,col_indexer] = value instead\n",
            "\n",
            "See the caveats in the documentation: https://pandas.pydata.org/pandas-docs/stable/user_guide/indexing.html#returning-a-view-versus-a-copy\n",
            "  isetter(ilocs[0], value)\n"
          ]
        }
      ]
    },
    {
      "cell_type": "code",
      "source": [
        "import matplotlib.pyplot as plt\n",
        "\n",
        "FemaleSP[['gender']]= FemaleSP[['gender']].astype('category')\n",
        "\n",
        "\n",
        "FemaleSP[['gender']]= FemaleSP['gender'].cat.codes\n",
        "\n",
        "\n",
        "\n",
        "\n"
      ],
      "metadata": {
        "id": "E0n1sDBl16nV",
        "outputId": "250d6edc-8b39-4fe6-b707-84f629d31fc4",
        "colab": {
          "base_uri": "https://localhost:8080/"
        }
      },
      "execution_count": null,
      "outputs": [
        {
          "output_type": "stream",
          "name": "stderr",
          "text": [
            "/usr/local/lib/python3.7/dist-packages/pandas/core/frame.py:3069: SettingWithCopyWarning: \n",
            "A value is trying to be set on a copy of a slice from a DataFrame.\n",
            "Try using .loc[row_indexer,col_indexer] = value instead\n",
            "\n",
            "See the caveats in the documentation: https://pandas.pydata.org/pandas-docs/stable/user_guide/indexing.html#returning-a-view-versus-a-copy\n",
            "  self[k1] = value[k2]\n",
            "/usr/local/lib/python3.7/dist-packages/ipykernel_launcher.py:6: SettingWithCopyWarning: \n",
            "A value is trying to be set on a copy of a slice from a DataFrame.\n",
            "Try using .loc[row_indexer,col_indexer] = value instead\n",
            "\n",
            "See the caveats in the documentation: https://pandas.pydata.org/pandas-docs/stable/user_guide/indexing.html#returning-a-view-versus-a-copy\n",
            "  \n",
            "/usr/local/lib/python3.7/dist-packages/pandas/core/indexing.py:1743: SettingWithCopyWarning: \n",
            "A value is trying to be set on a copy of a slice from a DataFrame.\n",
            "Try using .loc[row_indexer,col_indexer] = value instead\n",
            "\n",
            "See the caveats in the documentation: https://pandas.pydata.org/pandas-docs/stable/user_guide/indexing.html#returning-a-view-versus-a-copy\n",
            "  isetter(ilocs[0], value)\n"
          ]
        }
      ]
    },
    {
      "cell_type": "code",
      "source": [
        "\n",
        "\n",
        "corr_femalSP=FemaleSP[['raisedhands','VisITedResources','StageID']]\n",
        "#corr_femalSP\n",
        "print(corr_femalSP.corr())\n",
        "plt.matshow(corr_femalSP.corr())\n",
        "plt.show()"
      ],
      "metadata": {
        "id": "X436RWwE0-GA",
        "outputId": "bf3bc7c0-7200-4af6-dde2-884617a3ac14",
        "colab": {
          "base_uri": "https://localhost:8080/",
          "height": 344
        }
      },
      "execution_count": null,
      "outputs": [
        {
          "output_type": "stream",
          "name": "stdout",
          "text": [
            "                  raisedhands  VisITedResources   StageID\n",
            "raisedhands          1.000000          0.627500 -0.144009\n",
            "VisITedResources     0.627500          1.000000  0.026035\n",
            "StageID             -0.144009          0.026035  1.000000\n"
          ]
        },
        {
          "output_type": "display_data",
          "data": {
            "image/png": "[encoded data removed]",
            "text/plain": [
              "<Figure size 288x288 with 1 Axes>"
            ]
          },
          "metadata": {
            "needs_background": "light"
          }
        }
      ]
    },
    {
      "cell_type": "code",
      "source": [
        "Student_Performance['StageID']= Student_Performance['StageID'].astype('category')\n",
        "\n",
        "\n",
        "Student_Performance['StageID']= Student_Performance['StageID'].cat.codes\n"
      ],
      "metadata": {
        "id": "tBxOYR_9-DqA"
      },
      "execution_count": null,
      "outputs": []
    },
    {
      "cell_type": "code",
      "source": [
        "X = Student_Performance.iloc[:, [9,10,11,12]].values\n",
        "y = Student_Performance.iloc[:, 3].values\n",
        "\n",
        "# We are building our numpy array\n",
        "\n",
        "#X.shape\n",
        "X_opt = X "
      ],
      "metadata": {
        "id": "h2vI7cka3ZdF"
      },
      "execution_count": null,
      "outputs": []
    },
    {
      "cell_type": "code",
      "source": [
        "#Split the dataset into 75% \n",
        "from sklearn.model_selection import train_test_split\n",
        "\n",
        "X_train, X_test, y_train, y_test = train_test_split(X_opt, y, test_size = 0.75, random_state = 0) # Size of test data is 40%, size of training data is 80%\n",
        "\n",
        "print('X Train', X_train.shape)\n",
        "print('X Test', X_test.shape)\n"
      ],
      "metadata": {
        "id": "_pfxGItE4AIb",
        "outputId": "7594a2f0-0f29-4489-d598-e9640a608f35",
        "colab": {
          "base_uri": "https://localhost:8080/"
        }
      },
      "execution_count": null,
      "outputs": [
        {
          "output_type": "stream",
          "name": "stdout",
          "text": [
            "X Train (120, 4)\n",
            "X Test (360, 4)\n"
          ]
        }
      ]
    },
    {
      "cell_type": "code",
      "source": [
        "X_train.dtype\n",
        "y_train.dtype"
      ],
      "metadata": {
        "id": "dgxB8_Wo9pIr",
        "outputId": "8ab42e97-ca35-4a46-a18a-a6549406a841",
        "colab": {
          "base_uri": "https://localhost:8080/"
        }
      },
      "execution_count": null,
      "outputs": [
        {
          "output_type": "execute_result",
          "data": {
            "text/plain": [
              "dtype('O')"
            ]
          },
          "metadata": {},
          "execution_count": 65
        }
      ]
    },
    {
      "cell_type": "code",
      "source": [
        "\n",
        "print(X_train.shape)\n",
        "import tensorflow as tf\n",
        "\n",
        "\n",
        "model = tf.keras.Sequential([\n",
        "    tf.keras.layers.Flatten(input_shape=(4,)),\n",
        "    tf.keras.layers.Dense(5, activation='relu'),\n",
        "    tf.keras.layers.Dense(3)\n",
        "])"
      ],
      "metadata": {
        "id": "cDe9yi4t5iJU",
        "outputId": "faee3df0-9b9d-4858-92c3-16f34295c31e",
        "colab": {
          "base_uri": "https://localhost:8080/"
        }
      },
      "execution_count": null,
      "outputs": [
        {
          "output_type": "stream",
          "name": "stdout",
          "text": [
            "(120, 4)\n"
          ]
        }
      ]
    },
    {
      "cell_type": "code",
      "source": [
        "model.compile(optimizer='adam',\n",
        "              loss=tf.keras.losses.SparseCategoricalCrossentropy(from_logits=True),\n",
        "              metrics=['accuracy'])"
      ],
      "metadata": {
        "id": "F56uOnhC6UxV"
      },
      "execution_count": null,
      "outputs": []
    },
    {
      "cell_type": "code",
      "source": [
        "model.fit(X_train, y_train, epochs=5)"
      ],
      "metadata": {
        "id": "kN5dSkB56f_d",
        "outputId": "5224d210-d3cd-42fa-8b9c-463ef8419b69",
        "colab": {
          "base_uri": "https://localhost:8080/"
        }
      },
      "execution_count": null,
      "outputs": [
        {
          "output_type": "stream",
          "name": "stdout",
          "text": [
            "Epoch 1/5\n",
            "4/4 [==============================] - 0s 3ms/step - loss: 6.3649 - accuracy: 0.5500\n",
            "Epoch 2/5\n",
            "4/4 [==============================] - 0s 2ms/step - loss: 5.9140 - accuracy: 0.5583\n",
            "Epoch 3/5\n",
            "4/4 [==============================] - 0s 3ms/step - loss: 5.5730 - accuracy: 0.5583\n",
            "Epoch 4/5\n",
            "4/4 [==============================] - 0s 3ms/step - loss: 5.1582 - accuracy: 0.5583\n",
            "Epoch 5/5\n",
            "4/4 [==============================] - 0s 2ms/step - loss: 4.8227 - accuracy: 0.5500\n"
          ]
        },
        {
          "output_type": "execute_result",
          "data": {
            "text/plain": [
              "<keras.callbacks.History at 0x7f0926e11c90>"
            ]
          },
          "metadata": {},
          "execution_count": 71
        }
      ]
    },
    {
      "cell_type": "code",
      "source": [
        "test_loss, test_acc = model.evaluate(X_test,  y_test, verbose=2)\n",
        "\n",
        "print('\\nTest accuracy:', test_acc)"
      ],
      "metadata": {
        "id": "v48OuzXQ-vc2",
        "outputId": "8f0feccb-acb8-4db4-ef19-61c8a0e62a2f",
        "colab": {
          "base_uri": "https://localhost:8080/"
        }
      },
      "execution_count": null,
      "outputs": [
        {
          "output_type": "stream",
          "name": "stdout",
          "text": [
            "12/12 - 0s - loss: 5.5239 - accuracy: 0.5722 - 121ms/epoch - 10ms/step\n",
            "\n",
            "Test accuracy: 0.5722222328186035\n"
          ]
        }
      ]
    },
    {
      "cell_type": "code",
      "source": [
        "from sklearn import neighbors, datasets\n",
        "from sklearn.neighbors import KNeighborsClassifier\n",
        "\n",
        "model5 = neighbors.KNeighborsClassifier(n_neighbors=5)\n",
        "\n",
        "model5.fit(X_train, y_train)\n",
        "\n",
        "y_pred = model5.predict(X_test)"
      ],
      "metadata": {
        "id": "Sq0GJQYn_S0f"
      },
      "execution_count": null,
      "outputs": []
    },
    {
      "cell_type": "code",
      "source": [
        "\n",
        "print(\"Test set score: {:.2f}\".format(model5.score(X_test, y_test)))\n",
        "\n"
      ],
      "metadata": {
        "id": "FzHWc9H__uXz",
        "outputId": "9f82f79d-b42a-4410-fdc7-10a34b11ca1d",
        "colab": {
          "base_uri": "https://localhost:8080/"
        }
      },
      "execution_count": null,
      "outputs": [
        {
          "output_type": "stream",
          "name": "stdout",
          "text": [
            "Test set score: 0.50\n"
          ]
        }
      ]
    },
    {
      "cell_type": "code",
      "source": [
        "# # Mean Normalization with StandardScaler\n",
        "\n",
        "from sklearn.preprocessing import StandardScaler\n",
        "sc = StandardScaler() \n",
        "X = sc.fit_transform(Student_Performance.iloc[:, [9,10,11,12]].values) #calculate μ & σ (fit) and apply the transformation(transform)\n"
      ],
      "metadata": {
        "id": "tc4SDERWA_ez"
      },
      "execution_count": null,
      "outputs": []
    },
    {
      "cell_type": "code",
      "source": [
        "KMeansinput=Student_Performance.iloc[:, [9,10,11,12]]\n",
        "Kmeans_label=Student_Performance.iloc[:, 3]\n"
      ],
      "metadata": {
        "id": "hsFy60YGCiwy"
      },
      "execution_count": null,
      "outputs": []
    },
    {
      "cell_type": "code",
      "source": [
        "data_norm = pd.DataFrame(X, index=KMeansinput.index, columns=KMeansinput.columns)\n",
        "data_norm"
      ],
      "metadata": {
        "id": "ScMr0bsVCRk5",
        "outputId": "fe1bbf20-c1ca-4c17-8a15-b6ec829b92f8",
        "colab": {
          "base_uri": "https://localhost:8080/",
          "height": 424
        }
      },
      "execution_count": null,
      "outputs": [
        {
          "output_type": "execute_result",
          "data": {
            "text/html": [
              "<div>\n",
              "<style scoped>\n",
              "    .dataframe tbody tr th:only-of-type {\n",
              "        vertical-align: middle;\n",
              "    }\n",
              "\n",
              "    .dataframe tbody tr th {\n",
              "        vertical-align: top;\n",
              "    }\n",
              "\n",
              "    .dataframe thead th {\n",
              "        text-align: right;\n",
              "    }\n",
              "</style>\n",
              "<table border=\"1\" class=\"dataframe\">\n",
              "  <thead>\n",
              "    <tr style=\"text-align: right;\">\n",
              "      <th></th>\n",
              "      <th>raisedhands</th>\n",
              "      <th>VisITedResources</th>\n",
              "      <th>AnnouncementsView</th>\n",
              "      <th>Discussion</th>\n",
              "    </tr>\n",
              "  </thead>\n",
              "  <tbody>\n",
              "    <tr>\n",
              "      <th>0</th>\n",
              "      <td>-1.033429</td>\n",
              "      <td>-1.174075</td>\n",
              "      <td>-1.351167</td>\n",
              "      <td>-0.843326</td>\n",
              "    </tr>\n",
              "    <tr>\n",
              "      <th>1</th>\n",
              "      <td>-0.870813</td>\n",
              "      <td>-1.053029</td>\n",
              "      <td>-1.313549</td>\n",
              "      <td>-0.662225</td>\n",
              "    </tr>\n",
              "    <tr>\n",
              "      <th>2</th>\n",
              "      <td>-1.196046</td>\n",
              "      <td>-1.446426</td>\n",
              "      <td>-1.426401</td>\n",
              "      <td>-0.481125</td>\n",
              "    </tr>\n",
              "    <tr>\n",
              "      <th>3</th>\n",
              "      <td>-0.545579</td>\n",
              "      <td>-0.901723</td>\n",
              "      <td>-1.238315</td>\n",
              "      <td>-0.300024</td>\n",
              "    </tr>\n",
              "    <tr>\n",
              "      <th>4</th>\n",
              "      <td>-0.220346</td>\n",
              "      <td>-0.145191</td>\n",
              "      <td>-0.974994</td>\n",
              "      <td>0.243279</td>\n",
              "    </tr>\n",
              "    <tr>\n",
              "      <th>...</th>\n",
              "      <td>...</td>\n",
              "      <td>...</td>\n",
              "      <td>...</td>\n",
              "      <td>...</td>\n",
              "    </tr>\n",
              "    <tr>\n",
              "      <th>475</th>\n",
              "      <td>-1.358663</td>\n",
              "      <td>-1.537210</td>\n",
              "      <td>-1.238315</td>\n",
              "      <td>-1.277968</td>\n",
              "    </tr>\n",
              "    <tr>\n",
              "      <th>476</th>\n",
              "      <td>0.104888</td>\n",
              "      <td>0.671863</td>\n",
              "      <td>-0.899759</td>\n",
              "      <td>-0.553565</td>\n",
              "    </tr>\n",
              "    <tr>\n",
              "      <th>477</th>\n",
              "      <td>0.267505</td>\n",
              "      <td>0.581080</td>\n",
              "      <td>-0.485969</td>\n",
              "      <td>-0.517345</td>\n",
              "    </tr>\n",
              "    <tr>\n",
              "      <th>478</th>\n",
              "      <td>-0.545579</td>\n",
              "      <td>-1.143813</td>\n",
              "      <td>-0.899759</td>\n",
              "      <td>0.496820</td>\n",
              "    </tr>\n",
              "    <tr>\n",
              "      <th>479</th>\n",
              "      <td>-0.382962</td>\n",
              "      <td>-1.234597</td>\n",
              "      <td>-0.561203</td>\n",
              "      <td>0.677921</td>\n",
              "    </tr>\n",
              "  </tbody>\n",
              "</table>\n",
              "<p>480 rows × 4 columns</p>\n",
              "</div>"
            ],
            "text/plain": [
              "     raisedhands  VisITedResources  AnnouncementsView  Discussion\n",
              "0      -1.033429         -1.174075          -1.351167   -0.843326\n",
              "1      -0.870813         -1.053029          -1.313549   -0.662225\n",
              "2      -1.196046         -1.446426          -1.426401   -0.481125\n",
              "3      -0.545579         -0.901723          -1.238315   -0.300024\n",
              "4      -0.220346         -0.145191          -0.974994    0.243279\n",
              "..           ...               ...                ...         ...\n",
              "475    -1.358663         -1.537210          -1.238315   -1.277968\n",
              "476     0.104888          0.671863          -0.899759   -0.553565\n",
              "477     0.267505          0.581080          -0.485969   -0.517345\n",
              "478    -0.545579         -1.143813          -0.899759    0.496820\n",
              "479    -0.382962         -1.234597          -0.561203    0.677921\n",
              "\n",
              "[480 rows x 4 columns]"
            ]
          },
          "metadata": {},
          "execution_count": 90
        }
      ]
    },
    {
      "cell_type": "code",
      "source": [
        "from sklearn.cluster import KMeans\n",
        "kmeans = KMeans(n_clusters=3, ).fit(X)\n",
        "labels = kmeans.labels_\n",
        "labels\n",
        "\n"
      ],
      "metadata": {
        "id": "bag6qpq2BXlh",
        "outputId": "45e0353a-fae0-4f2e-ba68-318cd7482334",
        "colab": {
          "base_uri": "https://localhost:8080/"
        }
      },
      "execution_count": null,
      "outputs": [
        {
          "output_type": "execute_result",
          "data": {
            "text/plain": [
              "array([1, 1, 1, 1, 1, 1, 1, 1, 1, 2, 2, 1, 1, 1, 2, 1, 1, 2, 2, 2, 2, 1,\n",
              "       1, 1, 1, 1, 1, 1, 0, 0, 2, 1, 1, 1, 1, 1, 1, 2, 1, 2, 1, 1, 1, 1,\n",
              "       1, 1, 1, 2, 2, 2, 1, 1, 0, 2, 1, 1, 1, 1, 1, 1, 1, 0, 2, 1, 1, 1,\n",
              "       1, 2, 0, 1, 1, 1, 1, 1, 1, 0, 0, 0, 1, 2, 1, 1, 1, 1, 0, 1, 1, 1,\n",
              "       1, 1, 1, 0, 0, 0, 0, 0, 1, 1, 1, 1, 2, 0, 1, 1, 1, 1, 1, 0, 1, 0,\n",
              "       0, 2, 1, 1, 1, 1, 0, 1, 1, 0, 1, 1, 0, 0, 1, 1, 1, 1, 1, 0, 1, 0,\n",
              "       1, 1, 2, 2, 2, 0, 2, 2, 1, 0, 0, 0, 1, 0, 2, 0, 0, 2, 2, 2, 2, 1,\n",
              "       0, 2, 0, 0, 0, 2, 2, 2, 0, 2, 0, 2, 0, 2, 0, 1, 0, 0, 1, 1, 2, 1,\n",
              "       0, 0, 0, 1, 2, 0, 2, 1, 1, 2, 1, 2, 2, 0, 1, 1, 2, 2, 0, 1, 2, 2,\n",
              "       1, 0, 2, 0, 1, 1, 1, 0, 0, 1, 1, 2, 0, 0, 0, 1, 1, 1, 1, 0, 2, 0,\n",
              "       0, 0, 2, 2, 2, 0, 1, 1, 2, 1, 1, 1, 1, 0, 2, 1, 1, 2, 2, 2, 2, 2,\n",
              "       1, 1, 2, 2, 2, 2, 0, 0, 1, 0, 2, 1, 2, 1, 2, 2, 2, 0, 1, 2, 1, 0,\n",
              "       0, 2, 0, 0, 1, 1, 0, 0, 1, 1, 2, 2, 1, 0, 0, 0, 0, 0, 2, 2, 1, 1,\n",
              "       2, 2, 2, 2, 1, 1, 2, 2, 2, 2, 2, 2, 1, 1, 1, 1, 1, 1, 1, 1, 2, 2,\n",
              "       2, 2, 1, 1, 0, 2, 2, 2, 0, 0, 0, 0, 0, 0, 1, 1, 1, 1, 1, 1, 2, 2,\n",
              "       1, 1, 0, 0, 1, 1, 0, 0, 0, 0, 0, 0, 0, 0, 0, 0, 0, 0, 1, 1, 1, 1,\n",
              "       0, 0, 0, 0, 0, 0, 0, 0, 0, 0, 0, 0, 0, 0, 1, 1, 0, 0, 1, 1, 1, 1,\n",
              "       1, 1, 0, 2, 1, 1, 1, 1, 0, 0, 0, 0, 2, 2, 1, 1, 0, 0, 0, 0, 0, 2,\n",
              "       2, 2, 2, 2, 0, 0, 2, 2, 2, 2, 1, 1, 0, 0, 0, 0, 2, 2, 1, 1, 2, 2,\n",
              "       2, 2, 0, 0, 0, 0, 2, 2, 0, 0, 1, 1, 0, 2, 2, 2, 0, 0, 0, 0, 0, 0,\n",
              "       0, 0, 2, 2, 0, 0, 2, 2, 2, 2, 0, 0, 0, 0, 2, 2, 0, 0, 2, 2, 2, 2,\n",
              "       2, 2, 2, 2, 2, 2, 1, 1, 2, 2, 2, 2, 1, 1, 0, 0, 1, 1], dtype=int32)"
            ]
          },
          "metadata": {},
          "execution_count": 87
        }
      ]
    },
    {
      "cell_type": "code",
      "source": [
        "accuracy = sum(label_test == y_test) / y_test.size;\n",
        "accuracyPercentage = 100*accuracy;\n",
        "\n",
        "accuracyPercentage"
      ],
      "metadata": {
        "id": "vKlppweyC3RE",
        "outputId": "c9bd040d-4359-4970-caf2-9f45d7dcb373",
        "colab": {
          "base_uri": "https://localhost:8080/"
        }
      },
      "execution_count": null,
      "outputs": [
        {
          "output_type": "execute_result",
          "data": {
            "text/plain": [
              "39.72222222222222"
            ]
          },
          "metadata": {},
          "execution_count": 102
        }
      ]
    },
    {
      "cell_type": "code",
      "source": [
        "\n",
        "label_test=kmeans.predict(X_test,y_test)"
      ],
      "metadata": {
        "id": "IvUPsNWYGHKG"
      },
      "execution_count": null,
      "outputs": []
    },
    {
      "cell_type": "code",
      "source": [
        "# Elbow method\n",
        "\n",
        "def elbow_plot(data, maxK=10, seed_centroids=None):\n",
        "    \"\"\"\n",
        "        parameters:\n",
        "        - data: pandas DataFrame (data to be fitted)\n",
        "        - maxK (default = 10): integer (maximum number of clusters with which to run k-means)\n",
        "        - seed_centroids (default = None ): float (initial value of centroids for k-means)\n",
        "    \"\"\"\n",
        "    sse = {}\n",
        "    for k in range(1, maxK):\n",
        "        print(\"k: \", k)\n",
        "        if seed_centroids is not None:\n",
        "            seeds = seed_centroids.head(k)\n",
        "            kmeans = KMeans(n_clusters=k, max_iter=500, n_init=100, random_state=0, init=np.reshape(seeds, (k,1))).fit(data)\n",
        "            data[\"clusters\"] = kmeans.labels_\n",
        "        else:\n",
        "            kmeans = KMeans(n_clusters=k, max_iter=300, n_init=100, random_state=0).fit(data)\n",
        "            data[\"clusters\"] = kmeans.labels_\n",
        "        # Inertia: Sum of distances of samples to their closest cluster center\n",
        "        sse[k] = kmeans.inertia_\n",
        "    plt.figure()\n",
        "    plt.plot(list(sse.keys()), list(sse.values()))\n",
        "    plt.show()\n",
        "    return\n",
        "\n",
        "elbow_plot(data_norm, maxK=10)"
      ],
      "metadata": {
        "id": "HG7LyuCoGkTL",
        "outputId": "48c94905-75d6-4e29-af33-19bda5e17528",
        "colab": {
          "base_uri": "https://localhost:8080/",
          "height": 421
        }
      },
      "execution_count": null,
      "outputs": [
        {
          "output_type": "stream",
          "name": "stdout",
          "text": [
            "k:  1\n",
            "k:  2\n",
            "k:  3\n",
            "k:  4\n",
            "k:  5\n",
            "k:  6\n",
            "k:  7\n",
            "k:  8\n",
            "k:  9\n"
          ]
        },
        {
          "output_type": "display_data",
          "data": {
            "image/png": "[encoded data removed]",
            "text/plain": [
              "<Figure size 432x288 with 1 Axes>"
            ]
          },
          "metadata": {
            "needs_background": "light"
          }
        }
      ]
    },
    {
      "cell_type": "markdown",
      "metadata": {
        "id": "4_kCnsPUqS6o"
      },
      "source": [
        "You can import your own data into Colab notebooks from your Google Drive account, including from spreadsheets, as well as from Github and many other sources. To learn more about importing data, and how Colab can be used for data science, see the links below under [Working with Data](#working-with-data)."
      ]
    },
    {
      "cell_type": "markdown",
      "metadata": {
        "id": "OwuxHmxllTwN"
      },
      "source": [
        "## Machine learning\n",
        "\n",
        "With Colab you can import an image dataset, train an image classifier on it, and evaluate the model, all in just [a few lines of code](https://colab.research.google.com/github/tensorflow/docs/blob/master/site/en/tutorials/quickstart/beginner.ipynb). Colab notebooks execute code on Google's cloud servers, meaning you can leverage the power of Google hardware, including [GPUs and TPUs](#using-accelerated-hardware), regardless of the power of your machine. All you need is a browser."
      ]
    },
    {
      "cell_type": "markdown",
      "metadata": {
        "id": "ufxBm1yRnruN"
      },
      "source": [
        "Colab is used extensively in the machine learning community with applications including:\n",
        "- Getting started with TensorFlow\n",
        "- Developing and training neural networks\n",
        "- Experimenting with TPUs\n",
        "- Disseminating AI research\n",
        "- Creating tutorials\n",
        "\n",
        "To see sample Colab notebooks that demonstrate machine learning applications, see the [machine learning examples](#machine-learning-examples) below."
      ]
    },
    {
      "cell_type": "markdown",
      "metadata": {
        "id": "-Rh3-Vt9Nev9"
      },
      "source": [
        "## More Resources\n",
        "\n",
        "### Working with Notebooks in Colab\n",
        "- [Overview of Colaboratory](/notebooks/basic_features_overview.ipynb)\n",
        "- [Guide to Markdown](/notebooks/markdown_guide.ipynb)\n",
        "- [Importing libraries and installing dependencies](/notebooks/snippets/importing_libraries.ipynb)\n",
        "- [Saving and loading notebooks in GitHub](https://colab.research.google.com/github/googlecolab/colabtools/blob/main/notebooks/colab-github-demo.ipynb)\n",
        "- [Interactive forms](/notebooks/forms.ipynb)\n",
        "- [Interactive widgets](/notebooks/widgets.ipynb)\n",
        "- <img src=\"/img/new.png\" height=\"20px\" align=\"left\" hspace=\"4px\" alt=\"New\"></img>\n",
        " [TensorFlow 2 in Colab](/notebooks/tensorflow_version.ipynb)\n",
        "\n",
        "<a name=\"working-with-data\"></a>\n",
        "### Working with Data\n",
        "- [Loading data: Drive, Sheets, and Google Cloud Storage](/notebooks/io.ipynb) \n",
        "- [Charts: visualizing data](/notebooks/charts.ipynb)\n",
        "- [Getting started with BigQuery](/notebooks/bigquery.ipynb)\n",
        "\n",
        "### Machine Learning Crash Course\n",
        "These are a few of the notebooks from Google's online Machine Learning course. See the [full course website](https://developers.google.com/machine-learning/crash-course/) for more.\n",
        "- [Intro to Pandas DataFrame](https://colab.research.google.com/github/google/eng-edu/blob/main/ml/cc/exercises/pandas_dataframe_ultraquick_tutorial.ipynb)\n",
        "- [Linear regression with tf.keras using synthetic data](https://colab.research.google.com/github/google/eng-edu/blob/main/ml/cc/exercises/linear_regression_with_synthetic_data.ipynb)\n",
        "\n",
        "\n",
        "<a name=\"using-accelerated-hardware\"></a>\n",
        "### Using Accelerated Hardware\n",
        "- [TensorFlow with GPUs](/notebooks/gpu.ipynb)\n",
        "- [TensorFlow with TPUs](/notebooks/tpu.ipynb)"
      ]
    },
    {
      "cell_type": "markdown",
      "metadata": {
        "id": "P-H6Lw1vyNNd"
      },
      "source": [
        "<a name=\"machine-learning-examples\"></a>\n",
        "\n",
        "## Machine Learning Examples\n",
        "\n",
        "To see end-to-end examples of the interactive machine learning analyses that Colaboratory makes possible, check out these  tutorials using models from [TensorFlow Hub](https://tfhub.dev).\n",
        "\n",
        "A few featured examples:\n",
        "\n",
        "- [Retraining an Image Classifier](https://tensorflow.org/hub/tutorials/tf2_image_retraining): Build a Keras model on top of a pre-trained image classifier to distinguish flowers.\n",
        "- [Text Classification](https://tensorflow.org/hub/tutorials/tf2_text_classification): Classify IMDB movie reviews as either *positive* or *negative*.\n",
        "- [Style Transfer](https://tensorflow.org/hub/tutorials/tf2_arbitrary_image_stylization): Use deep learning to transfer style between images.\n",
        "- [Multilingual Universal Sentence Encoder Q&A](https://tensorflow.org/hub/tutorials/retrieval_with_tf_hub_universal_encoder_qa): Use a machine learning model to answer questions from the SQuAD dataset.\n",
        "- [Video Interpolation](https://tensorflow.org/hub/tutorials/tweening_conv3d): Predict what happened in a video between the first and the last frame.\n"
      ]
    }
  ],
  "metadata": {
    "colab": {
      "collapsed_sections": [],
      "name": " IT533_Summer2021Final_<Emmanuel Chingozho>",
      "toc_visible": true,
      "provenance": [],
      "include_colab_link": true
    },
    "kernelspec": {
      "display_name": "Python 3",
      "name": "python3"
    }
  },
  "nbformat": 4,
  "nbformat_minor": 0
}