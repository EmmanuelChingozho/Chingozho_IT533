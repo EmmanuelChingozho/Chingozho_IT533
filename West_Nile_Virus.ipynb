{
  "cells": [
    {
      "cell_type": "markdown",
      "metadata": {
        "id": "view-in-github",
        "colab_type": "text"
      },
      "source": [
        "<a href=\"https://colab.research.google.com/github/EmmanuelChingozho/Chingozho_IT533/blob/main/West_Nile_Virus.ipynb\" target=\"_parent\"><img src=\"https://colab.research.google.com/assets/colab-badge.svg\" alt=\"Open In Colab\"/></a>"
      ]
    },
    {
      "cell_type": "markdown",
      "metadata": {
        "id": "5fCEDCU_qrC0"
      },
      "source": [
        "<p><img alt=\"Colaboratory logo\" height=\"45px\" src=\"/img/colab_favicon.ico\" align=\"left\" hspace=\"10px\" vspace=\"0px\"></p>\n",
        "\n",
        "<h1>What is Colaboratory?</h1>\n",
        "\n",
        "Colaboratory, or \"Colab\" for short, allows you to write and execute Python in your browser, with \n",
        "- Zero configuration required\n",
        "- Free access to GPUs\n",
        "- Easy sharing\n",
        "\n",
        "Whether you're a **student**, a **data scientist** or an **AI researcher**, Colab can make your work easier. Watch [Introduction to Colab](https://www.youtube.com/watch?v=inN8seMm7UI) to learn more, or just get started below!"
      ]
    },
    {
      "cell_type": "markdown",
      "metadata": {
        "id": "GJBs_flRovLc"
      },
      "source": [
        "## **Getting started**\n",
        "\n",
        "The document you are reading is not a static web page, but an interactive environment called a **Colab notebook** that lets you write and execute code.\n",
        "\n",
        "For example, here is a **code cell** with a short Python script that computes a value, stores it in a variable, and prints the result:"
      ]
    },
    {
      "cell_type": "code",
      "execution_count": null,
      "metadata": {
        "colab": {
          "base_uri": "https://localhost:8080/",
          "height": 34
        },
        "id": "gJr_9dXGpJ05",
        "outputId": "9f556d03-ec67-4950-a485-cfdba9ddd14d"
      },
      "outputs": [
        {
          "data": {
            "text/plain": [
              "86400"
            ]
          },
          "execution_count": 0,
          "metadata": {
            "tags": []
          },
          "output_type": "execute_result"
        }
      ],
      "source": [
        "seconds_in_a_day = 24 * 60 * 60\n",
        "seconds_in_a_day"
      ]
    },
    {
      "cell_type": "markdown",
      "metadata": {
        "id": "2fhs6GZ4qFMx"
      },
      "source": [
        "To execute the code in the above cell, select it with a click and then either press the play button to the left of the code, or use the keyboard shortcut \"Command/Ctrl+Enter\". To edit the code, just click the cell and start editing.\n",
        "\n",
        "Variables that you define in one cell can later be used in other cells:"
      ]
    },
    {
      "cell_type": "code",
      "execution_count": null,
      "metadata": {
        "colab": {
          "base_uri": "https://localhost:8080/",
          "height": 34
        },
        "id": "-gE-Ez1qtyIA",
        "outputId": "94cb2224-0edf-457b-90b5-0ac3488d8a97"
      },
      "outputs": [
        {
          "data": {
            "text/plain": [
              "604800"
            ]
          },
          "execution_count": 0,
          "metadata": {
            "tags": []
          },
          "output_type": "execute_result"
        }
      ],
      "source": [
        "seconds_in_a_week = 7 * seconds_in_a_day\n",
        "seconds_in_a_week"
      ]
    },
    {
      "cell_type": "markdown",
      "metadata": {
        "id": "lSrWNr3MuFUS"
      },
      "source": [
        "Colab notebooks allow you to combine **executable code** and **rich text** in a single document, along with **images**, **HTML**, **LaTeX** and more. When you create your own Colab notebooks, they are stored in your Google Drive account. You can easily share your Colab notebooks with co-workers or friends, allowing them to comment on your notebooks or even edit them. To learn more, see [Overview of Colab](/notebooks/basic_features_overview.ipynb). To create a new Colab notebook you can use the File menu above, or use the following link: [create a new Colab notebook](http://colab.research.google.com#create=true).\n",
        "\n",
        "Colab notebooks are Jupyter notebooks that are hosted by Colab. To learn more about the Jupyter project, see [jupyter.org](https://www.jupyter.org)."
      ]
    },
    {
      "cell_type": "markdown",
      "metadata": {
        "id": "UdRyKR44dcNI"
      },
      "source": [
        "## Data science\n",
        "\n",
        "With Colab you can harness the full power of popular Python libraries to analyze and visualize data. The code cell below uses **numpy** to generate some random data, and uses **matplotlib** to visualize it. To edit the code, just click the cell and start editing."
      ]
    },
    {
      "cell_type": "code",
      "source": [
        "import numpy as np\n",
        "import pandas as pd \n",
        "import matplotlib.pyplot as plt"
      ],
      "metadata": {
        "id": "I-MRHJynTmxJ"
      },
      "execution_count": 49,
      "outputs": []
    },
    {
      "cell_type": "code",
      "source": [
        "West_Nile_Virus = pd.read_csv(\"https://raw.githubusercontent.com/shstreuber/Data-Mining/master/data/West_Nile_Virus__WNV__Mosquito_Test_Results.csv\")"
      ],
      "metadata": {
        "id": "lb8gnlR8Tt-D"
      },
      "execution_count": 99,
      "outputs": []
    },
    {
      "cell_type": "code",
      "source": [
        "\n",
        "West_Nile_Virus.head(5)\n",
        "#West_Nile_Virus.tail (7)\n"
      ],
      "metadata": {
        "colab": {
          "base_uri": "https://localhost:8080/",
          "height": 206
        },
        "id": "mdOkNdZbUiz8",
        "outputId": "08f2c5f3-6be3-47a6-ad2e-5ff3e7fb3ecc"
      },
      "execution_count": 100,
      "outputs": [
        {
          "output_type": "execute_result",
          "data": {
            "text/html": [
              "<div>\n",
              "<style scoped>\n",
              "    .dataframe tbody tr th:only-of-type {\n",
              "        vertical-align: middle;\n",
              "    }\n",
              "\n",
              "    .dataframe tbody tr th {\n",
              "        vertical-align: top;\n",
              "    }\n",
              "\n",
              "    .dataframe thead th {\n",
              "        text-align: right;\n",
              "    }\n",
              "</style>\n",
              "<table border=\"1\" class=\"dataframe\">\n",
              "  <thead>\n",
              "    <tr style=\"text-align: right;\">\n",
              "      <th></th>\n",
              "      <th>SEASON YEAR</th>\n",
              "      <th>WEEK</th>\n",
              "      <th>TEST ID</th>\n",
              "      <th>BLOCK</th>\n",
              "      <th>TRAP</th>\n",
              "      <th>TRAP_TYPE</th>\n",
              "      <th>TEST DATE</th>\n",
              "      <th>NUMBER OF MOSQUITOES</th>\n",
              "      <th>RESULT</th>\n",
              "      <th>SPECIES</th>\n",
              "      <th>LATITUDE</th>\n",
              "      <th>LONGITUDE</th>\n",
              "      <th>LOCATION</th>\n",
              "    </tr>\n",
              "  </thead>\n",
              "  <tbody>\n",
              "    <tr>\n",
              "      <th>0</th>\n",
              "      <td>2014</td>\n",
              "      <td>39</td>\n",
              "      <td>40542</td>\n",
              "      <td>100XX W OHARE AIRPORT</td>\n",
              "      <td>T902</td>\n",
              "      <td>GRAVID</td>\n",
              "      <td>09/25/2014 12:09:00 AM</td>\n",
              "      <td>8</td>\n",
              "      <td>negative</td>\n",
              "      <td>CULEX PIPIENS/RESTUANS</td>\n",
              "      <td>NaN</td>\n",
              "      <td>NaN</td>\n",
              "      <td>NaN</td>\n",
              "    </tr>\n",
              "    <tr>\n",
              "      <th>1</th>\n",
              "      <td>2016</td>\n",
              "      <td>37</td>\n",
              "      <td>44219</td>\n",
              "      <td>100XX W OHARE AIRPORT</td>\n",
              "      <td>T902</td>\n",
              "      <td>GRAVID</td>\n",
              "      <td>09/15/2016 12:09:00 AM</td>\n",
              "      <td>39</td>\n",
              "      <td>negative</td>\n",
              "      <td>CULEX PIPIENS/RESTUANS</td>\n",
              "      <td>NaN</td>\n",
              "      <td>NaN</td>\n",
              "      <td>NaN</td>\n",
              "    </tr>\n",
              "    <tr>\n",
              "      <th>2</th>\n",
              "      <td>2017</td>\n",
              "      <td>33</td>\n",
              "      <td>45351</td>\n",
              "      <td>100XX W OHARE AIRPORT</td>\n",
              "      <td>T905</td>\n",
              "      <td>GRAVID</td>\n",
              "      <td>08/17/2017 12:08:00 AM</td>\n",
              "      <td>50</td>\n",
              "      <td>positive</td>\n",
              "      <td>CULEX PIPIENS/RESTUANS</td>\n",
              "      <td>NaN</td>\n",
              "      <td>NaN</td>\n",
              "      <td>NaN</td>\n",
              "    </tr>\n",
              "    <tr>\n",
              "      <th>3</th>\n",
              "      <td>2017</td>\n",
              "      <td>33</td>\n",
              "      <td>45345</td>\n",
              "      <td>100XX W OHARE AIRPORT</td>\n",
              "      <td>T900</td>\n",
              "      <td>GRAVID</td>\n",
              "      <td>08/17/2017 12:08:00 AM</td>\n",
              "      <td>17</td>\n",
              "      <td>positive</td>\n",
              "      <td>CULEX PIPIENS/RESTUANS</td>\n",
              "      <td>NaN</td>\n",
              "      <td>NaN</td>\n",
              "      <td>NaN</td>\n",
              "    </tr>\n",
              "    <tr>\n",
              "      <th>4</th>\n",
              "      <td>2016</td>\n",
              "      <td>37</td>\n",
              "      <td>44169</td>\n",
              "      <td>4XX W 127TH</td>\n",
              "      <td>T135</td>\n",
              "      <td>GRAVID</td>\n",
              "      <td>09/15/2016 12:09:00 AM</td>\n",
              "      <td>12</td>\n",
              "      <td>negative</td>\n",
              "      <td>CULEX PIPIENS/RESTUANS</td>\n",
              "      <td>NaN</td>\n",
              "      <td>NaN</td>\n",
              "      <td>NaN</td>\n",
              "    </tr>\n",
              "  </tbody>\n",
              "</table>\n",
              "</div>"
            ],
            "text/plain": [
              "   SEASON YEAR  WEEK  TEST ID  ... LATITUDE LONGITUDE LOCATION\n",
              "0         2014    39    40542  ...      NaN       NaN      NaN\n",
              "1         2016    37    44219  ...      NaN       NaN      NaN\n",
              "2         2017    33    45351  ...      NaN       NaN      NaN\n",
              "3         2017    33    45345  ...      NaN       NaN      NaN\n",
              "4         2016    37    44169  ...      NaN       NaN      NaN\n",
              "\n",
              "[5 rows x 13 columns]"
            ]
          },
          "metadata": {},
          "execution_count": 100
        }
      ]
    },
    {
      "cell_type": "code",
      "source": [
        "West_Nile_Virus.count()\n"
      ],
      "metadata": {
        "colab": {
          "base_uri": "https://localhost:8080/"
        },
        "id": "zs28Yb36a4Lk",
        "outputId": "0e009b4b-3fd7-408a-fe64-85f0a08ac950"
      },
      "execution_count": 52,
      "outputs": [
        {
          "output_type": "execute_result",
          "data": {
            "text/plain": [
              "SEASON YEAR             29489\n",
              "WEEK                    29489\n",
              "TEST ID                 29489\n",
              "BLOCK                   29489\n",
              "TRAP                    29489\n",
              "TRAP_TYPE               29489\n",
              "TEST DATE               29489\n",
              "NUMBER OF MOSQUITOES    29489\n",
              "RESULT                  29489\n",
              "SPECIES                 29489\n",
              "LATITUDE                25073\n",
              "LONGITUDE               25073\n",
              "LOCATION                25073\n",
              "dtype: int64"
            ]
          },
          "metadata": {},
          "execution_count": 52
        }
      ]
    },
    {
      "cell_type": "code",
      "source": [
        "West_Nile_Virus.describe(include='all') "
      ],
      "metadata": {
        "colab": {
          "base_uri": "https://localhost:8080/",
          "height": 446
        },
        "id": "_YPknL83bOJv",
        "outputId": "06b4c1f8-7451-4efe-fa41-560282bd986f"
      },
      "execution_count": 53,
      "outputs": [
        {
          "output_type": "execute_result",
          "data": {
            "text/html": [
              "<div>\n",
              "<style scoped>\n",
              "    .dataframe tbody tr th:only-of-type {\n",
              "        vertical-align: middle;\n",
              "    }\n",
              "\n",
              "    .dataframe tbody tr th {\n",
              "        vertical-align: top;\n",
              "    }\n",
              "\n",
              "    .dataframe thead th {\n",
              "        text-align: right;\n",
              "    }\n",
              "</style>\n",
              "<table border=\"1\" class=\"dataframe\">\n",
              "  <thead>\n",
              "    <tr style=\"text-align: right;\">\n",
              "      <th></th>\n",
              "      <th>SEASON YEAR</th>\n",
              "      <th>WEEK</th>\n",
              "      <th>TEST ID</th>\n",
              "      <th>BLOCK</th>\n",
              "      <th>TRAP</th>\n",
              "      <th>TRAP_TYPE</th>\n",
              "      <th>TEST DATE</th>\n",
              "      <th>NUMBER OF MOSQUITOES</th>\n",
              "      <th>RESULT</th>\n",
              "      <th>SPECIES</th>\n",
              "      <th>LATITUDE</th>\n",
              "      <th>LONGITUDE</th>\n",
              "      <th>LOCATION</th>\n",
              "    </tr>\n",
              "  </thead>\n",
              "  <tbody>\n",
              "    <tr>\n",
              "      <th>count</th>\n",
              "      <td>29489.000000</td>\n",
              "      <td>29489.000000</td>\n",
              "      <td>29489.000000</td>\n",
              "      <td>29489</td>\n",
              "      <td>29489</td>\n",
              "      <td>29489</td>\n",
              "      <td>29489</td>\n",
              "      <td>29489.000000</td>\n",
              "      <td>29489</td>\n",
              "      <td>29489</td>\n",
              "      <td>25073.000000</td>\n",
              "      <td>25073.000000</td>\n",
              "      <td>25073</td>\n",
              "    </tr>\n",
              "    <tr>\n",
              "      <th>unique</th>\n",
              "      <td>NaN</td>\n",
              "      <td>NaN</td>\n",
              "      <td>NaN</td>\n",
              "      <td>158</td>\n",
              "      <td>193</td>\n",
              "      <td>4</td>\n",
              "      <td>299</td>\n",
              "      <td>NaN</td>\n",
              "      <td>2</td>\n",
              "      <td>8</td>\n",
              "      <td>NaN</td>\n",
              "      <td>NaN</td>\n",
              "      <td>162</td>\n",
              "    </tr>\n",
              "    <tr>\n",
              "      <th>top</th>\n",
              "      <td>NaN</td>\n",
              "      <td>NaN</td>\n",
              "      <td>NaN</td>\n",
              "      <td>100XX W OHARE AIRPORT</td>\n",
              "      <td>T115</td>\n",
              "      <td>GRAVID</td>\n",
              "      <td>08/15/2007 12:08:00 AM</td>\n",
              "      <td>NaN</td>\n",
              "      <td>negative</td>\n",
              "      <td>CULEX PIPIENS/RESTUANS</td>\n",
              "      <td>NaN</td>\n",
              "      <td>NaN</td>\n",
              "      <td>(41.66238672759086, -87.59017972751752)</td>\n",
              "    </tr>\n",
              "    <tr>\n",
              "      <th>freq</th>\n",
              "      <td>NaN</td>\n",
              "      <td>NaN</td>\n",
              "      <td>NaN</td>\n",
              "      <td>2949</td>\n",
              "      <td>787</td>\n",
              "      <td>27956</td>\n",
              "      <td>276</td>\n",
              "      <td>NaN</td>\n",
              "      <td>27001</td>\n",
              "      <td>13354</td>\n",
              "      <td>NaN</td>\n",
              "      <td>NaN</td>\n",
              "      <td>787</td>\n",
              "    </tr>\n",
              "    <tr>\n",
              "      <th>mean</th>\n",
              "      <td>2012.502018</td>\n",
              "      <td>31.073587</td>\n",
              "      <td>35155.917156</td>\n",
              "      <td>NaN</td>\n",
              "      <td>NaN</td>\n",
              "      <td>NaN</td>\n",
              "      <td>NaN</td>\n",
              "      <td>12.353827</td>\n",
              "      <td>NaN</td>\n",
              "      <td>NaN</td>\n",
              "      <td>41.836094</td>\n",
              "      <td>-87.687875</td>\n",
              "      <td>NaN</td>\n",
              "    </tr>\n",
              "    <tr>\n",
              "      <th>std</th>\n",
              "      <td>3.802700</td>\n",
              "      <td>4.533390</td>\n",
              "      <td>8630.314684</td>\n",
              "      <td>NaN</td>\n",
              "      <td>NaN</td>\n",
              "      <td>NaN</td>\n",
              "      <td>NaN</td>\n",
              "      <td>15.261187</td>\n",
              "      <td>NaN</td>\n",
              "      <td>NaN</td>\n",
              "      <td>0.112719</td>\n",
              "      <td>0.076802</td>\n",
              "      <td>NaN</td>\n",
              "    </tr>\n",
              "    <tr>\n",
              "      <th>min</th>\n",
              "      <td>2007.000000</td>\n",
              "      <td>20.000000</td>\n",
              "      <td>20000.000000</td>\n",
              "      <td>NaN</td>\n",
              "      <td>NaN</td>\n",
              "      <td>NaN</td>\n",
              "      <td>NaN</td>\n",
              "      <td>1.000000</td>\n",
              "      <td>NaN</td>\n",
              "      <td>NaN</td>\n",
              "      <td>41.644720</td>\n",
              "      <td>-87.854473</td>\n",
              "      <td>NaN</td>\n",
              "    </tr>\n",
              "    <tr>\n",
              "      <th>25%</th>\n",
              "      <td>2009.000000</td>\n",
              "      <td>28.000000</td>\n",
              "      <td>27718.000000</td>\n",
              "      <td>NaN</td>\n",
              "      <td>NaN</td>\n",
              "      <td>NaN</td>\n",
              "      <td>NaN</td>\n",
              "      <td>2.000000</td>\n",
              "      <td>NaN</td>\n",
              "      <td>NaN</td>\n",
              "      <td>41.731447</td>\n",
              "      <td>-87.745420</td>\n",
              "      <td>NaN</td>\n",
              "    </tr>\n",
              "    <tr>\n",
              "      <th>50%</th>\n",
              "      <td>2012.000000</td>\n",
              "      <td>31.000000</td>\n",
              "      <td>35150.000000</td>\n",
              "      <td>NaN</td>\n",
              "      <td>NaN</td>\n",
              "      <td>NaN</td>\n",
              "      <td>NaN</td>\n",
              "      <td>5.000000</td>\n",
              "      <td>NaN</td>\n",
              "      <td>NaN</td>\n",
              "      <td>41.825398</td>\n",
              "      <td>-87.689417</td>\n",
              "      <td>NaN</td>\n",
              "    </tr>\n",
              "    <tr>\n",
              "      <th>75%</th>\n",
              "      <td>2016.000000</td>\n",
              "      <td>35.000000</td>\n",
              "      <td>42641.000000</td>\n",
              "      <td>NaN</td>\n",
              "      <td>NaN</td>\n",
              "      <td>NaN</td>\n",
              "      <td>NaN</td>\n",
              "      <td>16.000000</td>\n",
              "      <td>NaN</td>\n",
              "      <td>NaN</td>\n",
              "      <td>41.941991</td>\n",
              "      <td>-87.632955</td>\n",
              "      <td>NaN</td>\n",
              "    </tr>\n",
              "    <tr>\n",
              "      <th>max</th>\n",
              "      <td>2019.000000</td>\n",
              "      <td>40.000000</td>\n",
              "      <td>50029.000000</td>\n",
              "      <td>NaN</td>\n",
              "      <td>NaN</td>\n",
              "      <td>NaN</td>\n",
              "      <td>NaN</td>\n",
              "      <td>77.000000</td>\n",
              "      <td>NaN</td>\n",
              "      <td>NaN</td>\n",
              "      <td>42.017801</td>\n",
              "      <td>-87.531060</td>\n",
              "      <td>NaN</td>\n",
              "    </tr>\n",
              "  </tbody>\n",
              "</table>\n",
              "</div>"
            ],
            "text/plain": [
              "         SEASON YEAR  ...                                 LOCATION\n",
              "count   29489.000000  ...                                    25073\n",
              "unique           NaN  ...                                      162\n",
              "top              NaN  ...  (41.66238672759086, -87.59017972751752)\n",
              "freq             NaN  ...                                      787\n",
              "mean     2012.502018  ...                                      NaN\n",
              "std         3.802700  ...                                      NaN\n",
              "min      2007.000000  ...                                      NaN\n",
              "25%      2009.000000  ...                                      NaN\n",
              "50%      2012.000000  ...                                      NaN\n",
              "75%      2016.000000  ...                                      NaN\n",
              "max      2019.000000  ...                                      NaN\n",
              "\n",
              "[11 rows x 13 columns]"
            ]
          },
          "metadata": {},
          "execution_count": 53
        }
      ]
    },
    {
      "cell_type": "code",
      "source": [
        "West_Nile_Virus.describe(include=['O'])"
      ],
      "metadata": {
        "colab": {
          "base_uri": "https://localhost:8080/",
          "height": 175
        },
        "id": "b7SI-cj2g7c9",
        "outputId": "10043ccd-c114-44c5-996a-b1b54d389948"
      },
      "execution_count": 54,
      "outputs": [
        {
          "output_type": "execute_result",
          "data": {
            "text/html": [
              "<div>\n",
              "<style scoped>\n",
              "    .dataframe tbody tr th:only-of-type {\n",
              "        vertical-align: middle;\n",
              "    }\n",
              "\n",
              "    .dataframe tbody tr th {\n",
              "        vertical-align: top;\n",
              "    }\n",
              "\n",
              "    .dataframe thead th {\n",
              "        text-align: right;\n",
              "    }\n",
              "</style>\n",
              "<table border=\"1\" class=\"dataframe\">\n",
              "  <thead>\n",
              "    <tr style=\"text-align: right;\">\n",
              "      <th></th>\n",
              "      <th>BLOCK</th>\n",
              "      <th>TRAP</th>\n",
              "      <th>TRAP_TYPE</th>\n",
              "      <th>TEST DATE</th>\n",
              "      <th>RESULT</th>\n",
              "      <th>SPECIES</th>\n",
              "      <th>LOCATION</th>\n",
              "    </tr>\n",
              "  </thead>\n",
              "  <tbody>\n",
              "    <tr>\n",
              "      <th>count</th>\n",
              "      <td>29489</td>\n",
              "      <td>29489</td>\n",
              "      <td>29489</td>\n",
              "      <td>29489</td>\n",
              "      <td>29489</td>\n",
              "      <td>29489</td>\n",
              "      <td>25073</td>\n",
              "    </tr>\n",
              "    <tr>\n",
              "      <th>unique</th>\n",
              "      <td>158</td>\n",
              "      <td>193</td>\n",
              "      <td>4</td>\n",
              "      <td>299</td>\n",
              "      <td>2</td>\n",
              "      <td>8</td>\n",
              "      <td>162</td>\n",
              "    </tr>\n",
              "    <tr>\n",
              "      <th>top</th>\n",
              "      <td>100XX W OHARE AIRPORT</td>\n",
              "      <td>T115</td>\n",
              "      <td>GRAVID</td>\n",
              "      <td>08/15/2007 12:08:00 AM</td>\n",
              "      <td>negative</td>\n",
              "      <td>CULEX PIPIENS/RESTUANS</td>\n",
              "      <td>(41.66238672759086, -87.59017972751752)</td>\n",
              "    </tr>\n",
              "    <tr>\n",
              "      <th>freq</th>\n",
              "      <td>2949</td>\n",
              "      <td>787</td>\n",
              "      <td>27956</td>\n",
              "      <td>276</td>\n",
              "      <td>27001</td>\n",
              "      <td>13354</td>\n",
              "      <td>787</td>\n",
              "    </tr>\n",
              "  </tbody>\n",
              "</table>\n",
              "</div>"
            ],
            "text/plain": [
              "                        BLOCK  ...                                 LOCATION\n",
              "count                   29489  ...                                    25073\n",
              "unique                    158  ...                                      162\n",
              "top     100XX W OHARE AIRPORT  ...  (41.66238672759086, -87.59017972751752)\n",
              "freq                     2949  ...                                      787\n",
              "\n",
              "[4 rows x 7 columns]"
            ]
          },
          "metadata": {},
          "execution_count": 54
        }
      ]
    },
    {
      "cell_type": "code",
      "source": [
        "West_Nile_Virus.dtypes\n"
      ],
      "metadata": {
        "colab": {
          "base_uri": "https://localhost:8080/"
        },
        "id": "NxZUEZtGuWeW",
        "outputId": "3e08d7ff-92c2-4f30-b28e-9a43c3fe5dad"
      },
      "execution_count": 55,
      "outputs": [
        {
          "output_type": "execute_result",
          "data": {
            "text/plain": [
              "SEASON YEAR               int64\n",
              "WEEK                      int64\n",
              "TEST ID                   int64\n",
              "BLOCK                    object\n",
              "TRAP                     object\n",
              "TRAP_TYPE                object\n",
              "TEST DATE                object\n",
              "NUMBER OF MOSQUITOES      int64\n",
              "RESULT                   object\n",
              "SPECIES                  object\n",
              "LATITUDE                float64\n",
              "LONGITUDE               float64\n",
              "LOCATION                 object\n",
              "dtype: object"
            ]
          },
          "metadata": {},
          "execution_count": 55
        }
      ]
    },
    {
      "cell_type": "code",
      "source": [
        "West_Nile_Virus[['SPECIES']]= West_Nile_Virus[['SPECIES']].astype('category')\n",
        "\n",
        "# Now we replace the categories with their index numbers, i.e. the category codes\n",
        "West_Nile_Virus['SPECIES']= West_Nile_Virus['SPECIES'].cat.codes\n",
        "\n",
        "\n",
        "# Let's see what the datatypes look like now\n"
      ],
      "metadata": {
        "colab": {
          "base_uri": "https://localhost:8080/"
        },
        "id": "Uv6EuYCMvLH-",
        "outputId": "77987b3b-7530-48fc-97eb-ee9b948f4303"
      },
      "execution_count": 101,
      "outputs": [
        {
          "output_type": "execute_result",
          "data": {
            "text/plain": [
              "SPECIES    int8\n",
              "dtype: object"
            ]
          },
          "metadata": {},
          "execution_count": 101
        }
      ]
    },
    {
      "cell_type": "code",
      "source": [
        "West_Nile_Virus[['SPECIES']].describe()"
      ],
      "metadata": {
        "colab": {
          "base_uri": "https://localhost:8080/",
          "height": 300
        },
        "id": "zewrkF9XokEu",
        "outputId": "d3fa5a8a-ec64-4663-ea5c-c7e57e24c9f6"
      },
      "execution_count": 103,
      "outputs": [
        {
          "output_type": "execute_result",
          "data": {
            "text/html": [
              "<div>\n",
              "<style scoped>\n",
              "    .dataframe tbody tr th:only-of-type {\n",
              "        vertical-align: middle;\n",
              "    }\n",
              "\n",
              "    .dataframe tbody tr th {\n",
              "        vertical-align: top;\n",
              "    }\n",
              "\n",
              "    .dataframe thead th {\n",
              "        text-align: right;\n",
              "    }\n",
              "</style>\n",
              "<table border=\"1\" class=\"dataframe\">\n",
              "  <thead>\n",
              "    <tr style=\"text-align: right;\">\n",
              "      <th></th>\n",
              "      <th>SPECIES</th>\n",
              "    </tr>\n",
              "  </thead>\n",
              "  <tbody>\n",
              "    <tr>\n",
              "      <th>count</th>\n",
              "      <td>29489.000000</td>\n",
              "    </tr>\n",
              "    <tr>\n",
              "      <th>mean</th>\n",
              "      <td>2.321713</td>\n",
              "    </tr>\n",
              "    <tr>\n",
              "      <th>std</th>\n",
              "      <td>0.980046</td>\n",
              "    </tr>\n",
              "    <tr>\n",
              "      <th>min</th>\n",
              "      <td>0.000000</td>\n",
              "    </tr>\n",
              "    <tr>\n",
              "      <th>25%</th>\n",
              "      <td>2.000000</td>\n",
              "    </tr>\n",
              "    <tr>\n",
              "      <th>50%</th>\n",
              "      <td>2.000000</td>\n",
              "    </tr>\n",
              "    <tr>\n",
              "      <th>75%</th>\n",
              "      <td>3.000000</td>\n",
              "    </tr>\n",
              "    <tr>\n",
              "      <th>max</th>\n",
              "      <td>7.000000</td>\n",
              "    </tr>\n",
              "  </tbody>\n",
              "</table>\n",
              "</div>"
            ],
            "text/plain": [
              "            SPECIES\n",
              "count  29489.000000\n",
              "mean       2.321713\n",
              "std        0.980046\n",
              "min        0.000000\n",
              "25%        2.000000\n",
              "50%        2.000000\n",
              "75%        3.000000\n",
              "max        7.000000"
            ]
          },
          "metadata": {},
          "execution_count": 103
        }
      ]
    },
    {
      "cell_type": "code",
      "source": [
        "# Normalization with MinMaxScaler\n",
        "\n",
        "from sklearn import preprocessing # the package\n",
        "\n",
        "West_Nile_Virus1 = West_Nile_Virus # backing up my dataframe--you never know!\n",
        "x =   West_Nile_Virus1.values  # pulling out just the array values\n",
        "\n",
        "# Now we are using the scaler\n",
        "min_max_scaler = preprocessing.MinMaxScaler()\n",
        "\n",
        "# Check the link above for more explanation of this line\n",
        "x_scaled = min_max_scaler.fit_transform(x) \n",
        "\n",
        "West_Nile_Virus = pd.DataFrame(x_scaled)\n"
      ],
      "metadata": {
        "id": "gkj2VpFfyH2u"
      },
      "execution_count": 95,
      "outputs": []
    },
    {
      "cell_type": "code",
      "source": [
        "bins = np.linspace(West_Nile_Virus.WEEK.min(),West_Nile_Virus.WEEK.max(),6)\n",
        "bins"
      ],
      "metadata": {
        "colab": {
          "base_uri": "https://localhost:8080/"
        },
        "id": "MFuXgELuyBaY",
        "outputId": "70e83532-0b87-435b-ad15-8d503b78987d"
      },
      "execution_count": 111,
      "outputs": [
        {
          "output_type": "execute_result",
          "data": {
            "text/plain": [
              "array([20., 24., 28., 32., 36., 40.])"
            ]
          },
          "metadata": {},
          "execution_count": 111
        }
      ]
    },
    {
      "cell_type": "code",
      "source": [
        "labels = ['xs', 's', 'm','l','xl']\n",
        "West_Nile_Virus3=West_Nile_Virus\n",
        "West_Nile_Virus3['bins'] = pd.cut(West_Nile_Virus3['WEEK'], bins=bins, labels=labels, include_lowest=True)"
      ],
      "metadata": {
        "id": "yOb3XlQ2yvSr"
      },
      "execution_count": 112,
      "outputs": []
    },
    {
      "cell_type": "code",
      "source": [
        "West_Nile_Virus3['bins']"
      ],
      "metadata": {
        "colab": {
          "base_uri": "https://localhost:8080/"
        },
        "id": "egttjytOymID",
        "outputId": "9df6af52-3cb8-4d47-d79b-3a34b4e6bdaf"
      },
      "execution_count": 113,
      "outputs": [
        {
          "output_type": "execute_result",
          "data": {
            "text/plain": [
              "0        xl\n",
              "1        xl\n",
              "2         l\n",
              "3         l\n",
              "4        xl\n",
              "         ..\n",
              "29484     m\n",
              "29485     l\n",
              "29486     m\n",
              "29487     l\n",
              "29488    xl\n",
              "Name: bins, Length: 29489, dtype: category\n",
              "Categories (5, object): ['xs' < 's' < 'm' < 'l' < 'xl']"
            ]
          },
          "metadata": {},
          "execution_count": 113
        }
      ]
    },
    {
      "cell_type": "code",
      "source": [
        " q3= West_Nile_Virus.iloc[:,2].fillna('NULL')\n",
        "q3.isnull().values.any()"
      ],
      "metadata": {
        "colab": {
          "base_uri": "https://localhost:8080/"
        },
        "id": "hBA-yIBAy_lI",
        "outputId": "da2d87d1-cd28-4265-a68c-5f1602446700"
      },
      "execution_count": 119,
      "outputs": [
        {
          "output_type": "execute_result",
          "data": {
            "text/plain": [
              "False"
            ]
          },
          "metadata": {},
          "execution_count": 119
        }
      ]
    },
    {
      "cell_type": "code",
      "source": [
        "#Perform a 5-number summary for another numerical attribute. (1 point)\n",
        "West_Nile_Virus[['WEEK']].describe()\n",
        "\n"
      ],
      "metadata": {
        "colab": {
          "base_uri": "https://localhost:8080/",
          "height": 300
        },
        "id": "yzdD3zDfzPSP",
        "outputId": "71645b23-a736-46fa-f0cb-f7b6dac82118"
      },
      "execution_count": 120,
      "outputs": [
        {
          "output_type": "execute_result",
          "data": {
            "text/html": [
              "<div>\n",
              "<style scoped>\n",
              "    .dataframe tbody tr th:only-of-type {\n",
              "        vertical-align: middle;\n",
              "    }\n",
              "\n",
              "    .dataframe tbody tr th {\n",
              "        vertical-align: top;\n",
              "    }\n",
              "\n",
              "    .dataframe thead th {\n",
              "        text-align: right;\n",
              "    }\n",
              "</style>\n",
              "<table border=\"1\" class=\"dataframe\">\n",
              "  <thead>\n",
              "    <tr style=\"text-align: right;\">\n",
              "      <th></th>\n",
              "      <th>WEEK</th>\n",
              "    </tr>\n",
              "  </thead>\n",
              "  <tbody>\n",
              "    <tr>\n",
              "      <th>count</th>\n",
              "      <td>29489.000000</td>\n",
              "    </tr>\n",
              "    <tr>\n",
              "      <th>mean</th>\n",
              "      <td>31.073587</td>\n",
              "    </tr>\n",
              "    <tr>\n",
              "      <th>std</th>\n",
              "      <td>4.533390</td>\n",
              "    </tr>\n",
              "    <tr>\n",
              "      <th>min</th>\n",
              "      <td>20.000000</td>\n",
              "    </tr>\n",
              "    <tr>\n",
              "      <th>25%</th>\n",
              "      <td>28.000000</td>\n",
              "    </tr>\n",
              "    <tr>\n",
              "      <th>50%</th>\n",
              "      <td>31.000000</td>\n",
              "    </tr>\n",
              "    <tr>\n",
              "      <th>75%</th>\n",
              "      <td>35.000000</td>\n",
              "    </tr>\n",
              "    <tr>\n",
              "      <th>max</th>\n",
              "      <td>40.000000</td>\n",
              "    </tr>\n",
              "  </tbody>\n",
              "</table>\n",
              "</div>"
            ],
            "text/plain": [
              "               WEEK\n",
              "count  29489.000000\n",
              "mean      31.073587\n",
              "std        4.533390\n",
              "min       20.000000\n",
              "25%       28.000000\n",
              "50%       31.000000\n",
              "75%       35.000000\n",
              "max       40.000000"
            ]
          },
          "metadata": {},
          "execution_count": 120
        }
      ]
    },
    {
      "cell_type": "code",
      "source": [
        "X = West_Nile_Virus.iloc[:, [0,1,2,3,4,5,6,7,8,10,11,12]].values\n",
        "y = West_Nile_Virus.iloc[:, 9].values\n",
        "\n",
        "#X = np.append(arr = np.ones((29489, 1)).astype(int), values = X, axis = 1) # We are building our numpy array\n",
        "\n",
        "#X.shape\n",
        "X_opt = X # Now we combine all 6 input variables into our first iteration"
      ],
      "metadata": {
        "id": "rRdWu_Md5fAK"
      },
      "execution_count": 127,
      "outputs": []
    },
    {
      "cell_type": "code",
      "source": [
        "X = West_Nile_Virus.iloc[:, [0,1,2,10,11]].values\n",
        "y = West_Nile_Virus.iloc[:, 9].values\n",
        "\n",
        "X = np.append(arr = np.ones((29489, 1)).astype(int), values = X, axis = 1) # We are building our numpy array\n",
        "\n",
        "#X.shape\n",
        "X_opt = X # Now we combine all 6 input variables into our first iteration"
      ],
      "metadata": {
        "id": "xag2nkfWA01g"
      },
      "execution_count": 143,
      "outputs": []
    },
    {
      "cell_type": "code",
      "source": [
        "West_Nile_Virus.iloc[:, [0,1,2,10,11]] = West_Nile_Virus.iloc[:,[0,1,2,10,11]].fillna(0)"
      ],
      "metadata": {
        "id": "AD2BMsWCBwpK"
      },
      "execution_count": 142,
      "outputs": []
    },
    {
      "cell_type": "code",
      "source": [
        "#Split the dataset into 60% training set and 40% test set with sampling (1 point)\n",
        "from sklearn.model_selection import train_test_split\n",
        "\n",
        "X_train, X_test, y_train, y_test = train_test_split(X_opt, y, test_size = 0.4, random_state = 0) # Size of test data is 40%, size of training data is 80%\n",
        "\n",
        "print('X Train', X_train.shape)\n",
        "print('X Test', X_test.shape)\n"
      ],
      "metadata": {
        "colab": {
          "base_uri": "https://localhost:8080/"
        },
        "id": "0yPCLWvez0Vs",
        "outputId": "b3f25d76-5519-42ba-d2dd-c8dfe767e9ee"
      },
      "execution_count": 144,
      "outputs": [
        {
          "output_type": "stream",
          "name": "stdout",
          "text": [
            "X Train (17693, 6)\n",
            "X Test (11796, 6)\n"
          ]
        }
      ]
    },
    {
      "cell_type": "code",
      "source": [
        "#Transforming the values\n",
        "\n",
        "print(West_Nile_Virus.corr())\n",
        "import matplotlib.pyplot as plt\n",
        "\n",
        "plt.matshow(West_Nile_Virus.corr())\n",
        "plt.show()"
      ],
      "metadata": {
        "colab": {
          "base_uri": "https://localhost:8080/",
          "height": 449
        },
        "id": "Z3pVXp7b-1Zp",
        "outputId": "d43905ee-0cbc-465c-bf71-75033c6be539"
      },
      "execution_count": 133,
      "outputs": [
        {
          "output_type": "stream",
          "name": "stdout",
          "text": [
            "                      SEASON YEAR      WEEK  ...  LATITUDE  LONGITUDE\n",
            "SEASON YEAR              1.000000  0.005214  ...  0.075868  -0.055608\n",
            "WEEK                     0.005214  1.000000  ... -0.011048   0.017058\n",
            "TEST ID                  0.994706  0.084378  ...  0.075554  -0.054932\n",
            "NUMBER OF MOSQUITOES    -0.018555 -0.049827  ... -0.029503  -0.036004\n",
            "SPECIES                  0.195687 -0.159351  ...  0.042011  -0.011232\n",
            "LATITUDE                 0.075868 -0.011048  ...  1.000000  -0.695343\n",
            "LONGITUDE               -0.055608  0.017058  ... -0.695343   1.000000\n",
            "\n",
            "[7 rows x 7 columns]\n"
          ]
        },
        {
          "output_type": "display_data",
          "data": {
            "image/png": "[encoded data removed]",
            "text/plain": [
              "<Figure size 288x288 with 1 Axes>"
            ]
          },
          "metadata": {
            "needs_background": "light"
          }
        }
      ]
    },
    {
      "cell_type": "code",
      "source": [
        "from sklearn.linear_model import LogisticRegression\n",
        "\n",
        "model = LogisticRegression()\n",
        "model.fit(X_train, y_train)"
      ],
      "metadata": {
        "colab": {
          "base_uri": "https://localhost:8080/"
        },
        "id": "yY_IHA9_AU5K",
        "outputId": "ce5751e1-06d5-47a7-8ced-7d7ddc29eb6a"
      },
      "execution_count": 145,
      "outputs": [
        {
          "output_type": "stream",
          "name": "stderr",
          "text": [
            "/usr/local/lib/python3.7/dist-packages/sklearn/linear_model/_logistic.py:818: ConvergenceWarning: lbfgs failed to converge (status=1):\n",
            "STOP: TOTAL NO. of ITERATIONS REACHED LIMIT.\n",
            "\n",
            "Increase the number of iterations (max_iter) or scale the data as shown in:\n",
            "    https://scikit-learn.org/stable/modules/preprocessing.html\n",
            "Please also refer to the documentation for alternative solver options:\n",
            "    https://scikit-learn.org/stable/modules/linear_model.html#logistic-regression\n",
            "  extra_warning_msg=_LOGISTIC_SOLVER_CONVERGENCE_MSG,\n"
          ]
        },
        {
          "output_type": "execute_result",
          "data": {
            "text/plain": [
              "LogisticRegression()"
            ]
          },
          "metadata": {},
          "execution_count": 145
        }
      ]
    },
    {
      "cell_type": "code",
      "source": [
        "y_pred=model.predict(X_test)"
      ],
      "metadata": {
        "id": "vbmEwS0IEcxy"
      },
      "execution_count": 149,
      "outputs": []
    },
    {
      "cell_type": "code",
      "source": [
        "from sklearn import metrics\n",
        "cnf_matrix = metrics.confusion_matrix(y_test, y_pred)\n",
        "cnf_matrix"
      ],
      "metadata": {
        "colab": {
          "base_uri": "https://localhost:8080/"
        },
        "id": "zx-EG46cEkin",
        "outputId": "7356e69f-da9f-4491-eac4-9ee9f9b65382"
      },
      "execution_count": 152,
      "outputs": [
        {
          "output_type": "execute_result",
          "data": {
            "text/plain": [
              "array([[   0,    0,    3,    1,    0,    0,    0,    0],\n",
              "       [   0,    0, 1895,   58,    0,    0,    0,    0],\n",
              "       [   0,    0, 4357,  985,    0,    0,    0,    0],\n",
              "       [   0,    0, 2999,  980,    0,    0,    0,    0],\n",
              "       [   0,    0,   90,    8,    0,    0,    0,    0],\n",
              "       [   0,    0,   17,    5,    0,    0,    0,    0],\n",
              "       [   0,    0,  290,   98,    0,    0,    0,    0],\n",
              "       [   0,    0,   10,    0,    0,    0,    0,    0]])"
            ]
          },
          "metadata": {},
          "execution_count": 152
        }
      ]
    },
    {
      "cell_type": "code",
      "source": [
        "from sklearn.metrics import classification_report\n",
        "target_names = ['class 0', 'class 1', 'class 2','class3','class4','class5','class6','class7']\n",
        "print(classification_report(y_test, y_pred, target_names=target_names))"
      ],
      "metadata": {
        "colab": {
          "base_uri": "https://localhost:8080/"
        },
        "id": "68i7Vsv2FMgB",
        "outputId": "6a1bef9c-ac4f-4bd7-f02e-f07b9a172d70"
      },
      "execution_count": 160,
      "outputs": [
        {
          "output_type": "stream",
          "name": "stdout",
          "text": [
            "              precision    recall  f1-score   support\n",
            "\n",
            "     class 0       0.00      0.00      0.00         4\n",
            "     class 1       0.00      0.00      0.00      1953\n",
            "     class 2       0.45      0.82      0.58      5342\n",
            "      class3       0.46      0.25      0.32      3979\n",
            "      class4       0.00      0.00      0.00        98\n",
            "      class5       0.00      0.00      0.00        22\n",
            "      class6       0.00      0.00      0.00       388\n",
            "      class7       0.00      0.00      0.00        10\n",
            "\n",
            "    accuracy                           0.45     11796\n",
            "   macro avg       0.11      0.13      0.11     11796\n",
            "weighted avg       0.36      0.45      0.37     11796\n",
            "\n"
          ]
        },
        {
          "output_type": "stream",
          "name": "stderr",
          "text": [
            "/usr/local/lib/python3.7/dist-packages/sklearn/metrics/_classification.py:1308: UndefinedMetricWarning: Precision and F-score are ill-defined and being set to 0.0 in labels with no predicted samples. Use `zero_division` parameter to control this behavior.\n",
            "  _warn_prf(average, modifier, msg_start, len(result))\n",
            "/usr/local/lib/python3.7/dist-packages/sklearn/metrics/_classification.py:1308: UndefinedMetricWarning: Precision and F-score are ill-defined and being set to 0.0 in labels with no predicted samples. Use `zero_division` parameter to control this behavior.\n",
            "  _warn_prf(average, modifier, msg_start, len(result))\n",
            "/usr/local/lib/python3.7/dist-packages/sklearn/metrics/_classification.py:1308: UndefinedMetricWarning: Precision and F-score are ill-defined and being set to 0.0 in labels with no predicted samples. Use `zero_division` parameter to control this behavior.\n",
            "  _warn_prf(average, modifier, msg_start, len(result))\n"
          ]
        }
      ]
    },
    {
      "cell_type": "code",
      "source": [
        "accuracy = model.score(X_test, y_test)\n",
        "print(\"accuracy = \", accuracy * 100, \"%\")"
      ],
      "metadata": {
        "colab": {
          "base_uri": "https://localhost:8080/"
        },
        "id": "R_DRkr8DAmmF",
        "outputId": "298c9741-52e0-46fd-f042-b5a6399f9d2d"
      },
      "execution_count": 147,
      "outputs": [
        {
          "output_type": "stream",
          "name": "stdout",
          "text": [
            "accuracy =  45.244150559511695 %\n"
          ]
        }
      ]
    },
    {
      "cell_type": "markdown",
      "metadata": {
        "id": "4_kCnsPUqS6o"
      },
      "source": [
        "You can import your own data into Colab notebooks from your Google Drive account, including from spreadsheets, as well as from Github and many other sources. To learn more about importing data, and how Colab can be used for data science, see the links below under [Working with Data](#working-with-data)."
      ]
    },
    {
      "cell_type": "markdown",
      "metadata": {
        "id": "OwuxHmxllTwN"
      },
      "source": [
        "## Machine learning\n",
        "\n",
        "With Colab you can import an image dataset, train an image classifier on it, and evaluate the model, all in just [a few lines of code](https://colab.research.google.com/github/tensorflow/docs/blob/master/site/en/tutorials/quickstart/beginner.ipynb). Colab notebooks execute code on Google's cloud servers, meaning you can leverage the power of Google hardware, including [GPUs and TPUs](#using-accelerated-hardware), regardless of the power of your machine. All you need is a browser."
      ]
    },
    {
      "cell_type": "markdown",
      "metadata": {
        "id": "ufxBm1yRnruN"
      },
      "source": [
        "Colab is used extensively in the machine learning community with applications including:\n",
        "- Getting started with TensorFlow\n",
        "- Developing and training neural networks\n",
        "- Experimenting with TPUs\n",
        "- Disseminating AI research\n",
        "- Creating tutorials\n",
        "\n",
        "To see sample Colab notebooks that demonstrate machine learning applications, see the [machine learning examples](#machine-learning-examples) below."
      ]
    },
    {
      "cell_type": "markdown",
      "metadata": {
        "id": "-Rh3-Vt9Nev9"
      },
      "source": [
        "## More Resources\n",
        "\n",
        "### Working with Notebooks in Colab\n",
        "- [Overview of Colaboratory](/notebooks/basic_features_overview.ipynb)\n",
        "- [Guide to Markdown](/notebooks/markdown_guide.ipynb)\n",
        "- [Importing libraries and installing dependencies](/notebooks/snippets/importing_libraries.ipynb)\n",
        "- [Saving and loading notebooks in GitHub](https://colab.research.google.com/github/googlecolab/colabtools/blob/master/notebooks/colab-github-demo.ipynb)\n",
        "- [Interactive forms](/notebooks/forms.ipynb)\n",
        "- [Interactive widgets](/notebooks/widgets.ipynb)\n",
        "- <img src=\"/img/new.png\" height=\"20px\" align=\"left\" hspace=\"4px\" alt=\"New\"></img>\n",
        " [TensorFlow 2 in Colab](/notebooks/tensorflow_version.ipynb)\n",
        "\n",
        "<a name=\"working-with-data\"></a>\n",
        "### Working with Data\n",
        "- [Loading data: Drive, Sheets, and Google Cloud Storage](/notebooks/io.ipynb) \n",
        "- [Charts: visualizing data](/notebooks/charts.ipynb)\n",
        "- [Getting started with BigQuery](/notebooks/bigquery.ipynb)\n",
        "\n",
        "### Machine Learning Crash Course\n",
        "These are a few of the notebooks from Google's online Machine Learning course. See the [full course website](https://developers.google.com/machine-learning/crash-course/) for more.\n",
        "- [Intro to Pandas DataFrame](https://colab.research.google.com/github/google/eng-edu/blob/main/ml/cc/exercises/pandas_dataframe_ultraquick_tutorial.ipynb)\n",
        "- [Linear regression with tf.keras using synthetic data](https://colab.research.google.com/github/google/eng-edu/blob/main/ml/cc/exercises/linear_regression_with_synthetic_data.ipynb)\n",
        "\n",
        "\n",
        "<a name=\"using-accelerated-hardware\"></a>\n",
        "### Using Accelerated Hardware\n",
        "- [TensorFlow with GPUs](/notebooks/gpu.ipynb)\n",
        "- [TensorFlow with TPUs](/notebooks/tpu.ipynb)"
      ]
    },
    {
      "cell_type": "markdown",
      "metadata": {
        "id": "P-H6Lw1vyNNd"
      },
      "source": [
        "<a name=\"machine-learning-examples\"></a>\n",
        "\n",
        "## Machine Learning Examples\n",
        "\n",
        "To see end-to-end examples of the interactive machine learning analyses that Colaboratory makes possible, check out these  tutorials using models from [TensorFlow Hub](https://tfhub.dev).\n",
        "\n",
        "A few featured examples:\n",
        "\n",
        "- [Retraining an Image Classifier](https://tensorflow.org/hub/tutorials/tf2_image_retraining): Build a Keras model on top of a pre-trained image classifier to distinguish flowers.\n",
        "- [Text Classification](https://tensorflow.org/hub/tutorials/tf2_text_classification): Classify IMDB movie reviews as either *positive* or *negative*.\n",
        "- [Style Transfer](https://tensorflow.org/hub/tutorials/tf2_arbitrary_image_stylization): Use deep learning to transfer style between images.\n",
        "- [Multilingual Universal Sentence Encoder Q&A](https://tensorflow.org/hub/tutorials/retrieval_with_tf_hub_universal_encoder_qa): Use a machine learning model to answer questions from the SQuAD dataset.\n",
        "- [Video Interpolation](https://tensorflow.org/hub/tutorials/tweening_conv3d): Predict what happened in a video between the first and the last frame.\n"
      ]
    }
  ],
  "metadata": {
    "colab": {
      "collapsed_sections": [],
      "name": "Welcome To Colaboratory",
      "toc_visible": true,
      "provenance": [],
      "include_colab_link": true
    },
    "kernelspec": {
      "display_name": "Python 3",
      "name": "python3"
    }
  },
  "nbformat": 4,
  "nbformat_minor": 0
}