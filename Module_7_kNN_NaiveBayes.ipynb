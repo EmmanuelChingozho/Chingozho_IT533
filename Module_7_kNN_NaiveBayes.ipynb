{
  "nbformat": 4,
  "nbformat_minor": 0,
  "metadata": {
    "kernelspec": {
      "display_name": "Python 3",
      "language": "python",
      "name": "python3"
    },
    "language_info": {
      "codemirror_mode": {
        "name": "ipython",
        "version": 3
      },
      "file_extension": ".py",
      "mimetype": "text/x-python",
      "name": "python",
      "nbconvert_exporter": "python",
      "pygments_lexer": "ipython3",
      "version": "3.7.0"
    },
    "colab": {
      "name": "Module 7_kNN_NaiveBayes.ipynb",
      "provenance": [],
      "collapsed_sections": [],
      "toc_visible": true,
      "include_colab_link": true
    }
  },
  "cells": [
    {
      "cell_type": "markdown",
      "metadata": {
        "id": "view-in-github",
        "colab_type": "text"
      },
      "source": [
        "<a href=\"https://colab.research.google.com/github/EmmanuelChingozho/Chingozho_IT533/blob/main/Module_7_kNN_NaiveBayes.ipynb\" target=\"_parent\"><img src=\"https://colab.research.google.com/assets/colab-badge.svg\" alt=\"Open In Colab\"/></a>"
      ]
    },
    {
      "cell_type": "markdown",
      "metadata": {
        "id": "Bt6qwtGlIJ6G"
      },
      "source": [
        "# **Week 6: CLASSIFICATION: k Nearest Neighbor and Naive Bayes**\n",
        "This week, we will step into machine learning with the k Nearest Neighbor and Naive Bayes algorithms. At the end of this week you will be able to:\n",
        "* Outline the concepts of Supervised Learning\n",
        "* Explain what classification is\n",
        "* Describe how k Nearest Neighbor works\n",
        "* Describe how Naive Bayes works\n",
        "* Write code to execute both, k Nearest Neighbor and Naive Bayes"
      ]
    },
    {
      "cell_type": "markdown",
      "metadata": {
        "id": "pkWv-q8OiWG6"
      },
      "source": [
        "##**Supervised Learning**\n",
        "This week, we are going to take the whole idea of forecasting a step further. With last week's logistic regression, we learned how to build a model that sorts data into 1 of two factors in a target attribute; in other words: A model with binary class outcome. This week, we are going to work with a categorical class attribute and two different machine learning mechanisms: The empirical classifier k Nearest Neighbor and the statistical classifier Naive Bayes.\n",
        "\n",
        "Both are part of **SUPERVISED LEARNING**. A supervised machine learning algorithm relies on labeled input data to learn a function that produces an appropriate output when given new unlabeled data. Imagine a computer is a child, we are its supervisor (e.g. parent, guardian, or teacher), and we want the child (computer) to learn what a book looks like. We will show the child several different pictures, some of which are books and the rest could be pictures of anything (cats, coffee cups, computers, etc).\n",
        "When we see a book, we shout \"book!” When it’s not a pig, we shout “no, not book!” After doing this several times with the child, we show them a picture and ask “book?” and they will correctly (most of the time) say “book!” or “no, not book!” depending on what the picture is. That is supervised learning.\n",
        "\n",
        "Now, please watch the video below. It's a great introduction to Supervised Learning."
      ]
    },
    {
      "cell_type": "code",
      "metadata": {
        "colab": {
          "base_uri": "https://localhost:8080/",
          "height": 336
        },
        "id": "Lj5-hiXkYzzI",
        "outputId": "55ff505c-51be-4d78-dc61-be47720cd148"
      },
      "source": [
        "from IPython.display import HTML # This is just for me so I can embed videos\n",
        "from IPython.display import Image # This is just for me so I can embed images\n",
        "HTML('<iframe width=\"560\" height=\"315\" src=\"https://www.youtube.com/embed/kE5QZ8G_78c\" title=\"YouTube video player\" frameborder=\"0\" allow=\"accelerometer; autoplay; clipboard-write; encrypted-media; gyroscope; picture-in-picture\" allowfullscreen></iframe>')"
      ],
      "execution_count": 1,
      "outputs": [
        {
          "output_type": "execute_result",
          "data": {
            "text/html": [
              "<iframe width=\"560\" height=\"315\" src=\"https://www.youtube.com/embed/kE5QZ8G_78c\" title=\"YouTube video player\" frameborder=\"0\" allow=\"accelerometer; autoplay; clipboard-write; encrypted-media; gyroscope; picture-in-picture\" allowfullscreen></iframe>"
            ],
            "text/plain": [
              "<IPython.core.display.HTML object>"
            ]
          },
          "metadata": {},
          "execution_count": 1
        }
      ]
    },
    {
      "cell_type": "markdown",
      "metadata": {
        "id": "U0xAsvw1bDCH"
      },
      "source": [
        "##**Classification**\n",
        "Classification is the problem of identifying which of a set of categories an observation belongs to. For example: Classification helps us assign a given email to the \"spam\" or \"non-spam\" class, or a diagnosis to a given patient based on observed characteristics of the patient. \n",
        "\n",
        "In machine learning, classification has these steps:\n",
        "1. Determine what the class attribute in the dataset should be. This will be the attribute you'll predict later on\n",
        "2. Preprocess the data (remove n/a, transform data types as needed, deal with missing data) and ensure that the dependent attribute is CATEGORICAL\n",
        "3. Split the data into a training set and a test set\n",
        "4. Build the model based on the training set\n",
        "5. Test the model on the test set and compare the calculated class values to the actual class values shown in the test set.\n",
        "6. Determine the quality of the model\n",
        "\n",
        "Ready? Let's go.\n"
      ]
    },
    {
      "cell_type": "markdown",
      "metadata": {
        "id": "KdkVv9lncnIq"
      },
      "source": [
        "#**0. Preparation and Setup**\n",
        "For these explanations, we will need a model with a dependent attribute that is categorical. The typical explanation uses the famous [iris flower dataset](https://github.com/shstreuber/Data-Mining/blob/master/data/iris.csv), which even has [its own wikipedia page](https://en.wikipedia.org/wiki/Iris_flower_data_set). However, we will use the insurance dataset because it allows us to tackle actual real-world problems. Since we will be working with two different types of classification, the first one called k Nearest Neighbor, and the second on called Naive Bayes, we will import all the libraries upfront."
      ]
    },
    {
      "cell_type": "code",
      "metadata": {
        "id": "F_OxV6K4YV3B",
        "colab": {
          "base_uri": "https://localhost:8080/",
          "height": 261
        },
        "outputId": "3df0fa17-d0a7-45f0-8172-dcef3ddf424b"
      },
      "source": [
        "import numpy as np\n",
        "import pandas as pd \n",
        "import matplotlib.pyplot as plt\n",
        "from scipy import spatial\n",
        "import statsmodels.api as sm\n",
        "\n",
        "from IPython.display import HTML # This is just for me so I can embed videos\n",
        "from IPython.display import Image # This is just for me so I can embed images\n",
        "\n",
        "#Reading in the data as insurance dataframe\n",
        "insurance = pd.read_csv(\"https://raw.githubusercontent.com/shstreuber/Data-Mining/master/data/insurance_with_categories.csv\")\n",
        "\n",
        "#Verifying that we can see the data\n",
        "insurance.head()"
      ],
      "execution_count": 4,
      "outputs": [
        {
          "output_type": "stream",
          "name": "stderr",
          "text": [
            "/usr/local/lib/python3.7/dist-packages/statsmodels/tools/_testing.py:19: FutureWarning: pandas.util.testing is deprecated. Use the functions in the public API at pandas.testing instead.\n",
            "  import pandas.util.testing as tm\n"
          ]
        },
        {
          "output_type": "execute_result",
          "data": {
            "text/html": [
              "<div>\n",
              "<style scoped>\n",
              "    .dataframe tbody tr th:only-of-type {\n",
              "        vertical-align: middle;\n",
              "    }\n",
              "\n",
              "    .dataframe tbody tr th {\n",
              "        vertical-align: top;\n",
              "    }\n",
              "\n",
              "    .dataframe thead th {\n",
              "        text-align: right;\n",
              "    }\n",
              "</style>\n",
              "<table border=\"1\" class=\"dataframe\">\n",
              "  <thead>\n",
              "    <tr style=\"text-align: right;\">\n",
              "      <th></th>\n",
              "      <th>age</th>\n",
              "      <th>sex</th>\n",
              "      <th>bmi</th>\n",
              "      <th>children</th>\n",
              "      <th>smoker</th>\n",
              "      <th>region</th>\n",
              "      <th>charges</th>\n",
              "    </tr>\n",
              "  </thead>\n",
              "  <tbody>\n",
              "    <tr>\n",
              "      <th>0</th>\n",
              "      <td>19</td>\n",
              "      <td>female</td>\n",
              "      <td>27.900</td>\n",
              "      <td>0</td>\n",
              "      <td>yes</td>\n",
              "      <td>southwest</td>\n",
              "      <td>16884.92400</td>\n",
              "    </tr>\n",
              "    <tr>\n",
              "      <th>1</th>\n",
              "      <td>18</td>\n",
              "      <td>male</td>\n",
              "      <td>33.770</td>\n",
              "      <td>1</td>\n",
              "      <td>no</td>\n",
              "      <td>southeast</td>\n",
              "      <td>1725.55230</td>\n",
              "    </tr>\n",
              "    <tr>\n",
              "      <th>2</th>\n",
              "      <td>28</td>\n",
              "      <td>male</td>\n",
              "      <td>33.000</td>\n",
              "      <td>3</td>\n",
              "      <td>no</td>\n",
              "      <td>southeast</td>\n",
              "      <td>4449.46200</td>\n",
              "    </tr>\n",
              "    <tr>\n",
              "      <th>3</th>\n",
              "      <td>33</td>\n",
              "      <td>male</td>\n",
              "      <td>22.705</td>\n",
              "      <td>0</td>\n",
              "      <td>no</td>\n",
              "      <td>northwest</td>\n",
              "      <td>21984.47061</td>\n",
              "    </tr>\n",
              "    <tr>\n",
              "      <th>4</th>\n",
              "      <td>32</td>\n",
              "      <td>male</td>\n",
              "      <td>28.880</td>\n",
              "      <td>0</td>\n",
              "      <td>no</td>\n",
              "      <td>northwest</td>\n",
              "      <td>3866.85520</td>\n",
              "    </tr>\n",
              "  </tbody>\n",
              "</table>\n",
              "</div>"
            ],
            "text/plain": [
              "   age     sex     bmi  children smoker     region      charges\n",
              "0   19  female  27.900         0    yes  southwest  16884.92400\n",
              "1   18    male  33.770         1     no  southeast   1725.55230\n",
              "2   28    male  33.000         3     no  southeast   4449.46200\n",
              "3   33    male  22.705         0     no  northwest  21984.47061\n",
              "4   32    male  28.880         0     no  northwest   3866.85520"
            ]
          },
          "metadata": {},
          "execution_count": 4
        }
      ]
    },
    {
      "cell_type": "markdown",
      "metadata": {
        "id": "e_glAv3NIJ6h"
      },
      "source": [
        "# **1. k Nearest Neighbor**\n",
        "The concept of the k-nearest neighbor classifier is part of our everyday life: Imagine you meet a group of young, stylish, and sportive people. They talk about their friend Ben, who isn't with them. How do you imagine Ben? Young, stylish, and sportive? Bingo! Then you learn that Ben lives in a neighborhood where people have an average income above 200000 dollars a year and drive fancy European cars. Both his neighbors make even more than 300,000 dollars per year! Most likely, you imagine Ben to drive an Audi or a Porsche, as well, right?\n",
        "\n",
        "The principle behind nearest neighbor classification consists in finding a predefined number, i.e. the 'k' - of training samples closest in (Euclidian) distance to the new sample that we want to classify. The label of the new sample will be defined based on these neighbors. \n",
        "\n",
        "Would you like a more in-depth explanation? The video below gives you all the detail you will want to know as you proceed.\n"
      ]
    },
    {
      "cell_type": "code",
      "metadata": {
        "colab": {
          "base_uri": "https://localhost:8080/",
          "height": 336
        },
        "id": "IaUy_ZDBfXKP",
        "outputId": "bbf18379-8a71-45d6-fb8a-1fa1456263a6"
      },
      "source": [
        "HTML('<iframe width=\"560\" height=\"315\" src=\"https://www.youtube.com/embed/4HKqjENq9OU\" title=\"YouTube video player\" frameborder=\"0\" allow=\"accelerometer; autoplay; clipboard-write; encrypted-media; gyroscope; picture-in-picture\" allowfullscreen></iframe>')"
      ],
      "execution_count": 5,
      "outputs": [
        {
          "output_type": "execute_result",
          "data": {
            "text/html": [
              "<iframe width=\"560\" height=\"315\" src=\"https://www.youtube.com/embed/4HKqjENq9OU\" title=\"YouTube video player\" frameborder=\"0\" allow=\"accelerometer; autoplay; clipboard-write; encrypted-media; gyroscope; picture-in-picture\" allowfullscreen></iframe>"
            ],
            "text/plain": [
              "<IPython.core.display.HTML object>"
            ]
          },
          "metadata": {},
          "execution_count": 5
        }
      ]
    },
    {
      "cell_type": "markdown",
      "metadata": {
        "id": "Ice_fMBvIJ6t"
      },
      "source": [
        "##**1.1 Nearest Neighbor Algorithm**\n",
        "So, in a nutshell, the k Nearest Neighbor Algorithm works like this:\n",
        "1. Load the data\n",
        "2. Initialize K to your chosen number of neighbors\n",
        "3. For each example in the data: \n",
        "  \n",
        "  3.1 Calculate the distance between the query example and the current example from the data.\n",
        "  \n",
        "  3.2 Add the distance and the index of the example to an ordered collection\n",
        "4. Sort the ordered collection of distances and indices from smallest to largest (in ascending order) by the distances\n",
        "5. Pick the first K entries from the sorted collection\n",
        "6. Get the labels of the selected K entries\n",
        "7. If classification, return the mode of the K labels\n",
        "\n",
        "To work with the k Nearest Neighbor algorithm, we use its library from the scikit learn package. We will also learn a new way to build training and test sets (with a process called cross-validation), so we are importing that package, too. Lastly, we will be generating \"pretty pictures\"--so, matplotlib is going to help us out with that.\n",
        "\n"
      ]
    },
    {
      "cell_type": "code",
      "metadata": {
        "id": "Ds7QcWXVIJ7m"
      },
      "source": [
        "# We import all the kNN libraries\n",
        "\n",
        "import matplotlib.patches as mpatches\n",
        "import matplotlib.pyplot as plt\n",
        "\n",
        "from sklearn import neighbors, datasets\n",
        "from sklearn.model_selection import cross_val_score, train_test_split\n",
        "%matplotlib inline "
      ],
      "execution_count": 6,
      "outputs": []
    },
    {
      "cell_type": "markdown",
      "metadata": {
        "id": "nxOsBveiIJ8r"
      },
      "source": [
        "##**1.2 Exploratory Data Analysis**"
      ]
    },
    {
      "cell_type": "markdown",
      "metadata": {
        "id": "qdUIGgK4s7wz"
      },
      "source": [
        "1. Let's investigate the features (= attributes or dimensions)"
      ]
    },
    {
      "cell_type": "code",
      "metadata": {
        "id": "B3jvuK-vIJ-_",
        "colab": {
          "base_uri": "https://localhost:8080/"
        },
        "outputId": "a0b91301-90ea-46af-e792-3b9a8c1c095e"
      },
      "source": [
        "insurance.info()"
      ],
      "execution_count": 7,
      "outputs": [
        {
          "output_type": "stream",
          "name": "stdout",
          "text": [
            "<class 'pandas.core.frame.DataFrame'>\n",
            "RangeIndex: 1338 entries, 0 to 1337\n",
            "Data columns (total 7 columns):\n",
            " #   Column    Non-Null Count  Dtype  \n",
            "---  ------    --------------  -----  \n",
            " 0   age       1338 non-null   int64  \n",
            " 1   sex       1338 non-null   object \n",
            " 2   bmi       1338 non-null   float64\n",
            " 3   children  1338 non-null   int64  \n",
            " 4   smoker    1338 non-null   object \n",
            " 5   region    1338 non-null   object \n",
            " 6   charges   1338 non-null   float64\n",
            "dtypes: float64(2), int64(2), object(3)\n",
            "memory usage: 73.3+ KB\n"
          ]
        }
      ]
    },
    {
      "cell_type": "markdown",
      "metadata": {
        "id": "4jh0Uka9kLO2"
      },
      "source": [
        "We have 4 numeric attributes and 3 categorical ones. \n",
        "\n",
        "2. Let's rearrange the numeric features into a dataframe and use them to predict what region a person comes from."
      ]
    },
    {
      "cell_type": "code",
      "metadata": {
        "id": "wzYzLG4UlDvR",
        "colab": {
          "base_uri": "https://localhost:8080/",
          "height": 206
        },
        "outputId": "a031df93-64ca-4cc2-c8d5-060afa944a00"
      },
      "source": [
        "insurance2 = pd.DataFrame(insurance, columns = ['age', 'bmi', 'children','charges','region'])\n",
        "insurance2.head()"
      ],
      "execution_count": 8,
      "outputs": [
        {
          "output_type": "execute_result",
          "data": {
            "text/html": [
              "<div>\n",
              "<style scoped>\n",
              "    .dataframe tbody tr th:only-of-type {\n",
              "        vertical-align: middle;\n",
              "    }\n",
              "\n",
              "    .dataframe tbody tr th {\n",
              "        vertical-align: top;\n",
              "    }\n",
              "\n",
              "    .dataframe thead th {\n",
              "        text-align: right;\n",
              "    }\n",
              "</style>\n",
              "<table border=\"1\" class=\"dataframe\">\n",
              "  <thead>\n",
              "    <tr style=\"text-align: right;\">\n",
              "      <th></th>\n",
              "      <th>age</th>\n",
              "      <th>bmi</th>\n",
              "      <th>children</th>\n",
              "      <th>charges</th>\n",
              "      <th>region</th>\n",
              "    </tr>\n",
              "  </thead>\n",
              "  <tbody>\n",
              "    <tr>\n",
              "      <th>0</th>\n",
              "      <td>19</td>\n",
              "      <td>27.900</td>\n",
              "      <td>0</td>\n",
              "      <td>16884.92400</td>\n",
              "      <td>southwest</td>\n",
              "    </tr>\n",
              "    <tr>\n",
              "      <th>1</th>\n",
              "      <td>18</td>\n",
              "      <td>33.770</td>\n",
              "      <td>1</td>\n",
              "      <td>1725.55230</td>\n",
              "      <td>southeast</td>\n",
              "    </tr>\n",
              "    <tr>\n",
              "      <th>2</th>\n",
              "      <td>28</td>\n",
              "      <td>33.000</td>\n",
              "      <td>3</td>\n",
              "      <td>4449.46200</td>\n",
              "      <td>southeast</td>\n",
              "    </tr>\n",
              "    <tr>\n",
              "      <th>3</th>\n",
              "      <td>33</td>\n",
              "      <td>22.705</td>\n",
              "      <td>0</td>\n",
              "      <td>21984.47061</td>\n",
              "      <td>northwest</td>\n",
              "    </tr>\n",
              "    <tr>\n",
              "      <th>4</th>\n",
              "      <td>32</td>\n",
              "      <td>28.880</td>\n",
              "      <td>0</td>\n",
              "      <td>3866.85520</td>\n",
              "      <td>northwest</td>\n",
              "    </tr>\n",
              "  </tbody>\n",
              "</table>\n",
              "</div>"
            ],
            "text/plain": [
              "   age     bmi  children      charges     region\n",
              "0   19  27.900         0  16884.92400  southwest\n",
              "1   18  33.770         1   1725.55230  southeast\n",
              "2   28  33.000         3   4449.46200  southeast\n",
              "3   33  22.705         0  21984.47061  northwest\n",
              "4   32  28.880         0   3866.85520  northwest"
            ]
          },
          "metadata": {},
          "execution_count": 8
        }
      ]
    },
    {
      "cell_type": "code",
      "metadata": {
        "id": "ZH1a8QAYIKAV",
        "colab": {
          "base_uri": "https://localhost:8080/"
        },
        "outputId": "c8e6e933-5c4e-4621-d1be-21b56f54b4b8"
      },
      "source": [
        "# Let's check what the levels of region are!\n",
        "insurance2.region.unique()"
      ],
      "execution_count": 9,
      "outputs": [
        {
          "output_type": "execute_result",
          "data": {
            "text/plain": [
              "array(['southwest', 'southeast', 'northwest', 'northeast'], dtype=object)"
            ]
          },
          "metadata": {},
          "execution_count": 9
        }
      ]
    },
    {
      "cell_type": "markdown",
      "metadata": {
        "id": "wudd37G_nQOX"
      },
      "source": [
        "And now for some fun stuff! Pandas has a great package that makes EDA much much easier: The pandas profiling package. It's not a standard package, so you'll need to install it with pip, then load it, and finally call it. Click around the report to learn more about the dataset we just built!"
      ]
    },
    {
      "cell_type": "code",
      "metadata": {
        "id": "fuJIng85nZ1p",
        "colab": {
          "base_uri": "https://localhost:8080/"
        },
        "outputId": "7a368c7a-91bf-41da-9de5-96cf560ab3ca"
      },
      "source": [
        "! pip install https://github.com/pandas-profiling/pandas-profiling/archive/master.zip # Installing the package first"
      ],
      "execution_count": 1,
      "outputs": [
        {
          "output_type": "stream",
          "name": "stdout",
          "text": [
            "Collecting https://github.com/pandas-profiling/pandas-profiling/archive/master.zip\n",
            "  Using cached https://github.com/pandas-profiling/pandas-profiling/archive/master.zip\n",
            "Requirement already satisfied: joblib~=1.0.1 in /usr/local/lib/python3.7/dist-packages (from pandas-profiling==3.1.0) (1.0.1)\n",
            "Requirement already satisfied: scipy>=1.4.1 in /usr/local/lib/python3.7/dist-packages (from pandas-profiling==3.1.0) (1.7.1)\n",
            "Requirement already satisfied: pandas!=1.0.0,!=1.0.1,!=1.0.2,!=1.1.0,>=0.25.3 in /usr/local/lib/python3.7/dist-packages (from pandas-profiling==3.1.0) (1.1.5)\n",
            "Requirement already satisfied: matplotlib>=3.2.0 in /usr/local/lib/python3.7/dist-packages (from pandas-profiling==3.1.0) (3.2.2)\n",
            "Requirement already satisfied: pydantic>=1.8.1 in /usr/local/lib/python3.7/dist-packages (from pandas-profiling==3.1.0) (1.8.2)\n",
            "Requirement already satisfied: PyYAML>=5.0.0 in /usr/local/lib/python3.7/dist-packages (from pandas-profiling==3.1.0) (5.4.1)\n",
            "Requirement already satisfied: jinja2>=2.11.1 in /usr/local/lib/python3.7/dist-packages (from pandas-profiling==3.1.0) (2.11.3)\n",
            "Requirement already satisfied: markupsafe~=2.0.1 in /usr/local/lib/python3.7/dist-packages (from pandas-profiling==3.1.0) (2.0.1)\n",
            "Requirement already satisfied: visions[type_image_path]==0.7.4 in /usr/local/lib/python3.7/dist-packages (from pandas-profiling==3.1.0) (0.7.4)\n",
            "Requirement already satisfied: numpy>=1.16.0 in /usr/local/lib/python3.7/dist-packages (from pandas-profiling==3.1.0) (1.19.5)\n",
            "Requirement already satisfied: htmlmin>=0.1.12 in /usr/local/lib/python3.7/dist-packages (from pandas-profiling==3.1.0) (0.1.12)\n",
            "Requirement already satisfied: missingno>=0.4.2 in /usr/local/lib/python3.7/dist-packages (from pandas-profiling==3.1.0) (0.5.0)\n",
            "Requirement already satisfied: phik>=0.11.1 in /usr/local/lib/python3.7/dist-packages (from pandas-profiling==3.1.0) (0.12.0)\n",
            "Requirement already satisfied: tangled-up-in-unicode==0.1.0 in /usr/local/lib/python3.7/dist-packages (from pandas-profiling==3.1.0) (0.1.0)\n",
            "Requirement already satisfied: requests>=2.24.0 in /usr/local/lib/python3.7/dist-packages (from pandas-profiling==3.1.0) (2.26.0)\n",
            "Requirement already satisfied: tqdm>=4.48.2 in /usr/local/lib/python3.7/dist-packages (from pandas-profiling==3.1.0) (4.62.3)\n",
            "Requirement already satisfied: seaborn>=0.10.1 in /usr/local/lib/python3.7/dist-packages (from pandas-profiling==3.1.0) (0.11.2)\n",
            "Requirement already satisfied: multimethod>=1.4 in /usr/local/lib/python3.7/dist-packages (from pandas-profiling==3.1.0) (1.6)\n",
            "Requirement already satisfied: networkx>=2.4 in /usr/local/lib/python3.7/dist-packages (from visions[type_image_path]==0.7.4->pandas-profiling==3.1.0) (2.6.3)\n",
            "Requirement already satisfied: attrs>=19.3.0 in /usr/local/lib/python3.7/dist-packages (from visions[type_image_path]==0.7.4->pandas-profiling==3.1.0) (21.2.0)\n",
            "Requirement already satisfied: Pillow in /usr/local/lib/python3.7/dist-packages (from visions[type_image_path]==0.7.4->pandas-profiling==3.1.0) (7.1.2)\n",
            "Requirement already satisfied: imagehash in /usr/local/lib/python3.7/dist-packages (from visions[type_image_path]==0.7.4->pandas-profiling==3.1.0) (4.2.1)\n",
            "Requirement already satisfied: cycler>=0.10 in /usr/local/lib/python3.7/dist-packages (from matplotlib>=3.2.0->pandas-profiling==3.1.0) (0.10.0)\n",
            "Requirement already satisfied: python-dateutil>=2.1 in /usr/local/lib/python3.7/dist-packages (from matplotlib>=3.2.0->pandas-profiling==3.1.0) (2.8.2)\n",
            "Requirement already satisfied: pyparsing!=2.0.4,!=2.1.2,!=2.1.6,>=2.0.1 in /usr/local/lib/python3.7/dist-packages (from matplotlib>=3.2.0->pandas-profiling==3.1.0) (2.4.7)\n",
            "Requirement already satisfied: kiwisolver>=1.0.1 in /usr/local/lib/python3.7/dist-packages (from matplotlib>=3.2.0->pandas-profiling==3.1.0) (1.3.2)\n",
            "Requirement already satisfied: six in /usr/local/lib/python3.7/dist-packages (from cycler>=0.10->matplotlib>=3.2.0->pandas-profiling==3.1.0) (1.15.0)\n",
            "Requirement already satisfied: pytz>=2017.2 in /usr/local/lib/python3.7/dist-packages (from pandas!=1.0.0,!=1.0.1,!=1.0.2,!=1.1.0,>=0.25.3->pandas-profiling==3.1.0) (2018.9)\n",
            "Requirement already satisfied: typing-extensions>=3.7.4.3 in /usr/local/lib/python3.7/dist-packages (from pydantic>=1.8.1->pandas-profiling==3.1.0) (3.7.4.3)\n",
            "Requirement already satisfied: urllib3<1.27,>=1.21.1 in /usr/local/lib/python3.7/dist-packages (from requests>=2.24.0->pandas-profiling==3.1.0) (1.24.3)\n",
            "Requirement already satisfied: idna<4,>=2.5 in /usr/local/lib/python3.7/dist-packages (from requests>=2.24.0->pandas-profiling==3.1.0) (2.10)\n",
            "Requirement already satisfied: certifi>=2017.4.17 in /usr/local/lib/python3.7/dist-packages (from requests>=2.24.0->pandas-profiling==3.1.0) (2021.5.30)\n",
            "Requirement already satisfied: charset-normalizer~=2.0.0 in /usr/local/lib/python3.7/dist-packages (from requests>=2.24.0->pandas-profiling==3.1.0) (2.0.6)\n",
            "Requirement already satisfied: PyWavelets in /usr/local/lib/python3.7/dist-packages (from imagehash->visions[type_image_path]==0.7.4->pandas-profiling==3.1.0) (1.1.1)\n"
          ]
        }
      ]
    },
    {
      "cell_type": "code",
      "metadata": {
        "id": "vXJoeyJ6o_KR",
        "colab": {
          "base_uri": "https://localhost:8080/"
        },
        "outputId": "4c6d6df7-d972-49d8-c653-675684b1529e"
      },
      "source": [
        "import pandas_profiling # Now we load the package\n",
        "insurance2.profile_report() # And we call the package. This will take a moment. Prepare to be amazed!\n",
        "!apt-get -qq install -y libarchive-dev && pip install -U libarchive\n",
        "import libarchive\n",
        "\n"
      ],
      "execution_count": 10,
      "outputs": [
        {
          "output_type": "stream",
          "name": "stdout",
          "text": [
            "Selecting previously unselected package libarchive-dev:amd64.\n",
            "(Reading database ... 155047 files and directories currently installed.)\n",
            "Preparing to unpack .../libarchive-dev_3.2.2-3.1ubuntu0.7_amd64.deb ...\n",
            "Unpacking libarchive-dev:amd64 (3.2.2-3.1ubuntu0.7) ...\n",
            "Setting up libarchive-dev:amd64 (3.2.2-3.1ubuntu0.7) ...\n",
            "Processing triggers for man-db (2.8.3-2ubuntu0.1) ...\n",
            "Collecting libarchive\n",
            "  Downloading libarchive-0.4.7.tar.gz (23 kB)\n",
            "Collecting nose\n",
            "  Downloading nose-1.3.7-py3-none-any.whl (154 kB)\n",
            "\u001b[K     |████████████████████████████████| 154 kB 18.8 MB/s \n",
            "\u001b[?25hBuilding wheels for collected packages: libarchive\n",
            "  Building wheel for libarchive (setup.py) ... \u001b[?25l\u001b[?25hdone\n",
            "  Created wheel for libarchive: filename=libarchive-0.4.7-py3-none-any.whl size=31647 sha256=cc5e636d190ee2fd02bb236765a4263d96296d630cbc9662c8762419dc24b710\n",
            "  Stored in directory: /root/.cache/pip/wheels/63/b1/c6/b3da79bec2012175bd43603eed98ef8548ac1733b77c1d4330\n",
            "Successfully built libarchive\n",
            "Installing collected packages: nose, libarchive\n",
            "Successfully installed libarchive-0.4.7 nose-1.3.7\n"
          ]
        }
      ]
    },
    {
      "cell_type": "markdown",
      "metadata": {
        "id": "UKl7xoQD3dKV"
      },
      "source": [
        "##**1.3 Setting up Training and Test Sets**\n",
        "To set up our training and test sets, we first split the independent variables (which we are assuming are age, bmi, children, and charges) and the class attribute (region), which contains the labels that we want to assign to the \"unknown\" data.\n",
        "\n"
      ]
    },
    {
      "cell_type": "code",
      "metadata": {
        "id": "8PVH8GKCIKEP"
      },
      "source": [
        "x=insurance2.iloc[:,:4] # all parameters\n",
        "y=insurance2['region'] # class labels 'southwest', 'southeast', 'northwest', 'northeast'\n",
        "\n",
        "#print(x) # Uncomment this line to verify your parameters/ independent variables/ attributes/ features\n",
        "#print(y) # Uncomment this line to verify your class labels"
      ],
      "execution_count": 11,
      "outputs": []
    },
    {
      "cell_type": "markdown",
      "metadata": {
        "id": "nuzsSUvVHJsM"
      },
      "source": [
        "Now that we have separated the x attributes (independent variables) and the y attribute (class attribute, dependent variable), we build our training and test sets! \n",
        "\n",
        "NOTE that we are not allocating any sizes for the train_test_split below. This will invoke the default, which is a 75% training/ 25% test split."
      ]
    },
    {
      "cell_type": "code",
      "metadata": {
        "id": "X0xJHSiTIKQa",
        "colab": {
          "base_uri": "https://localhost:8080/"
        },
        "outputId": "8fdf0fd7-69fe-438b-ca6b-462a62576d72"
      },
      "source": [
        "from sklearn.model_selection import train_test_split\n",
        "X_train, X_test, y_train, y_test = train_test_split(x, y, random_state = 0)\n",
        "\n",
        "# So, what training data do we have?\n",
        "print(\"X_train shape: {}\".format(X_train.shape))\n",
        "print(\"y_train shape: {}\".format(y_train.shape))"
      ],
      "execution_count": 12,
      "outputs": [
        {
          "output_type": "stream",
          "name": "stdout",
          "text": [
            "X_train shape: (1003, 4)\n",
            "y_train shape: (1003,)\n"
          ]
        }
      ]
    },
    {
      "cell_type": "markdown",
      "metadata": {
        "id": "VdFwC9M86UqH"
      },
      "source": [
        "##Your Turn\n",
        "How many rows and columns do you have in the test data set? Write the command below and run it!"
      ]
    },
    {
      "cell_type": "code",
      "metadata": {
        "id": "-_xfs9j-IKRH",
        "colab": {
          "base_uri": "https://localhost:8080/"
        },
        "outputId": "abc1cb87-9941-4afa-8ab3-be4bfb1fc8b9"
      },
      "source": [
        "print(\"X_test shape: {}\".format(X_test.shape))"
      ],
      "execution_count": 13,
      "outputs": [
        {
          "output_type": "stream",
          "name": "stdout",
          "text": [
            "X_test shape: (335, 4)\n"
          ]
        }
      ]
    },
    {
      "cell_type": "markdown",
      "metadata": {
        "id": "vMdKX2sRIKPZ"
      },
      "source": [
        "##**1.4 Building the Simplest Model with k=1**\n",
        "\n",
        "Remember that, in kNN classification, the output is class membership. An object is classified by a majority vote of its neighbors, with the object being assigned to the class most common among its k nearest neighbors (k is a positive integer, typically small). If k = 1, then the object is simply assigned to the class of that single nearest neighbor.\n",
        "\n",
        "We'll try that out first.[link text](https://)"
      ]
    },
    {
      "cell_type": "code",
      "metadata": {
        "scrolled": true,
        "id": "Q-QH9fAgIKRv",
        "colab": {
          "base_uri": "https://localhost:8080/"
        },
        "outputId": "e848750f-c2c7-4890-d835-219782f35b23"
      },
      "source": [
        "# This is the model with the one nearest neighbor. Note the output shows that the metric is set to minkowski, \n",
        "# but the p is set to 2, which means that we are using Euclidian distance (1 = Manhattan distance)\n",
        "\n",
        "from sklearn.neighbors import KNeighborsClassifier\n",
        "model1 = KNeighborsClassifier(n_neighbors = 1)\n",
        "model1.fit(X_train, y_train)"
      ],
      "execution_count": 14,
      "outputs": [
        {
          "output_type": "execute_result",
          "data": {
            "text/plain": [
              "KNeighborsClassifier(algorithm='auto', leaf_size=30, metric='minkowski',\n",
              "                     metric_params=None, n_jobs=None, n_neighbors=1, p=2,\n",
              "                     weights='uniform')"
            ]
          },
          "metadata": {},
          "execution_count": 14
        }
      ]
    },
    {
      "cell_type": "markdown",
      "metadata": {
        "id": "a7a73cpU_iQL"
      },
      "source": [
        "###**1.4.1 Testing the Model**\n",
        "\n",
        "As you can see, we have built model1, which is the kNN model with just 1 nearest neighbor. Next, we test it.\n",
        "\n",
        "We use y_pred to store the calculated y values (remember y hat?) that the model gives us. Then we can compare them with the actual y values that we know and see what percentage the model identified correctly."
      ]
    },
    {
      "cell_type": "code",
      "metadata": {
        "id": "fXHRpANIIKSd",
        "colab": {
          "base_uri": "https://localhost:8080/"
        },
        "outputId": "1327131b-6285-4379-e043-0a4facadb38a"
      },
      "source": [
        "y_pred = model1.predict(X_test)\n",
        "print(\"Test set predictions: \\n {}\".format(y_pred))"
      ],
      "execution_count": 15,
      "outputs": [
        {
          "output_type": "stream",
          "name": "stdout",
          "text": [
            "Test set predictions: \n",
            " ['northeast' 'southwest' 'southwest' 'southeast' 'southwest' 'northwest'\n",
            " 'northeast' 'southwest' 'northwest' 'southeast' 'northeast' 'southwest'\n",
            " 'southwest' 'southeast' 'southeast' 'southwest' 'northwest' 'southwest'\n",
            " 'northwest' 'northwest' 'northwest' 'southwest' 'southwest' 'southwest'\n",
            " 'southwest' 'southeast' 'northwest' 'northeast' 'southeast' 'northwest'\n",
            " 'southwest' 'southeast' 'southeast' 'northwest' 'northeast' 'northwest'\n",
            " 'northeast' 'southeast' 'northwest' 'southeast' 'northeast' 'southwest'\n",
            " 'southwest' 'southeast' 'southeast' 'southeast' 'southeast' 'northwest'\n",
            " 'northeast' 'southeast' 'northeast' 'northwest' 'southeast' 'southeast'\n",
            " 'southeast' 'southwest' 'southwest' 'southwest' 'southeast' 'northeast'\n",
            " 'southwest' 'northwest' 'northwest' 'southwest' 'southwest' 'southeast'\n",
            " 'northwest' 'southwest' 'northwest' 'southeast' 'northeast' 'southwest'\n",
            " 'southwest' 'southeast' 'southeast' 'northeast' 'northeast' 'northwest'\n",
            " 'northeast' 'southeast' 'northeast' 'southwest' 'northwest' 'southwest'\n",
            " 'southeast' 'southeast' 'northeast' 'northwest' 'northeast' 'northwest'\n",
            " 'southeast' 'southeast' 'northeast' 'southeast' 'northwest' 'southwest'\n",
            " 'southeast' 'northeast' 'southwest' 'southwest' 'southwest' 'southwest'\n",
            " 'northeast' 'northeast' 'northwest' 'southwest' 'northeast' 'southwest'\n",
            " 'northwest' 'northwest' 'northwest' 'northwest' 'southwest' 'northwest'\n",
            " 'southeast' 'southwest' 'northeast' 'southeast' 'southwest' 'northeast'\n",
            " 'northeast' 'northeast' 'northwest' 'southeast' 'southwest' 'northeast'\n",
            " 'southwest' 'southwest' 'northeast' 'northwest' 'southeast' 'southeast'\n",
            " 'southeast' 'southeast' 'southeast' 'southwest' 'southeast' 'northeast'\n",
            " 'northeast' 'southeast' 'northwest' 'southeast' 'northeast' 'southwest'\n",
            " 'southeast' 'northwest' 'northwest' 'southeast' 'northwest' 'southwest'\n",
            " 'northwest' 'northeast' 'northeast' 'northeast' 'northeast' 'southwest'\n",
            " 'northwest' 'northeast' 'northwest' 'southwest' 'southeast' 'southeast'\n",
            " 'northwest' 'southeast' 'southwest' 'southeast' 'northwest' 'northwest'\n",
            " 'northeast' 'southeast' 'southeast' 'northeast' 'northeast' 'northeast'\n",
            " 'northwest' 'northwest' 'northeast' 'northwest' 'northwest' 'southeast'\n",
            " 'northeast' 'northeast' 'northwest' 'southeast' 'southeast' 'southwest'\n",
            " 'northwest' 'northeast' 'northeast' 'southeast' 'southeast' 'southeast'\n",
            " 'northeast' 'southwest' 'northwest' 'southwest' 'northeast' 'northwest'\n",
            " 'southeast' 'northwest' 'northwest' 'southeast' 'northwest' 'southeast'\n",
            " 'northeast' 'southwest' 'northeast' 'southwest' 'southeast' 'southeast'\n",
            " 'southwest' 'southwest' 'southwest' 'northeast' 'southeast' 'northeast'\n",
            " 'northeast' 'northwest' 'southeast' 'southwest' 'northwest' 'northeast'\n",
            " 'southeast' 'southwest' 'northwest' 'southwest' 'northwest' 'northwest'\n",
            " 'northeast' 'northwest' 'southeast' 'northeast' 'northwest' 'northeast'\n",
            " 'southeast' 'southwest' 'northeast' 'southeast' 'southwest' 'northwest'\n",
            " 'northwest' 'southeast' 'northeast' 'southwest' 'northwest' 'southwest'\n",
            " 'southwest' 'northwest' 'northeast' 'southwest' 'southeast' 'southwest'\n",
            " 'southwest' 'southeast' 'southeast' 'northeast' 'northwest' 'southeast'\n",
            " 'southwest' 'northeast' 'northeast' 'southeast' 'southwest' 'southwest'\n",
            " 'southeast' 'northwest' 'southeast' 'southeast' 'southwest' 'southeast'\n",
            " 'southwest' 'southeast' 'northeast' 'southeast' 'southwest' 'southeast'\n",
            " 'southeast' 'northeast' 'northwest' 'northeast' 'northwest' 'northeast'\n",
            " 'northeast' 'northeast' 'southwest' 'northwest' 'northeast' 'northwest'\n",
            " 'southwest' 'northeast' 'southeast' 'northeast' 'northeast' 'southwest'\n",
            " 'northwest' 'southwest' 'southeast' 'southwest' 'southeast' 'southeast'\n",
            " 'northwest' 'northeast' 'northeast' 'southeast' 'southwest' 'northeast'\n",
            " 'southeast' 'northeast' 'northeast' 'northwest' 'northwest' 'southeast'\n",
            " 'northeast' 'northwest' 'southeast' 'northeast' 'southwest' 'southwest'\n",
            " 'southwest' 'southwest' 'northeast' 'southwest' 'northeast' 'southeast'\n",
            " 'southwest' 'northwest' 'northeast' 'northwest' 'northeast' 'northwest'\n",
            " 'northeast' 'northeast' 'southeast' 'northwest' 'northeast']\n"
          ]
        }
      ]
    },
    {
      "cell_type": "markdown",
      "metadata": {
        "id": "D5zUjMFvOcK9"
      },
      "source": [
        "###**1.4.2 Evaluating the model**\n",
        "Here, we use three critical methods to get an idea of how \"good\" our model really is.\n"
      ]
    },
    {
      "cell_type": "markdown",
      "metadata": {
        "id": "PPQZ0nMBJ2DQ"
      },
      "source": [
        "####1.4.2.1 The Accuracy Score"
      ]
    },
    {
      "cell_type": "code",
      "metadata": {
        "id": "Z6gCBHPUIKTS",
        "colab": {
          "base_uri": "https://localhost:8080/"
        },
        "outputId": "2bfb7a41-0803-4fc0-ea6e-a7faa536730b"
      },
      "source": [
        "# Accuracy score\n",
        "print(\"Test set score: {:.2f}\".format(model1.score(X_test, y_test)))"
      ],
      "execution_count": 16,
      "outputs": [
        {
          "output_type": "stream",
          "name": "stdout",
          "text": [
            "Test set score: 0.36\n"
          ]
        }
      ]
    },
    {
      "cell_type": "markdown",
      "metadata": {
        "id": "NxZ8G0g0KL8o"
      },
      "source": [
        "Oh boy! That number could be better. Let's see if the other methods indicate the same thing."
      ]
    },
    {
      "cell_type": "markdown",
      "metadata": {
        "id": "25XhYJpOX1dq"
      },
      "source": [
        "####1.4.2.2 Data Inspection Calculated vs. Actual values"
      ]
    },
    {
      "cell_type": "code",
      "metadata": {
        "id": "HbvxJdDGJ6Do",
        "colab": {
          "base_uri": "https://localhost:8080/",
          "height": 206
        },
        "outputId": "7f0a8aaa-cb68-4ad7-b47a-e4e1376e3183"
      },
      "source": [
        "# Let's compare the actual y and the predicted y\n",
        "\n",
        "realvsmodel1 = pd.DataFrame(y_pred,y_test)\n",
        "realvsmodel1 = pd.DataFrame({'predicted':y_pred,'original':y_test})\n",
        "realvsmodel1.head()"
      ],
      "execution_count": 17,
      "outputs": [
        {
          "output_type": "execute_result",
          "data": {
            "text/html": [
              "<div>\n",
              "<style scoped>\n",
              "    .dataframe tbody tr th:only-of-type {\n",
              "        vertical-align: middle;\n",
              "    }\n",
              "\n",
              "    .dataframe tbody tr th {\n",
              "        vertical-align: top;\n",
              "    }\n",
              "\n",
              "    .dataframe thead th {\n",
              "        text-align: right;\n",
              "    }\n",
              "</style>\n",
              "<table border=\"1\" class=\"dataframe\">\n",
              "  <thead>\n",
              "    <tr style=\"text-align: right;\">\n",
              "      <th></th>\n",
              "      <th>predicted</th>\n",
              "      <th>original</th>\n",
              "    </tr>\n",
              "  </thead>\n",
              "  <tbody>\n",
              "    <tr>\n",
              "      <th>578</th>\n",
              "      <td>northeast</td>\n",
              "      <td>southwest</td>\n",
              "    </tr>\n",
              "    <tr>\n",
              "      <th>610</th>\n",
              "      <td>southwest</td>\n",
              "      <td>southeast</td>\n",
              "    </tr>\n",
              "    <tr>\n",
              "      <th>569</th>\n",
              "      <td>southwest</td>\n",
              "      <td>northwest</td>\n",
              "    </tr>\n",
              "    <tr>\n",
              "      <th>1034</th>\n",
              "      <td>southeast</td>\n",
              "      <td>northwest</td>\n",
              "    </tr>\n",
              "    <tr>\n",
              "      <th>198</th>\n",
              "      <td>southwest</td>\n",
              "      <td>northwest</td>\n",
              "    </tr>\n",
              "  </tbody>\n",
              "</table>\n",
              "</div>"
            ],
            "text/plain": [
              "      predicted   original\n",
              "578   northeast  southwest\n",
              "610   southwest  southeast\n",
              "569   southwest  northwest\n",
              "1034  southeast  northwest\n",
              "198   southwest  northwest"
            ]
          },
          "metadata": {},
          "execution_count": 17
        }
      ]
    },
    {
      "cell_type": "markdown",
      "metadata": {
        "id": "vcu5LeZcKUse"
      },
      "source": [
        "Well, that doesn't look too exciting, does it? Let's go to the last and MOST IMPORTANT way of evaluating the quality of our model: **The Confusion Matrix.** "
      ]
    },
    {
      "cell_type": "markdown",
      "metadata": {
        "id": "JhN3LKPrMAKc"
      },
      "source": [
        "####1.4.2.3 The Confusion Matrix\n",
        "\n",
        "A confusion matrix compares the calculated or predicted values for all labels in the class attribute with the actual, true values that we know. In other words, we check which true values were predicted correctly and which were predicted incorrecty. For this purpose, we will use the plot_confusion_matrix group from the scikit-learn.metrics library.\n",
        "\n",
        "A longer, more mathematical, explanation is [here](https://www.dataschool.io/simple-guide-to-confusion-matrix-terminology/)."
      ]
    },
    {
      "cell_type": "code",
      "metadata": {
        "id": "nw-3P8PeZRtN",
        "colab": {
          "base_uri": "https://localhost:8080/",
          "height": 296
        },
        "outputId": "e3aed65e-7580-43ac-e07e-4b0cf56314ab"
      },
      "source": [
        "from sklearn.metrics import plot_confusion_matrix\n",
        "plot_confusion_matrix(model1, X_test, y_test)"
      ],
      "execution_count": 18,
      "outputs": [
        {
          "output_type": "execute_result",
          "data": {
            "text/plain": [
              "<sklearn.metrics._plot.confusion_matrix.ConfusionMatrixDisplay at 0x7fe1a104f910>"
            ]
          },
          "metadata": {},
          "execution_count": 18
        },
        {
          "output_type": "display_data",
          "data": {
            "image/png": "[encoded data removed]",
            "text/plain": [
              "<Figure size 432x288 with 2 Axes>"
            ]
          },
          "metadata": {
            "needs_background": "light"
          }
        }
      ]
    },
    {
      "cell_type": "markdown",
      "metadata": {
        "id": "DXbUuwkANB42"
      },
      "source": [
        "Alrighty. What are we seeing here? \n",
        "\n",
        "The true values appear in rows (label on the left side, down), the predicted values appear in columns (label across the top). Here is how to explain **the first row**: \n",
        "* All the items should have been in the northeast region because the True Label is 'northeast'. That is clearly not the case; otherwise, we would see 96 in the green box in the upper left and zeros across the rest of the row.\n",
        "* Of the actual true 'northeast' region, 35 were predicted correctly (green); 18 were incorrectly predicted as 'northwest', 17 were incorrectly predicted as 'southeast', and 26 were incorrectly predicted as 'southwest'. So, out of 96 actual 'northeast' rows, only 35 were predicted correctly. 18+17+26 (= 61) were predicted incorrectly."
      ]
    },
    {
      "cell_type": "markdown",
      "metadata": {
        "id": "Kv0cINFSOwSp"
      },
      "source": [
        "###1.4.2.4 The Classification Report\n",
        "\n",
        "The Classification Report gives us even more insights into how well (or, in our case, badly) our model performs. To read it correctly, we first have to define a few terms:\n",
        "1. **precision** (also called positive predictive value) is the number of correctly identified positive results divided by the number of all positive results, including those not identified correctly ((true positives) / (true positives + false positives)). Said another way, “for all instances classified positive, what percent was correct?”\n",
        "2. **recall** (also known as sensitivity) is the number of correctly identified positive results divided by the number of all samples that should have been identified as positive ((true positives) / (true positives + false negatives)). Said another way, “for all instances that were actually positive, what percent was classified correctly?\n",
        "3. **f-1 score** is the harmonic mean of the precision and recall. The highest possible value of F1 is 1, indicating perfect precision and recall, and the lowest possible value is 0, if either the precision or the recall is zero. As a rule of thumb, the weighted average of F1 should be used to compare classifier models, not global accuracy.\n",
        "3. **support** is the number of actual occurrences of the class in the specified dataset."
      ]
    },
    {
      "cell_type": "code",
      "metadata": {
        "id": "C0S9XzqdM_1u",
        "colab": {
          "base_uri": "https://localhost:8080/"
        },
        "outputId": "fe4e402a-2f8c-427c-b852-5c3aee89e10f"
      },
      "source": [
        "from sklearn.metrics import classification_report\n",
        "print(classification_report(y_test, y_pred, labels=['southwest', 'southeast', 'northwest', 'northeast']))"
      ],
      "execution_count": 37,
      "outputs": [
        {
          "output_type": "stream",
          "name": "stdout",
          "text": [
            "              precision    recall  f1-score   support\n",
            "\n",
            "   southwest       0.26      0.18      0.21       108\n",
            "   southeast       0.28      0.34      0.31       116\n",
            "   northwest       0.34      0.38      0.36       110\n",
            "   northeast       0.28      0.29      0.29       108\n",
            "\n",
            "    accuracy                           0.30       442\n",
            "   macro avg       0.29      0.30      0.29       442\n",
            "weighted avg       0.29      0.30      0.29       442\n",
            "\n"
          ]
        }
      ]
    },
    {
      "cell_type": "markdown",
      "metadata": {
        "id": "G6yUWu2GPzeK"
      },
      "source": [
        "Look at these values (note that \"support\" is the number of all true label quantities)--would you accept this quality from, say, a dentist? Or from your car, which (in the case of southwest), engages the brakes in 18% of all cases when you step on the pedal? \n",
        "\n",
        "Yeah, I thought so, too. Not good."
      ]
    },
    {
      "cell_type": "markdown",
      "metadata": {
        "id": "ffwJ5JBqIKUD"
      },
      "source": [
        "## **1.5 Building kNN with 5 nearest neighbors (and a 2/3 to 1/3 train/ test split)**\n",
        "Given our less-than fabulous results above, let's see if instead of assigning the class label from only 1 nearest neighbor, we can increase the accuracy of our predictions by looking at the class labels for the 5 nearest neighbors!"
      ]
    },
    {
      "cell_type": "markdown",
      "metadata": {
        "id": "Ft7hoUyhRMIb"
      },
      "source": [
        "###1.5.1 Setting up Training and Test Set\n",
        "Note how here, we use the test_size parameter to split 2/3 of the data into the training set and 1/3 into the test set."
      ]
    },
    {
      "cell_type": "code",
      "metadata": {
        "id": "vcy-VXSTIKUK",
        "colab": {
          "base_uri": "https://localhost:8080/"
        },
        "outputId": "cb6f9be6-a5f2-44a1-827d-f5d1d893b8a6"
      },
      "source": [
        "X_train, X_test, y_train, y_test = train_test_split(x, y, test_size=.33)\n",
        "\n",
        "print(\"X_train shape: {}\".format(X_train.shape))\n",
        "print(\"y_train shape: {}\".format(y_train.shape))\n",
        "print(\"X_test shape: {}\".format(X_test.shape))\n",
        "print(\"y_test shape: {}\".format(y_test.shape))"
      ],
      "execution_count": 38,
      "outputs": [
        {
          "output_type": "stream",
          "name": "stdout",
          "text": [
            "X_train shape: (896, 4)\n",
            "y_train shape: (896,)\n",
            "X_test shape: (442, 4)\n",
            "y_test shape: (442,)\n"
          ]
        }
      ]
    },
    {
      "cell_type": "markdown",
      "metadata": {
        "id": "nfpXDfqyRcO7"
      },
      "source": [
        "###1.5.2 Building the model with k=5"
      ]
    },
    {
      "cell_type": "code",
      "metadata": {
        "id": "Q1qY2KmcIKU7"
      },
      "source": [
        "model5 = neighbors.KNeighborsClassifier(n_neighbors=5)\n",
        "\n",
        "model5.fit(X_train, y_train)\n",
        "\n",
        "y_pred = model5.predict(X_test)"
      ],
      "execution_count": 39,
      "outputs": []
    },
    {
      "cell_type": "markdown",
      "metadata": {
        "id": "gGCYWn-aVSc6"
      },
      "source": [
        "Alright, we've got the model built. Everyone ready for the Confusion Matrix and the Classification Report?"
      ]
    },
    {
      "cell_type": "code",
      "metadata": {
        "id": "VbgDfHDIVher",
        "colab": {
          "base_uri": "https://localhost:8080/",
          "height": 300
        },
        "outputId": "6e710ac2-8c66-4927-9d3c-22deeddce8bb"
      },
      "source": [
        "plot_confusion_matrix(model5, X_test, y_test)"
      ],
      "execution_count": 22,
      "outputs": [
        {
          "output_type": "execute_result",
          "data": {
            "text/plain": [
              "<sklearn.metrics._plot.confusion_matrix.ConfusionMatrixDisplay at 0x7fe1a0edc0d0>"
            ]
          },
          "metadata": {},
          "execution_count": 22
        },
        {
          "output_type": "display_data",
          "data": {
            "image/png": "[encoded data removed]",
            "text/plain": [
              "<Figure size 432x288 with 2 Axes>"
            ]
          },
          "metadata": {
            "needs_background": "light"
          }
        }
      ]
    },
    {
      "cell_type": "code",
      "metadata": {
        "id": "1XKnQIxuVroI",
        "colab": {
          "base_uri": "https://localhost:8080/"
        },
        "outputId": "b290dac6-c8ab-4d5d-d199-3f03cc67e3ff"
      },
      "source": [
        "print(classification_report(y_test, y_pred, labels=['southwest', 'southeast', 'northwest', 'northeast']))"
      ],
      "execution_count": 40,
      "outputs": [
        {
          "output_type": "stream",
          "name": "stdout",
          "text": [
            "              precision    recall  f1-score   support\n",
            "\n",
            "   southwest       0.21      0.19      0.20        94\n",
            "   southeast       0.28      0.35      0.31       109\n",
            "   northwest       0.32      0.30      0.31       113\n",
            "   northeast       0.34      0.32      0.33       126\n",
            "\n",
            "    accuracy                           0.29       442\n",
            "   macro avg       0.29      0.29      0.29       442\n",
            "weighted avg       0.29      0.29      0.29       442\n",
            "\n"
          ]
        }
      ]
    },
    {
      "cell_type": "markdown",
      "metadata": {
        "id": "J6BE4vI1IKVo"
      },
      "source": [
        "Wait, seriously? Why are we getting a result that is only a little bit better, but we're spending much more processing effort? There's got to be a way to find the optimal number for k!\n",
        "\n",
        "And there is."
      ]
    },
    {
      "cell_type": "markdown",
      "metadata": {
        "id": "4D_fXddDSLUq"
      },
      "source": [
        "##**1.6 Optimizing k with Cross-Validation**\n",
        "We could spend entire days re-running the kNN and increasing k by 1 until we've found the best value for k. But that would be 1. boring, 2. too much work, 3. not efficient, given that we could instead just cycle through a list of values until we've found the best one. \n",
        "\n",
        "To achieve this in sa most efficient way, we will need to use another trick (aka a preprocessing method) that we haven't encountered yet: **Cross-validation.** Find out [in this detail description](https://machinelearningmastery.com/k-fold-cross-validation/) how cross-validation works. [This graphic](https://scikit-learn.org/stable/_images/grid_search_cross_validation.png) will also help you understand. Or watch this 5-minute video:"
      ]
    },
    {
      "cell_type": "code",
      "metadata": {
        "colab": {
          "base_uri": "https://localhost:8080/",
          "height": 336
        },
        "id": "YQXEtCxrZzkp",
        "outputId": "8a7f7b91-047d-4ed7-ab4e-1e4a8056c807"
      },
      "source": [
        "HTML('<iframe width=\"560\" height=\"315\" src=\"https://www.youtube.com/embed/fSytzGwwBVw\" title=\"YouTube video player\" frameborder=\"0\" allow=\"accelerometer; autoplay; clipboard-write; encrypted-media; gyroscope; picture-in-picture\" allowfullscreen></iframe>')"
      ],
      "execution_count": 24,
      "outputs": [
        {
          "output_type": "execute_result",
          "data": {
            "text/html": [
              "<iframe width=\"560\" height=\"315\" src=\"https://www.youtube.com/embed/fSytzGwwBVw\" title=\"YouTube video player\" frameborder=\"0\" allow=\"accelerometer; autoplay; clipboard-write; encrypted-media; gyroscope; picture-in-picture\" allowfullscreen></iframe>"
            ],
            "text/plain": [
              "<IPython.core.display.HTML object>"
            ]
          },
          "metadata": {},
          "execution_count": 24
        }
      ]
    },
    {
      "cell_type": "markdown",
      "metadata": {
        "id": "7c6x3eH_aUYV"
      },
      "source": [
        "This what we'll do now. Let's go!\n",
        "\n",
        "First, we build a list of potential k values. Then we create an empty list that will hold cross-validation scores."
      ]
    },
    {
      "cell_type": "code",
      "metadata": {
        "id": "5t0e0_mVIKVt"
      },
      "source": [
        "# To determine how to pick k, we are first creating a list of potential k values\n",
        "klist = list(range(1,50,2)) # Our list goes from 1 to 50 in increments of 2\n",
        "\n",
        "# Then we create an empty list that will hold cross-validation scores\n",
        "cv_scores = []"
      ],
      "execution_count": 41,
      "outputs": []
    },
    {
      "cell_type": "markdown",
      "metadata": {
        "id": "NnoHxO2uatiV"
      },
      "source": [
        "Now we can build our cross-validation. We will cycle through our k values from the k-value list and store the accuracy scores in the cv_scores list. To make things easier on us, we will convert the accuracy score into its opposite--the misclassification error. This misclassification error is really the average of all the misclassifications for one run of k."
      ]
    },
    {
      "cell_type": "code",
      "metadata": {
        "id": "dzqf4YaFaxOv"
      },
      "source": [
        "# Perform 10-fold cross validation for each k value (we have a small dataset, so we can do this)\n",
        "for k in klist:\n",
        "    model10 = neighbors.KNeighborsClassifier(n_neighbors=k)\n",
        "    scores = cross_val_score(model10, x, y, cv=10, scoring='accuracy')\n",
        "    cv_scores.append(scores.mean())\n",
        "\n",
        "# Changing to misclassification error\n",
        "errors = 1- np.array(cv_scores)"
      ],
      "execution_count": 42,
      "outputs": []
    },
    {
      "cell_type": "markdown",
      "metadata": {
        "id": "KUDbFgn3bIbf"
      },
      "source": [
        "NOW we can use the error number to determine the optimal k! To do so, we look at our errors and pick the row with the k value that produced the smallest error. \n",
        "\n",
        "To make things easier to understand, we plot the misclassification errors in comparison to k so we can see our results."
      ]
    },
    {
      "cell_type": "code",
      "metadata": {
        "id": "cIRA1hbGbJRp",
        "colab": {
          "base_uri": "https://localhost:8080/",
          "height": 296
        },
        "outputId": "0852d7e8-c792-4adf-b6d8-d1a94fbe1cdc"
      },
      "source": [
        "optimal_k = klist[np.argmin(errors)]\n",
        "print(\"The optimal number of neighbors is {}\".format(optimal_k))\n",
        "\n",
        "# plot misclassification error vs k\n",
        "plt.plot(klist, errors)\n",
        "plt.xlabel('Number of Neighbors K')\n",
        "plt.ylabel('Misclassification Error')\n",
        "plt.show()"
      ],
      "execution_count": 43,
      "outputs": [
        {
          "output_type": "stream",
          "name": "stdout",
          "text": [
            "The optimal number of neighbors is 1\n"
          ]
        },
        {
          "output_type": "display_data",
          "data": {
            "image/png": "[encoded data removed]",
            "text/plain": [
              "<Figure size 432x288 with 1 Axes>"
            ]
          },
          "metadata": {
            "needs_background": "light"
          }
        }
      ]
    },
    {
      "cell_type": "markdown",
      "metadata": {
        "id": "0Ho8UgYSStbv"
      },
      "source": [
        "##Your Turn\n",
        "Re-run this model with k=10 and k=50; for each of these, build and run a confusion matrix and a classification report. What changes? What do your results say about the data?\n",
        "\n",
        "Use the lines below for your code"
      ]
    },
    {
      "cell_type": "code",
      "metadata": {
        "id": "2pK5Kjhuc6q5"
      },
      "source": [
        "model5 = neighbors.KNeighborsClassifier(n_neighbors=50)\n",
        "\n",
        "model5.fit(X_train, y_train)\n",
        "\n",
        "y_pred = model5.predict(X_test)\n",
        "\n",
        "model6= neighbors.KNeighborsClassifier(n_neighbors=10)\n",
        "model6.fit(X_train, y_train)\n",
        "y_pred = model6.predict(X_test)\n",
        "\n",
        "\n",
        "\n"
      ],
      "execution_count": 35,
      "outputs": []
    },
    {
      "cell_type": "code",
      "metadata": {
        "id": "hd1cXY_0c235",
        "colab": {
          "base_uri": "https://localhost:8080/",
          "height": 558
        },
        "outputId": "a94fa9fe-e561-48cc-94a2-3333cb7420f2"
      },
      "source": [
        "plot_confusion_matrix(model5, X_test, y_test)\n",
        "plot_confusion_matrix(model6, X_test, y_test)"
      ],
      "execution_count": 36,
      "outputs": [
        {
          "output_type": "execute_result",
          "data": {
            "text/plain": [
              "<sklearn.metrics._plot.confusion_matrix.ConfusionMatrixDisplay at 0x7fe1a06d9190>"
            ]
          },
          "metadata": {},
          "execution_count": 36
        },
        {
          "output_type": "display_data",
          "data": {
            "image/png": "[encoded data removed]",
            "text/plain": [
              "<Figure size 432x288 with 2 Axes>"
            ]
          },
          "metadata": {
            "needs_background": "light"
          }
        },
        {
          "output_type": "display_data",
          "data": {
            "image/png": "[encoded data removed]",
            "text/plain": [
              "<Figure size 432x288 with 2 Axes>"
            ]
          },
          "metadata": {
            "needs_background": "light"
          }
        }
      ]
    },
    {
      "cell_type": "markdown",
      "metadata": {
        "id": "r9YkRp3gIKig"
      },
      "source": [
        "# **2. Naive Bayes**\n",
        "Naive Bayes methods are a set of supervised learning algorithms based on applying Bayes’ theorem with the “naive” assumption of conditional independence between every pair of features given the value of the class variable. \n",
        "\n",
        "Here is a [great explanation](https://www.datacamp.com/community/tutorials/naive-bayes-scikit-learn) of the principle behind the Bayes Theorem. Read the webpage so you understand what we're up to--if you skip it, nothing below will make sense to you.\n",
        "\n",
        "**WAIT!**\n",
        "Read that first paragraph again. Then go all the way back to the Exploratory Data Analysis (EDA) section of this file. Look closely at the output of the pandas_profile analysis. Read the first paragraph another time. \n"
      ]
    },
    {
      "cell_type": "markdown",
      "metadata": {
        "id": "4r8HEjAvrLhI"
      },
      "source": [
        "##Your Turn\n",
        "Given the results from the EDA, should we conduct a Naive Bayes Analysis, at all? What condition does the insurance2 dataset violate? Type your answer below.\n"
      ]
    },
    {
      "cell_type": "markdown",
      "metadata": {
        "id": "4UwWwpierHF1"
      },
      "source": [
        "Yes we should because of the difference between categorical and numeric attributes."
      ]
    },
    {
      "cell_type": "markdown",
      "metadata": {
        "id": "QXTUHXNvnpG7"
      },
      "source": [
        "##**2.1 Setting up the Environment**\n",
        "We will be working with Scikit-Learn again. More specifically, we will be working with the Gaussian Naive Bayes algorithm. Are there other Naive Bayes algorithms? [Absolutely](https://scikit-learn.org/stable/modules/naive_bayes.html). "
      ]
    },
    {
      "cell_type": "code",
      "metadata": {
        "id": "Cx7DPgs_IKjm"
      },
      "source": [
        "from sklearn.naive_bayes import GaussianNB\n",
        "import sklearn as SL"
      ],
      "execution_count": 62,
      "outputs": []
    },
    {
      "cell_type": "code",
      "metadata": {
        "colab": {
          "base_uri": "https://localhost:8080/",
          "height": 206
        },
        "id": "u0BzHbFflwzU",
        "outputId": "b1131be0-08c5-4dd4-80c4-59604ff9dec1"
      },
      "source": [
        "#Let's verify that the dataset is still what it needs to be:\n",
        "insurance2.head()"
      ],
      "execution_count": 45,
      "outputs": [
        {
          "output_type": "execute_result",
          "data": {
            "text/html": [
              "<div>\n",
              "<style scoped>\n",
              "    .dataframe tbody tr th:only-of-type {\n",
              "        vertical-align: middle;\n",
              "    }\n",
              "\n",
              "    .dataframe tbody tr th {\n",
              "        vertical-align: top;\n",
              "    }\n",
              "\n",
              "    .dataframe thead th {\n",
              "        text-align: right;\n",
              "    }\n",
              "</style>\n",
              "<table border=\"1\" class=\"dataframe\">\n",
              "  <thead>\n",
              "    <tr style=\"text-align: right;\">\n",
              "      <th></th>\n",
              "      <th>age</th>\n",
              "      <th>bmi</th>\n",
              "      <th>children</th>\n",
              "      <th>charges</th>\n",
              "      <th>region</th>\n",
              "    </tr>\n",
              "  </thead>\n",
              "  <tbody>\n",
              "    <tr>\n",
              "      <th>0</th>\n",
              "      <td>19</td>\n",
              "      <td>27.900</td>\n",
              "      <td>0</td>\n",
              "      <td>16884.92400</td>\n",
              "      <td>southwest</td>\n",
              "    </tr>\n",
              "    <tr>\n",
              "      <th>1</th>\n",
              "      <td>18</td>\n",
              "      <td>33.770</td>\n",
              "      <td>1</td>\n",
              "      <td>1725.55230</td>\n",
              "      <td>southeast</td>\n",
              "    </tr>\n",
              "    <tr>\n",
              "      <th>2</th>\n",
              "      <td>28</td>\n",
              "      <td>33.000</td>\n",
              "      <td>3</td>\n",
              "      <td>4449.46200</td>\n",
              "      <td>southeast</td>\n",
              "    </tr>\n",
              "    <tr>\n",
              "      <th>3</th>\n",
              "      <td>33</td>\n",
              "      <td>22.705</td>\n",
              "      <td>0</td>\n",
              "      <td>21984.47061</td>\n",
              "      <td>northwest</td>\n",
              "    </tr>\n",
              "    <tr>\n",
              "      <th>4</th>\n",
              "      <td>32</td>\n",
              "      <td>28.880</td>\n",
              "      <td>0</td>\n",
              "      <td>3866.85520</td>\n",
              "      <td>northwest</td>\n",
              "    </tr>\n",
              "  </tbody>\n",
              "</table>\n",
              "</div>"
            ],
            "text/plain": [
              "   age     bmi  children      charges     region\n",
              "0   19  27.900         0  16884.92400  southwest\n",
              "1   18  33.770         1   1725.55230  southeast\n",
              "2   28  33.000         3   4449.46200  southeast\n",
              "3   33  22.705         0  21984.47061  northwest\n",
              "4   32  28.880         0   3866.85520  northwest"
            ]
          },
          "metadata": {},
          "execution_count": 45
        }
      ]
    },
    {
      "cell_type": "code",
      "metadata": {
        "colab": {
          "base_uri": "https://localhost:8080/"
        },
        "id": "A5FZEpfBq6f-",
        "outputId": "fd34ac62-ce5b-4d55-cc3f-f543d9a40167"
      },
      "source": [
        "insurance2.dtypes"
      ],
      "execution_count": 46,
      "outputs": [
        {
          "output_type": "execute_result",
          "data": {
            "text/plain": [
              "age           int64\n",
              "bmi         float64\n",
              "children      int64\n",
              "charges     float64\n",
              "region       object\n",
              "dtype: object"
            ]
          },
          "metadata": {},
          "execution_count": 46
        }
      ]
    },
    {
      "cell_type": "markdown",
      "metadata": {
        "id": "bQcXqsp6IKlR"
      },
      "source": [
        "##**2.2 Setting up the training and test sets**"
      ]
    },
    {
      "cell_type": "code",
      "metadata": {
        "id": "-IC9jLLNIKlb",
        "colab": {
          "base_uri": "https://localhost:8080/"
        },
        "outputId": "a81eb417-cf48-4e56-f053-6d205bc0dbb8"
      },
      "source": [
        "ins_train, ins_test = train_test_split(insurance2, test_size = 0.2)\n",
        "print(ins_train)\n",
        "print(ins_test)"
      ],
      "execution_count": 47,
      "outputs": [
        {
          "output_type": "stream",
          "name": "stdout",
          "text": [
            "      age     bmi  children      charges     region\n",
            "617    49  25.600         2  23306.54700  southwest\n",
            "857    25  24.130         0  15817.98570  northwest\n",
            "667    40  32.775         2  40003.33225  northwest\n",
            "748    47  36.000         1   8556.90700  southwest\n",
            "679    49  23.180         2  10156.78320  northwest\n",
            "...   ...     ...       ...          ...        ...\n",
            "1158   20  30.590         0   2459.72010  northeast\n",
            "1209   59  37.100         1  12347.17200  southwest\n",
            "1042   20  30.685         0  33475.81715  northeast\n",
            "794    39  31.920         2   7209.49180  northwest\n",
            "260    58  25.200         0  11837.16000  southwest\n",
            "\n",
            "[1070 rows x 5 columns]\n",
            "      age     bmi  children      charges     region\n",
            "986    43  30.115         3   8410.04685  northwest\n",
            "17     23  23.845         0   2395.17155  northeast\n",
            "1283   18  30.030         1   1720.35370  southeast\n",
            "332    61  31.160         0  13429.03540  northwest\n",
            "1186   20  35.625         3  37465.34375  northwest\n",
            "...   ...     ...       ...          ...        ...\n",
            "523    38  37.730         0   5397.61670  southeast\n",
            "134    20  28.785         0   2457.21115  northeast\n",
            "595    46  33.725         1   8823.98575  northeast\n",
            "451    30  24.130         1   4032.24070  northwest\n",
            "1003   48  29.600         0  21232.18226  southwest\n",
            "\n",
            "[268 rows x 5 columns]\n"
          ]
        }
      ]
    },
    {
      "cell_type": "code",
      "metadata": {
        "id": "iBEgLbJqt6nX"
      },
      "source": [
        "ins_train_np = np.array([ins_train])\n",
        "ins_test_np = np.array([ins_test])"
      ],
      "execution_count": 48,
      "outputs": []
    },
    {
      "cell_type": "markdown",
      "metadata": {
        "id": "7h8x3z3sjrn9"
      },
      "source": [
        "##**2.3 Building the model with GaussianNB()**"
      ]
    },
    {
      "cell_type": "code",
      "metadata": {
        "id": "tdkRBdqljpcy",
        "colab": {
          "base_uri": "https://localhost:8080/"
        },
        "outputId": "a81bbdf7-eb0c-44a4-bbcb-dff9cbe2ff4b"
      },
      "source": [
        "ins_naivebayes = GaussianNB()\n",
        "ins_naivebayes"
      ],
      "execution_count": 49,
      "outputs": [
        {
          "output_type": "execute_result",
          "data": {
            "text/plain": [
              "GaussianNB(priors=None, var_smoothing=1e-09)"
            ]
          },
          "metadata": {},
          "execution_count": 49
        }
      ]
    },
    {
      "cell_type": "code",
      "metadata": {
        "id": "8hq_3Bkpqj4I",
        "colab": {
          "base_uri": "https://localhost:8080/"
        },
        "outputId": "9e63895d-cf93-41ec-c0aa-acb92d06d9b4"
      },
      "source": [
        "ins_naivebayes.fit(ins_train[['age','bmi','children','charges']], ins_train['region'])"
      ],
      "execution_count": 58,
      "outputs": [
        {
          "output_type": "execute_result",
          "data": {
            "text/plain": [
              "GaussianNB(priors=None, var_smoothing=1e-09)"
            ]
          },
          "metadata": {},
          "execution_count": 58
        }
      ]
    },
    {
      "cell_type": "markdown",
      "metadata": {
        "id": "_gdUlh18jy8d"
      },
      "source": [
        "##**2.4 Testing the model and calculating the accuracy score**"
      ]
    },
    {
      "cell_type": "code",
      "metadata": {
        "id": "78LcEwVPIKmj",
        "colab": {
          "base_uri": "https://localhost:8080/"
        },
        "outputId": "f3c26352-5e62-4bb8-93ab-7fba72ac6b9c"
      },
      "source": [
        "ins_predictions = ins_naivebayes.predict(ins_test[['age','bmi','children','charges']])\n",
        "SL.metrics.accuracy_score(ins_test['region'], ins_predictions)"
      ],
      "execution_count": 63,
      "outputs": [
        {
          "output_type": "execute_result",
          "data": {
            "text/plain": [
              "0.31716417910447764"
            ]
          },
          "metadata": {},
          "execution_count": 63
        }
      ]
    },
    {
      "cell_type": "markdown",
      "metadata": {
        "id": "g7_xFhTIIKnm"
      },
      "source": [
        "##**2.5 Comparing the predicted and the original values**"
      ]
    },
    {
      "cell_type": "code",
      "metadata": {
        "id": "VrWTCzRQkPAE",
        "colab": {
          "base_uri": "https://localhost:8080/",
          "height": 206
        },
        "outputId": "2f0834cd-9ee9-4185-8ae1-e4cc50c9b980"
      },
      "source": [
        "realvsmodel2 = pd.DataFrame(ins_predictions,ins_test)\n",
        "realvsmodel2 = pd.DataFrame({'predicted':ins_predictions,'original':ins_test['region']})\n",
        "realvsmodel2.head()"
      ],
      "execution_count": 64,
      "outputs": [
        {
          "output_type": "execute_result",
          "data": {
            "text/html": [
              "<div>\n",
              "<style scoped>\n",
              "    .dataframe tbody tr th:only-of-type {\n",
              "        vertical-align: middle;\n",
              "    }\n",
              "\n",
              "    .dataframe tbody tr th {\n",
              "        vertical-align: top;\n",
              "    }\n",
              "\n",
              "    .dataframe thead th {\n",
              "        text-align: right;\n",
              "    }\n",
              "</style>\n",
              "<table border=\"1\" class=\"dataframe\">\n",
              "  <thead>\n",
              "    <tr style=\"text-align: right;\">\n",
              "      <th></th>\n",
              "      <th>predicted</th>\n",
              "      <th>original</th>\n",
              "    </tr>\n",
              "  </thead>\n",
              "  <tbody>\n",
              "    <tr>\n",
              "      <th>986</th>\n",
              "      <td>northwest</td>\n",
              "      <td>northwest</td>\n",
              "    </tr>\n",
              "    <tr>\n",
              "      <th>17</th>\n",
              "      <td>northwest</td>\n",
              "      <td>northeast</td>\n",
              "    </tr>\n",
              "    <tr>\n",
              "      <th>1283</th>\n",
              "      <td>northwest</td>\n",
              "      <td>southeast</td>\n",
              "    </tr>\n",
              "    <tr>\n",
              "      <th>332</th>\n",
              "      <td>northwest</td>\n",
              "      <td>northwest</td>\n",
              "    </tr>\n",
              "    <tr>\n",
              "      <th>1186</th>\n",
              "      <td>southeast</td>\n",
              "      <td>northwest</td>\n",
              "    </tr>\n",
              "  </tbody>\n",
              "</table>\n",
              "</div>"
            ],
            "text/plain": [
              "      predicted   original\n",
              "986   northwest  northwest\n",
              "17    northwest  northeast\n",
              "1283  northwest  southeast\n",
              "332   northwest  northwest\n",
              "1186  southeast  northwest"
            ]
          },
          "metadata": {},
          "execution_count": 64
        }
      ]
    },
    {
      "cell_type": "markdown",
      "metadata": {
        "id": "HEEX_roRTRU-"
      },
      "source": [
        "##Your Turn\n",
        "Plot a confusion matrix. For your code, refer to secion 1.4.2.3 above:"
      ]
    },
    {
      "cell_type": "code",
      "metadata": {
        "id": "r4fD9ZZxnSSR",
        "colab": {
          "base_uri": "https://localhost:8080/",
          "height": 296
        },
        "outputId": "58a94489-95c1-4205-853a-4ab8fdc54888"
      },
      "source": [
        "plot_confusion_matrix(ins_naivebayes, ins_test[['age','bmi','children','charges']], ins_test[['region']])"
      ],
      "execution_count": 71,
      "outputs": [
        {
          "output_type": "execute_result",
          "data": {
            "text/plain": [
              "<sklearn.metrics._plot.confusion_matrix.ConfusionMatrixDisplay at 0x7fe1a0165a50>"
            ]
          },
          "metadata": {},
          "execution_count": 71
        },
        {
          "output_type": "display_data",
          "data": {
            "image/png": "[encoded data removed]",
            "text/plain": [
              "<Figure size 432x288 with 2 Axes>"
            ]
          },
          "metadata": {
            "needs_background": "light"
          }
        }
      ]
    },
    {
      "cell_type": "markdown",
      "metadata": {
        "id": "PiLLUOJKnTGu"
      },
      "source": [
        "## Your Turn\n",
        "Build a classification report. For your code, refer to section 1.4.2.4 above:"
      ]
    },
    {
      "cell_type": "code",
      "metadata": {
        "id": "-6iQSgRjndmw",
        "colab": {
          "base_uri": "https://localhost:8080/"
        },
        "outputId": "887a2f42-7641-48a0-8c98-70c4273d985f"
      },
      "source": [
        "print(classification_report(ins_test['region'], ins_predictions, labels=['southwest', 'southeast', 'northwest', 'northeast']))"
      ],
      "execution_count": 79,
      "outputs": [
        {
          "output_type": "stream",
          "name": "stdout",
          "text": [
            "              precision    recall  f1-score   support\n",
            "\n",
            "   southwest       0.23      0.15      0.18        61\n",
            "   southeast       0.38      0.42      0.40        69\n",
            "   northwest       0.30      0.50      0.37        72\n",
            "   northeast       0.35      0.17      0.23        66\n",
            "\n",
            "    accuracy                           0.32       268\n",
            "   macro avg       0.32      0.31      0.29       268\n",
            "weighted avg       0.32      0.32      0.30       268\n",
            "\n"
          ]
        }
      ]
    },
    {
      "cell_type": "markdown",
      "metadata": {
        "id": "iIWl6D3vneew"
      },
      "source": [
        "##Your Turn\n",
        "Compare the results from the confusion matrix and the classification report for k Nearest Neighbor and Naive Bayes. Which model produces better results? Write your answer into the text field below."
      ]
    },
    {
      "cell_type": "markdown",
      "metadata": {
        "id": "MU-nAxchn3YW"
      },
      "source": [
        "36% of KNN is showing better results compared to the 31% of Naive Bayes."
      ]
    },
    {
      "cell_type": "markdown",
      "metadata": {
        "id": "g22TRE4mTSLE"
      },
      "source": [
        "##Your Turn\n",
        "How valid are the results for the Naive Bayes classification really? Review the assumptions for work with Naive Bayes, especially regarding dependency among independent attribtues, and then look again at the results of the pandas_profiling output above. Write your answer into the text field below.\n",
        "\n"
      ]
    },
    {
      "cell_type": "markdown",
      "metadata": {
        "id": "hCiVwilzrles"
      },
      "source": [
        "corr = ins_train[['age','bmi','children','charges']"
      ]
    },
    {
      "cell_type": "code",
      "metadata": {
        "colab": {
          "base_uri": "https://localhost:8080/",
          "height": 175
        },
        "id": "UHcNijBxr0kl",
        "outputId": "09eb9900-6114-4517-c6b4-abea479c9c09"
      },
      "source": [
        "ins_train[['age','bmi','children','charges']].corr()\n",
        "          "
      ],
      "execution_count": 80,
      "outputs": [
        {
          "output_type": "execute_result",
          "data": {
            "text/html": [
              "<div>\n",
              "<style scoped>\n",
              "    .dataframe tbody tr th:only-of-type {\n",
              "        vertical-align: middle;\n",
              "    }\n",
              "\n",
              "    .dataframe tbody tr th {\n",
              "        vertical-align: top;\n",
              "    }\n",
              "\n",
              "    .dataframe thead th {\n",
              "        text-align: right;\n",
              "    }\n",
              "</style>\n",
              "<table border=\"1\" class=\"dataframe\">\n",
              "  <thead>\n",
              "    <tr style=\"text-align: right;\">\n",
              "      <th></th>\n",
              "      <th>age</th>\n",
              "      <th>bmi</th>\n",
              "      <th>children</th>\n",
              "      <th>charges</th>\n",
              "    </tr>\n",
              "  </thead>\n",
              "  <tbody>\n",
              "    <tr>\n",
              "      <th>age</th>\n",
              "      <td>1.000000</td>\n",
              "      <td>0.090312</td>\n",
              "      <td>0.027041</td>\n",
              "      <td>0.287483</td>\n",
              "    </tr>\n",
              "    <tr>\n",
              "      <th>bmi</th>\n",
              "      <td>0.090312</td>\n",
              "      <td>1.000000</td>\n",
              "      <td>0.004326</td>\n",
              "      <td>0.205876</td>\n",
              "    </tr>\n",
              "    <tr>\n",
              "      <th>children</th>\n",
              "      <td>0.027041</td>\n",
              "      <td>0.004326</td>\n",
              "      <td>1.000000</td>\n",
              "      <td>0.049765</td>\n",
              "    </tr>\n",
              "    <tr>\n",
              "      <th>charges</th>\n",
              "      <td>0.287483</td>\n",
              "      <td>0.205876</td>\n",
              "      <td>0.049765</td>\n",
              "      <td>1.000000</td>\n",
              "    </tr>\n",
              "  </tbody>\n",
              "</table>\n",
              "</div>"
            ],
            "text/plain": [
              "               age       bmi  children   charges\n",
              "age       1.000000  0.090312  0.027041  0.287483\n",
              "bmi       0.090312  1.000000  0.004326  0.205876\n",
              "children  0.027041  0.004326  1.000000  0.049765\n",
              "charges   0.287483  0.205876  0.049765  1.000000"
            ]
          },
          "metadata": {},
          "execution_count": 80
        }
      ]
    },
    {
      "cell_type": "markdown",
      "metadata": {
        "id": "IVMlu10DoYof"
      },
      "source": [
        "##Your Turn\n",
        "So ... given the data that we have, can we reliably predict the region someone lives in based on their age, bmi, number of children, and the $ amount of their insurance claims? Explain in the field below."
      ]
    },
    {
      "cell_type": "markdown",
      "metadata": {
        "id": "uU1Up9ujr8jh"
      },
      "source": [
        "From the correlation i can see that naive bayes can work. overrally we can predict the region where somebody lives based on the attributes given."
      ]
    }
  ]
}