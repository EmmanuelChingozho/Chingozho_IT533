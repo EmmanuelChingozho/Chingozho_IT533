{
  "nbformat": 4,
  "nbformat_minor": 0,
  "metadata": {
    "colab": {
      "name": "Goodreads.ipynb",
      "provenance": [],
      "authorship_tag": "ABX9TyN2+s/Oiam81AMZ2cbnw/6R",
      "include_colab_link": true
    },
    "kernelspec": {
      "name": "python3",
      "display_name": "Python 3"
    },
    "language_info": {
      "name": "python"
    }
  },
  "cells": [
    {
      "cell_type": "markdown",
      "metadata": {
        "id": "view-in-github",
        "colab_type": "text"
      },
      "source": [
        "<a href=\"https://colab.research.google.com/github/EmmanuelChingozho/Chingozho_IT533/blob/main/Goodreads.ipynb\" target=\"_parent\"><img src=\"https://colab.research.google.com/assets/colab-badge.svg\" alt=\"Open In Colab\"/></a>"
      ]
    },
    {
      "cell_type": "code",
      "metadata": {
        "id": "x9Z7_bKLAKCs"
      },
      "source": [
        "import numpy as np\n",
        "import pandas as pd \n",
        "import matplotlib.pyplot as plt\n",
        "\n"
      ],
      "execution_count": 21,
      "outputs": []
    },
    {
      "cell_type": "code",
      "metadata": {
        "colab": {
          "base_uri": "https://localhost:8080/"
        },
        "id": "lFLNAhtbAgHM",
        "outputId": "1034f926-cd8d-4c87-e9f6-e1506bad450e"
      },
      "source": [
        "adult = pd.read_csv(\"https://raw.githubusercontent.com/shstreuber/Data-Mining/master/data/adult.data.simplified.csv\")\n",
        "Books_Data=pd.read_csv(\"https://raw.githubusercontent.com/EmmanuelChingozho/Chingozho_IT533/main/books.csv\")\n",
        "\n",
        "datatypes=Books_Data.dtypes\n",
        "print(datatypes) #DataTypes of columns\n"
      ],
      "execution_count": 3,
      "outputs": [
        {
          "output_type": "stream",
          "name": "stdout",
          "text": [
            "bookID                  int64\n",
            "title                  object\n",
            "authors                object\n",
            "average_rating        float64\n",
            "isbn                   object\n",
            "isbn13                  int64\n",
            "language_code          object\n",
            "# num_pages             int64\n",
            "ratings_count           int64\n",
            "text_reviews_count      int64\n",
            "dtype: object\n"
          ]
        }
      ]
    },
    {
      "cell_type": "code",
      "metadata": {
        "colab": {
          "base_uri": "https://localhost:8080/"
        },
        "id": "O_IElVS3BFJM",
        "outputId": "a2140a8d-41e8-4dd5-dac2-24ea1e31f373"
      },
      "source": [
        "min(Books_Data.average_rating)\n",
        "print(min(Books_Data.average_rating))\n",
        "max(Books_Data.average_rating)\n",
        "Books_Data.average_rating.describe()\n",
        "\n"
      ],
      "execution_count": 10,
      "outputs": [
        {
          "output_type": "stream",
          "name": "stdout",
          "text": [
            "0.0\n"
          ]
        },
        {
          "output_type": "execute_result",
          "data": {
            "text/plain": [
              "count    3500.000000\n",
              "mean        3.940549\n",
              "std         0.326962\n",
              "min         0.000000\n",
              "25%         3.770000\n",
              "50%         3.960000\n",
              "75%         4.130000\n",
              "max         5.000000\n",
              "Name: average_rating, dtype: float64"
            ]
          },
          "metadata": {},
          "execution_count": 10
        }
      ]
    },
    {
      "cell_type": "code",
      "metadata": {
        "colab": {
          "base_uri": "https://localhost:8080/",
          "height": 283
        },
        "id": "zwXJoLPzEYmn",
        "outputId": "6fe7165a-f57f-4cec-fb31-bf2a345a2018"
      },
      "source": [
        "Books_Data.boxplot(column=['average_rating'])"
      ],
      "execution_count": 13,
      "outputs": [
        {
          "output_type": "execute_result",
          "data": {
            "text/plain": [
              "<matplotlib.axes._subplots.AxesSubplot at 0x7f7306af8b10>"
            ]
          },
          "metadata": {},
          "execution_count": 13
        },
        {
          "output_type": "display_data",
          "data": {
            "image/png": "[encoded data removed]",
            "text/plain": [
              "<Figure size 432x288 with 1 Axes>"
            ]
          },
          "metadata": {
            "needs_background": "light"
          }
        }
      ]
    },
    {
      "cell_type": "code",
      "metadata": {
        "colab": {
          "base_uri": "https://localhost:8080/"
        },
        "id": "_g8_JbQEHGHJ",
        "outputId": "52a94430-eefd-434d-d875-073242df6d1e"
      },
      "source": [
        "Point1=np.array(Books_Data.average_rating)\n",
        "Point2=np.array(Books_Data.text_reviews_count)\n",
        "\n",
        "dist = np.linalg.norm(Point1-Point2)\n",
        "print(\"Euclidean distance between our two arrays is:\",dist)"
      ],
      "execution_count": 28,
      "outputs": [
        {
          "output_type": "stream",
          "name": "stdout",
          "text": [
            "Euclidean distance between our two arrays is: 10749709.068311304\n"
          ]
        }
      ]
    },
    {
      "cell_type": "code",
      "metadata": {
        "colab": {
          "base_uri": "https://localhost:8080/"
        },
        "id": "nbVqZoyoLfrP",
        "outputId": "7f1a6007-4ec6-40aa-bd09-ada2b9d7f768"
      },
      "source": [
        "Point1=np.array(Books_Data.average_rating)\n",
        "Point2=np.array(Books_Data.ratings_count)\n",
        "\n",
        "dist = np.linalg.norm(Point1-Point2)\n",
        "print(\"Euclidean distance between our two arrays is:\",dist)"
      ],
      "execution_count": 33,
      "outputs": [
        {
          "output_type": "stream",
          "name": "stdout",
          "text": [
            "Euclidean distance between our two arrays is: 10749709.068311304\n"
          ]
        }
      ]
    },
    {
      "cell_type": "markdown",
      "metadata": {
        "id": "LVB5D1SGL-0n"
      },
      "source": [
        "This data using the boxplot above shows me that books have a below 25% average ratings. We can also see the 5 number summary. We can see the actual rating count number of reviews the books got and not only the text reviews.After calculating the euclidean distance we can see that there is no close relationship with average rating,text review count and rating count."
      ]
    }
  ]
}