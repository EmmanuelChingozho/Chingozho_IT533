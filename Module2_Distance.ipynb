{
  "nbformat": 4,
  "nbformat_minor": 0,
  "metadata": {
    "colab": {
      "name": "Module2_Distance.ipynb",
      "provenance": [],
      "collapsed_sections": [],
      "include_colab_link": true
    },
    "kernelspec": {
      "name": "python3",
      "display_name": "Python 3"
    },
    "language_info": {
      "name": "python"
    }
  },
  "cells": [
    {
      "cell_type": "markdown",
      "metadata": {
        "id": "view-in-github",
        "colab_type": "text"
      },
      "source": [
        "<a href=\"https://colab.research.google.com/github/EmmanuelChingozho/Chingozho_IT533/blob/main/Module2_Distance.ipynb\" target=\"_parent\"><img src=\"https://colab.research.google.com/assets/colab-badge.svg\" alt=\"Open In Colab\"/></a>"
      ]
    },
    {
      "cell_type": "markdown",
      "metadata": {
        "id": "tUfYGJ9xKwXL"
      },
      "source": [
        "#**Module 2: Distance**\n",
        "In this module, you will learn how to\n",
        "\n",
        "* Describe what Euclidean and Manhattan Distance are\n",
        "* Compute Euclidean Distance between two data series\n",
        "* Compute Manhattan Distance between two data series\n",
        "* Use them to interpret data in the adult dataset\n",
        "\n",
        "**Be sure to expand all the hidden cells, run all the code, and do all the exercises--you will need the techniques for the lesson lab!**"
      ]
    },
    {
      "cell_type": "markdown",
      "metadata": {
        "id": "qV2BA6kwL9zt"
      },
      "source": [
        "#What is Distance?#\n",
        "Let's say you want to buy a car. You probably know what you're looking for already: You know the color, the make, and the model year you want, and the budget you have available. What you don't know just yet is, of course, the exact price--that's why you're shopping around. \n",
        "\n",
        "Let's say you are looking for a red 2020 Mercedes for less than $5,000. Here are your shopping notes:\n",
        "\n",
        "* Dealer 1: Red 2012 Audi $4,500\n",
        "\n",
        "* Dealer 2: Silver 2008 Mercedes $8,000\n",
        "\n",
        "* Dealer 3: Red 2020 Chevrolet $4,999\n",
        "\n",
        "Which car are you going to buy?\n",
        "\n",
        "If you were going to use Distance (i.e. **difference**) and a simple boolean algorithm to match these criteria, here is what this would look like:\n",
        "\n",
        "* **Color**: Dealers 1 and 3 have red cars, so they get a 0 for red; Dealer 2 gets a 1 because their car is silver.\n",
        "\n",
        "* **Year**: Dealers 1 and 2 get a 1 because their cars are older; only Dealer 3 gets a 0 because their car is from 2020.\n",
        "\n",
        "* **Make**: Dealers 1 and 3 get a 1 because you were not looking for an Audi or a Chevrolet; you were looking for a Mercedes, which you found at Dealer 2 (who gets a 0).\n",
        "\n",
        "* **Price**: Dealer 2 is too expensive (1); only Dealers 1 and 3 match your criteria (both get a 0). \n",
        "\n",
        "Now we total up the points: Dealer 1 gets 2 points (Year and Make are different); Dealer 2 gets 3 points (Color, Year, and Price are different); Dealer 3 gets 1 point (only the Make is different)--so, the red 2020 Chevy for $4,999 from Dealer 3 is **CLOSEST**to what you were looking for. For all the others, the Distance from your original search is bigger. \n",
        "\n",
        "This example is obviously a gross simplification, but it illustrates one thing: **The closer two data points, or even two data series, are--that is, the more they are alike--the smaller the distance between the two.** \n",
        "\n",
        "There are two major mathematical ways to measure distance in a two-dimensional plane: Euclidean and Manhattan. Then, there are a couple that combine the two. For now, we're keeping things simple.\n",
        "\n",
        "Before we get started, let's set up our environment, though."
      ]
    },
    {
      "cell_type": "markdown",
      "metadata": {
        "id": "gY0ou_C8Lwto"
      },
      "source": [
        "#0. Preparation and Setup#\n",
        "First, we need to call all our basic packages again: pandas, numpy, and matplotlib. Then we'll read in our data file."
      ]
    },
    {
      "cell_type": "code",
      "metadata": {
        "id": "rnIgBH7eKtnv"
      },
      "source": [
        "import numpy as np\n",
        "import pandas as pd \n",
        "import matplotlib.pyplot as plt"
      ],
      "execution_count": 2,
      "outputs": []
    },
    {
      "cell_type": "markdown",
      "metadata": {
        "id": "fVQu_RvrLpp4"
      },
      "source": [
        "Now, we are going to read in the adult dataset again from the instructor's GitHub. When you work with your own dataset, the name of the dataframe and the URL will change based on what you choose to call your own dataframe and what you have named your own repository on GitHub (required: yourlastname_IT533)"
      ]
    },
    {
      "cell_type": "code",
      "metadata": {
        "id": "VSWIXWYVLdkD"
      },
      "source": [
        "adult = pd.read_csv(\"https://raw.githubusercontent.com/shstreuber/Data-Mining/master/data/adult.data.simplified.csv\")"
      ],
      "execution_count": 3,
      "outputs": []
    },
    {
      "cell_type": "markdown",
      "metadata": {
        "id": "lFZwDq8mtu3B"
      },
      "source": [
        "#1. Euclidean Distance#\n",
        "The Euclidean distance between two points in either the plane or 3-dimensional space measures the length of a segment connecting the two points. It is the most obvious way of [representing distance between two points](https://github.com/shstreuber/Data-Mining/blob/master/images/Euclidean_distance.png):\n",
        "\n",
        "<img src=\"https://github.com/shstreuber/Data-Mining/blob/master/images/Euclidean_distance.png\" width=200 height=200>\n",
        "\n",
        "As you can see, in this graphic, the Pythagorean theorem leads us to calculate side d like this:\n",
        "\n",
        "            ** √((x2−x1)^2+(y2−y1)^2)`**\n",
        "\n",
        "##And how does this work in Python?##\n",
        "It's not that hard to compute the Euclidean distance with straight-up Python math, as long as you take your time and go stepwise. Pandas and numpy help us with that. The basic principle is shown below, first with dummy data and then with the adult dataset (explanations are in comments). \n",
        "\n",
        "It's ok to skip ahead to the section with the adult dataset, if you are out of time."
      ]
    },
    {
      "cell_type": "markdown",
      "metadata": {
        "id": "L-NSGEaPfJE-"
      },
      "source": [
        "##1.1 Euclidean distance using straight-forward math##\n",
        "We will set up a quick dummy dataset and do the math as the second step."
      ]
    },
    {
      "cell_type": "code",
      "metadata": {
        "colab": {
          "base_uri": "https://localhost:8080/"
        },
        "id": "tslHqjIKsom4",
        "outputId": "63d70c84-f42a-40c7-9016-4fe98ed03533"
      },
      "source": [
        "# Here, I am creating a quick dummy dataset. You won't need to do this with the adult dataset\n",
        "# or with any data series that is already formatted as a series.\n",
        "\n",
        "# We build two series called x and y\n",
        "x = pd.Series([1, 2, 3, 4, 5])\n",
        "y = pd.Series([6, 7, 8, 9, 10])\n",
        "\n",
        "# Let's check what x and y contain:\n",
        "print(\"Series 1:\")\n",
        "print(x)\n",
        "  \n",
        "print(\"Series 2:\")\n",
        "print(y)"
      ],
      "execution_count": 4,
      "outputs": [
        {
          "output_type": "stream",
          "name": "stdout",
          "text": [
            "Series 1:\n",
            "0    1\n",
            "1    2\n",
            "2    3\n",
            "3    4\n",
            "4    5\n",
            "dtype: int64\n",
            "Series 2:\n",
            "0     6\n",
            "1     7\n",
            "2     8\n",
            "3     9\n",
            "4    10\n",
            "dtype: int64\n"
          ]
        }
      ]
    },
    {
      "cell_type": "markdown",
      "metadata": {
        "id": "Z7JhgHNJ2Kl9"
      },
      "source": [
        "Alright. The dataset is in place and correctly formatted. Now we start setting up the Euclidean distance formula. "
      ]
    },
    {
      "cell_type": "code",
      "metadata": {
        "colab": {
          "base_uri": "https://localhost:8080/"
        },
        "id": "42v5WYIZdwoL",
        "outputId": "1f6d5671-d1d1-4f84-f58d-31d3482c05d3"
      },
      "source": [
        "# First, we square each datapoint as a in series x and save the array into p1\n",
        "# Then, we square each datapoint as b in series y and save the array into p2\n",
        "p1 = np.sum([(a * a) for a in x])\n",
        "p2 = np.sum([(b * b) for b in y])\n",
        "\n",
        "# Now we can build the formula with the squared values\n",
        "# The numpy zip() function makes it easy to iterate through x and y\n",
        "dist = np.sqrt(np.sum([(a-b)*(a-b) for a, b in zip(x, y)])) \n",
        "\n",
        "# So, what's the distance?:\n",
        "print(\"Euclidean distance between our two series is:\", dist)"
      ],
      "execution_count": 5,
      "outputs": [
        {
          "output_type": "stream",
          "name": "stdout",
          "text": [
            "Euclidean distance between our two series is: 11.180339887498949\n"
          ]
        }
      ]
    },
    {
      "cell_type": "markdown",
      "metadata": {
        "id": "9FqqnwG62Pv3"
      },
      "source": [
        "The entire operation took 3 lines of code. That was ... fun? Maybe? Is there an easier way?"
      ]
    },
    {
      "cell_type": "markdown",
      "metadata": {
        "id": "XCpZmcmjgxrs"
      },
      "source": [
        "##1.2 Euclidean distance using dot product##\n",
        "Now let's do this math differently, not with pandas, but with numpy. For this, we will need our data to look like an **array** and not like a series. **Arrays are one of the most common ways to work with data in Python.**"
      ]
    },
    {
      "cell_type": "code",
      "metadata": {
        "colab": {
          "base_uri": "https://localhost:8080/"
        },
        "id": "T6mYxpvyg2tR",
        "outputId": "e1e44bda-9ddb-49de-b2ab-fa2395b88e1f"
      },
      "source": [
        "# First, we build our data again, but this time as arrays, This will allow us to do simple vector math!\n",
        "\n",
        "point1 = np.array((1, 2, 3, 4, 5))\n",
        "point2 = np.array((6, 7, 8, 9, 10))\n",
        "  \n",
        " # Let's check what x and y contain:\n",
        "print(\"Array 1:\")\n",
        "print(point1)\n",
        "  \n",
        "print(\"Array 2:\")\n",
        "print(point2)"
      ],
      "execution_count": 6,
      "outputs": [
        {
          "output_type": "stream",
          "name": "stdout",
          "text": [
            "Array 1:\n",
            "[1 2 3 4 5]\n",
            "Array 2:\n",
            "[ 6  7  8  9 10]\n"
          ]
        }
      ]
    },
    {
      "cell_type": "code",
      "metadata": {
        "colab": {
          "base_uri": "https://localhost:8080/"
        },
        "id": "K6H-W4Kik-5i",
        "outputId": "98a311af-43ad-4c30-c766-775d3306afd6"
      },
      "source": [
        "# Now we subtract point 2 from point 1.\n",
        "temp = point1 - point2\n",
        "  \n",
        "# Then we use the dot product to find the sum of squares\n",
        "sum_sq = np.dot(temp.T, temp)\n",
        "  \n",
        "# All we need now is to tae the spare root of the sum of squares\n",
        "print(\"Euclidean distance between our two arrays is:\",np.sqrt(sum_sq))"
      ],
      "execution_count": 9,
      "outputs": [
        {
          "output_type": "stream",
          "name": "stdout",
          "text": [
            "Euclidean distance between our two arrays is: 11.180339887498949\n"
          ]
        }
      ]
    },
    {
      "cell_type": "markdown",
      "metadata": {
        "id": "2alKv_B44cHb"
      },
      "source": [
        "Still three rows. We can do better."
      ]
    },
    {
      "cell_type": "markdown",
      "metadata": {
        "id": "F_7OwcFFp5-a"
      },
      "source": [
        "##1.3 Euclidean distance using linalg.norm##\n",
        "You didn't sign up for this course to program straight-forward math, right? Numpy contains the very convenient [linalg.norm function](https://numpy.org/doc/stable/reference/generated/numpy.linalg.norm.html):"
      ]
    },
    {
      "cell_type": "code",
      "metadata": {
        "colab": {
          "base_uri": "https://localhost:8080/"
        },
        "id": "3B3OmcwiqL08",
        "outputId": "dc0414e1-d7f0-4f82-8609-3be6d6c5b38e"
      },
      "source": [
        "dist = np.linalg.norm(point1 - point2)\n",
        "  \n",
        "# printing Euclidean distance\n",
        "print(\"Euclidean distance between our two arrays is:\",dist)"
      ],
      "execution_count": 8,
      "outputs": [
        {
          "output_type": "stream",
          "name": "stdout",
          "text": [
            "Euclidean distance between our two arrays is: 11.180339887498949\n"
          ]
        }
      ]
    },
    {
      "cell_type": "markdown",
      "metadata": {
        "id": "7E2W_-r_-Gom"
      },
      "source": [
        "One line (and one to print the result)--now we're talking!"
      ]
    },
    {
      "cell_type": "markdown",
      "metadata": {
        "id": "Y7mBBLJef14r"
      },
      "source": [
        "##1.4 Euclidean Distance and the adult dataset##\n",
        "Now let's try this on the adult dataset.\n",
        "\n",
        "Our question to ask: Does incomeUSD depend more on a person's age or on their educationyears? In other words, we want to find out which of these two attributes is closer to incomeUSD.\n",
        "\n",
        "**First, age**:"
      ]
    },
    {
      "cell_type": "code",
      "metadata": {
        "colab": {
          "base_uri": "https://localhost:8080/"
        },
        "id": "szIOr4Gcx8Xg",
        "outputId": "7403680b-2b08-4db5-e229-78d094911c69"
      },
      "source": [
        "point1 = np.array((adult.age))\n",
        "point2 = np.array((adult.incomeUSD))\n",
        "  \n",
        " # Let's check what x and y contain:\n",
        "print(\"Array 1:\")\n",
        "print(point1)\n",
        "  \n",
        "print(\"Array 2:\")\n",
        "print(point2)"
      ],
      "execution_count": 10,
      "outputs": [
        {
          "output_type": "stream",
          "name": "stdout",
          "text": [
            "Array 1:\n",
            "[39 50 38 ... 58 22 52]\n",
            "Array 2:\n",
            "[ 43747  38907  25055 ...  46073  29618 196782]\n"
          ]
        }
      ]
    },
    {
      "cell_type": "code",
      "metadata": {
        "colab": {
          "base_uri": "https://localhost:8080/"
        },
        "id": "qQY8YukGzauF",
        "outputId": "1f0c6a39-6143-4f7f-9434-cb634f30436f"
      },
      "source": [
        "dist = np.linalg.norm(point1 - point2)\n",
        "  \n",
        "# printing Euclidean distance\n",
        "print(\"Euclidean distance between age and incomeUSD is:\", dist)"
      ],
      "execution_count": 11,
      "outputs": [
        {
          "output_type": "stream",
          "name": "stdout",
          "text": [
            "Euclidean distance between age and incomeUSD is: 12969807.476741742\n"
          ]
        }
      ]
    },
    {
      "cell_type": "markdown",
      "metadata": {
        "id": "G3DvcAXq0IZD"
      },
      "source": [
        "##**Your Turn**\n",
        "In the space below, do the same transformation (that's a data-sciency way to say \"ensure your data is in (here) array format>\") and calculation, but for the educationyears attribute in comparison to incomeUSD.\n",
        "\n",
        "First, transform the data into array format:"
      ]
    },
    {
      "cell_type": "code",
      "metadata": {
        "id": "PlA4WbGc5jUz",
        "colab": {
          "base_uri": "https://localhost:8080/"
        },
        "outputId": "0f5741fb-b066-4b17-f52d-d9ab72b9ab58"
      },
      "source": [
        "point1 = np.array((adult.educationyears))\n",
        "point2 = np.array((adult.incomeUSD))\n",
        "dist = np.linalg.norm(point1 - point2)\n",
        "print(dist)\n",
        "\n"
      ],
      "execution_count": 14,
      "outputs": [
        {
          "output_type": "stream",
          "name": "stdout",
          "text": [
            "12974071.632952549\n"
          ]
        }
      ]
    },
    {
      "cell_type": "markdown",
      "metadata": {
        "id": "giZzBb4h5l1B"
      },
      "source": [
        "Second, use linalg (just like I did above) or dot product (just for fun) to calculate the Euclidean distance:"
      ]
    },
    {
      "cell_type": "code",
      "metadata": {
        "id": "fTibPO3M5kHl",
        "colab": {
          "base_uri": "https://localhost:8080/"
        },
        "outputId": "49fb3b06-b6e2-4e35-eab1-8aef5edfdce9"
      },
      "source": [
        "dist = np.linalg.norm(point1 - point2)\n",
        "print(\"Euclidean distance between our two arrays is:\",dist)\n",
        "\n",
        "#sqrt((x1-y1)^2 + (x2-y2)^2)\n",
        "#print(point1[0])\n",
        "#print(point2[0])\n",
        "#distance=point1-point2\n",
        "#distance=np.power(distance,2)\n",
        "#distance=np.sum(distance) \n",
        "#distance=np.sqrt(distance)\n",
        "#print(distance)"
      ],
      "execution_count": 18,
      "outputs": [
        {
          "output_type": "stream",
          "name": "stdout",
          "text": [
            "Euclidean distance between our two arrays is: 12974071.632952549\n"
          ]
        }
      ]
    },
    {
      "cell_type": "markdown",
      "metadata": {
        "id": "RmEC1uZM54e8"
      },
      "source": [
        "Third, use your good judgment and compare the Euclidean distance I have calculated comparing age and incomeUSD with the Euclidean distance you have calculated comparing educationyears and incomeUSD. A smaller distance number shows you that the two attributes are more closely related. A larger distance number shows you that they are not as closely related.\n",
        "\n",
        "**Now you can answer our question**: Which distance is smaller? In other words, what attribute determines a person's incomeUSD more--age or educationyears? Type your answer in the text box below:"
      ]
    },
    {
      "cell_type": "markdown",
      "metadata": {
        "id": "MQLB5rr67FuC"
      },
      "source": [
        "Comparing age and incomeUSD the distance is smaller meaning these two attributes are related. Now comparing educationyears and incomeUSD the distance is large meaning these attributed are not closely related."
      ]
    },
    {
      "cell_type": "code",
      "metadata": {
        "id": "lIISqTDwswDl"
      },
      "source": [
        ""
      ],
      "execution_count": null,
      "outputs": []
    },
    {
      "cell_type": "markdown",
      "metadata": {
        "id": "U25aWrU7scV0"
      },
      "source": [
        "#2. Manhattan Distance#\n",
        "The Manhattan distance, also often called rectilinear or city block distance, between two points is measured along axes at right angles. In a plane with p1 at (x1, y1) and p2 at (x2, y2), it is \n",
        "\n",
        "            **|x1 - x2| + |y1 - y2|**\n",
        "\n",
        "In our [graphic], (https://github.com/shstreuber/Data-Mining/blob/master/images/Euclidean_distance.png), the measurement goes at an angle through the lower right-hand point. \n",
        "\n",
        "\n",
        "\n",
        "\n"
      ]
    },
    {
      "cell_type": "markdown",
      "metadata": {
        "id": "c13dyZYT7vHH"
      },
      "source": [
        "##2.1 Math? Not again, please!\n",
        "Ok, ok, I get it: If you wanted to calculate things with complicated formulas, you would have taken a Math class and not a class in which we should be using easy programming methods. Fine, then. BUT we'll need a different Python library to accomplish \"no math\": \n",
        "\n",
        "**The [SciPy library](https://www.scipy.org/) does all the math for us.**"
      ]
    },
    {
      "cell_type": "code",
      "metadata": {
        "id": "rK8XzQQ381WG"
      },
      "source": [
        "import scipy.spatial.distance as dist"
      ],
      "execution_count": 19,
      "outputs": []
    },
    {
      "cell_type": "markdown",
      "metadata": {
        "id": "hXAfBplG8620"
      },
      "source": [
        "Now, we set up our data. You already know this from section 1 above."
      ]
    },
    {
      "cell_type": "code",
      "metadata": {
        "colab": {
          "base_uri": "https://localhost:8080/"
        },
        "id": "nS9QC6fD9QC3",
        "outputId": "fe5a5c95-bc67-463a-c686-2c5d8f0b488f"
      },
      "source": [
        "point1 = np.array((1, 2, 3, 4, 5))\n",
        "point2 = np.array((6, 7, 8, 9, 10))\n",
        "\n",
        "print ('Here is our sample data')\n",
        "print ('------------------------')\n",
        "print (\"Array 1:\", point1)\n",
        "print (\"Array 2:\", point2)"
      ],
      "execution_count": 21,
      "outputs": [
        {
          "output_type": "stream",
          "name": "stdout",
          "text": [
            "Here is our sample data\n",
            "------------------------\n",
            "Array 1: [1 2 3 4 5]\n",
            "Array 2: [ 6  7  8  9 10]\n"
          ]
        }
      ]
    },
    {
      "cell_type": "markdown",
      "metadata": {
        "id": "3S5nM8Fc9bRE"
      },
      "source": [
        "Time to program our algorithm!"
      ]
    },
    {
      "cell_type": "code",
      "metadata": {
        "colab": {
          "base_uri": "https://localhost:8080/"
        },
        "id": "fJl3PwXF9BGZ",
        "outputId": "0629390d-bf08-4622-a607-d06001b5142a"
      },
      "source": [
        "print (\"Manhattan Distance:\", dist.cityblock(point1,point2))"
      ],
      "execution_count": 22,
      "outputs": [
        {
          "output_type": "stream",
          "name": "stdout",
          "text": [
            "Manhattan Distance: 25\n"
          ]
        }
      ]
    },
    {
      "cell_type": "markdown",
      "metadata": {
        "id": "4lSWH4dKA1jx"
      },
      "source": [
        "**Wait, WHAT?** That was quick! Can we do that with Euclidean Distance, too?"
      ]
    },
    {
      "cell_type": "code",
      "metadata": {
        "colab": {
          "base_uri": "https://localhost:8080/"
        },
        "id": "NDXm75noA7uj",
        "outputId": "b8fad36a-f144-489f-9c6c-3221dce04144"
      },
      "source": [
        "print (\"Euclidean Distance:\", dist.euclidean(point1,point2))"
      ],
      "execution_count": 23,
      "outputs": [
        {
          "output_type": "stream",
          "name": "stdout",
          "text": [
            "Euclidean Distance: 11.180339887498949\n"
          ]
        }
      ]
    },
    {
      "cell_type": "markdown",
      "metadata": {
        "id": "cpeOPus1BHKr"
      },
      "source": [
        "One line! No math! So short! So elegant! And, of course, different from our Euclidean measurement because we're not measuring the direct connection, but we're going around the \"cityblocks\" to get from our first to our second point.\n",
        "\n",
        "**We have reached the goal!**"
      ]
    },
    {
      "cell_type": "markdown",
      "metadata": {
        "id": "g3kfVRnzBVPf"
      },
      "source": [
        "##2.2 Manhattan Distance and the adult dataset\n",
        "Let's take the show on the road again, with our adult dataset. To show you the entire process, we'll walk through the array conversion step first and then display the Manhattan Distance.\n",
        "\n",
        "I'm again working with the age and incomeUSD attributes. Your job is to compute the educationyears and incomeUSD attributes."
      ]
    },
    {
      "cell_type": "code",
      "metadata": {
        "colab": {
          "base_uri": "https://localhost:8080/"
        },
        "id": "QR-cwwKJBuw_",
        "outputId": "ea980c79-4a02-4208-d1f0-1fafedfc9f9d"
      },
      "source": [
        "point1 = np.array((adult.age))\n",
        "point2 = np.array((adult.incomeUSD))\n",
        "\n",
        "print (\"Manhattan Distance between age and incomeUSD:\", dist.cityblock(point1,point2))"
      ],
      "execution_count": 24,
      "outputs": [
        {
          "output_type": "stream",
          "name": "stdout",
          "text": [
            "Manhattan Distance between age and incomeUSD: 1841172130\n"
          ]
        }
      ]
    },
    {
      "cell_type": "markdown",
      "metadata": {
        "id": "Fhp6G3lXCt9g"
      },
      "source": [
        "##**Your Turn**\n",
        "Now, do the same thing I did above with age and incomeUSD, but with educationyears and incomeUSD. You'll need to set up your arrays and then use the print function to display the Manhattan distance."
      ]
    },
    {
      "cell_type": "code",
      "metadata": {
        "id": "0F7orqZzDpYQ",
        "colab": {
          "base_uri": "https://localhost:8080/"
        },
        "outputId": "c0c30f46-1b0a-4707-c132-b6d756b95af4"
      },
      "source": [
        "point1 = np.array((adult.educationyears))\n",
        "point2 = np.array((adult.incomeUSD))\n",
        "print (\"Manhattan Distance between age and incomeUSD:\", dist.cityblock(point1,point2))\n"
      ],
      "execution_count": 25,
      "outputs": [
        {
          "output_type": "stream",
          "name": "stdout",
          "text": [
            "Manhattan Distance between age and incomeUSD: 1842100150\n"
          ]
        }
      ]
    },
    {
      "cell_type": "markdown",
      "metadata": {
        "id": "Q_ruq0TpD5ZN"
      },
      "source": [
        "Compare your results about educationyears and incomeUSD to my results about age and incomeUSD. Which attribute is close to incomeUSD--age or educationyears? Type your answer below:"
      ]
    },
    {
      "cell_type": "markdown",
      "metadata": {
        "id": "YfYgTvhAEGyF"
      },
      "source": [
        "The attribute close to incomeUSD is age because of the lower distance."
      ]
    },
    {
      "cell_type": "markdown",
      "metadata": {
        "id": "_XwLzjgeseqA"
      },
      "source": [
        "#3. Why does this matter?#\n",
        "Honestly, for our purposes, the kind of distance calculation that you're using doesn't matter as long as you use one of the formulas above in order to calculate distance. That said, the most popular distance formula I have seen is the **Euclidian distance** because it is the most direct connection between two points.\n",
        "\n",
        "**Want more information?**\n",
        "\n",
        "* Towardsdatascience has [a great blog entry](https://towardsdatascience.com/a-short-introduction-to-distance-measures-in-machine-learning-886fb579d148) about distance.\n",
        "\n",
        "* If you are interested in what else the SciPy package has to offer, check out [this post on Kaggle](https://www.kdnuggets.com/2017/08/comparing-distance-measurements-python-scipy.html)."
      ]
    }
  ]
}